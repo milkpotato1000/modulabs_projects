{
 "cells": [
  {
   "cell_type": "markdown",
   "id": "0fe2acbe-3237-4ae3-939b-e1093140f4ad",
   "metadata": {
    "id": "0fe2acbe-3237-4ae3-939b-e1093140f4ad"
   },
   "source": [
    "## **LLM의 한계를 너머, Tool & Agent**"
   ]
  },
  {
   "cell_type": "markdown",
   "id": "8106c0ac-913e-4e2a-98f6-e7462cd4efbe",
   "metadata": {
    "id": "8106c0ac-913e-4e2a-98f6-e7462cd4efbe"
   },
   "source": [
    "### **Tavily AI로 검색 기반 에이전트 구축하기**"
   ]
  },
  {
   "cell_type": "markdown",
   "id": "04634796-2df4-43cc-84b8-01daeb562ea0",
   "metadata": {
    "id": "04634796-2df4-43cc-84b8-01daeb562ea0"
   },
   "source": [
    "**Tavily AI를 인터넷 검색 Tool로 설정**"
   ]
  },
  {
   "cell_type": "code",
   "execution_count": null,
   "id": "rmKBX3VVTrh4",
   "metadata": {
    "id": "rmKBX3VVTrh4"
   },
   "outputs": [],
   "source": [
    "# !pip install langchain langchain_community langchain-openai pypdf langchain-text-splitters faiss-cpu"
   ]
  },
  {
   "cell_type": "code",
   "execution_count": null,
   "id": "3f7298e3-c8f0-4a49-9a3f-c6ed0ae17e5c",
   "metadata": {
    "id": "3f7298e3-c8f0-4a49-9a3f-c6ed0ae17e5c"
   },
   "outputs": [],
   "source": [
    "import os\n",
    "from langchain_community.tools.tavily_search import TavilySearchResults\n",
    "\n",
    "#Tavily AI API Key 환경변수 설정\n",
    "os.environ[\"OPENAI_API_KEY\"] = \"YOUR_OPENAI_API_KEY\"\n",
    "os.environ['TAVILY_API_KEY']=\"YOUR_TAVILY_API_KEY\"\n",
    "tools = [TavilySearchResults()]"
   ]
  },
  {
   "cell_type": "markdown",
   "id": "b345040f-921f-40bd-888a-f28903ac112f",
   "metadata": {
    "id": "b345040f-921f-40bd-888a-f28903ac112f"
   },
   "source": [
    "**Agent 구축**"
   ]
  },
  {
   "cell_type": "code",
   "execution_count": null,
   "id": "78cd6ed8-d8f8-49bd-8346-0ce4edf7db12",
   "metadata": {
    "id": "78cd6ed8-d8f8-49bd-8346-0ce4edf7db12"
   },
   "outputs": [],
   "source": [
    "from langchain import hub\n",
    "from langchain_openai import ChatOpenAI\n",
    "from langchain.agents import AgentExecutor, create_openai_tools_agent\n",
    "\n",
    "#Agent에서 Tool을 활용하기 위한 프롬프트\n",
    "prompt = hub.pull(\"hwchase17/openai-tools-agent\")\n",
    "llm = ChatOpenAI(model=\"gpt-4o-mini\", temperature=0)\n",
    "#LLM, Tool, 프롬프트를 사용하여 에이전트 생성\n",
    "agent = create_openai_tools_agent(llm, tools, prompt)"
   ]
  },
  {
   "cell_type": "code",
   "execution_count": null,
   "id": "3f549ced-98c2-45ec-8048-aa79bfdce905",
   "metadata": {
    "id": "3f549ced-98c2-45ec-8048-aa79bfdce905"
   },
   "outputs": [],
   "source": [
    "agent_executor = AgentExecutor(agent=agent, tools=tools, verbose=True)\n",
    "agent_executor.invoke({\"input\": \"GPT-4o가 뭐야?\"})"
   ]
  },
  {
   "cell_type": "markdown",
   "id": "4f2bb00c-1eb0-4a10-8a2c-85d93820fe39",
   "metadata": {
    "id": "4f2bb00c-1eb0-4a10-8a2c-85d93820fe39"
   },
   "source": [
    "### **Langchain으로 벡터 DB & 인터넷 검색 Agent 구축하기**"
   ]
  },
  {
   "cell_type": "markdown",
   "id": "60dbdef7-afb9-4928-b7bc-2a1771f0a586",
   "metadata": {
    "id": "60dbdef7-afb9-4928-b7bc-2a1771f0a586"
   },
   "source": [
    "**Tavily AI를 인터넷 검색 Tool로 설정**"
   ]
  },
  {
   "cell_type": "code",
   "execution_count": null,
   "id": "3306b468-c74e-402c-8ead-c273a0df6fe0",
   "metadata": {
    "id": "3306b468-c74e-402c-8ead-c273a0df6fe0"
   },
   "outputs": [],
   "source": [
    "import os\n",
    "from langchain_community.tools.tavily_search import TavilySearchResults\n",
    "\n",
    "#Tavily AI API Key 환경변수 설정\n",
    "os.environ[\"OPENAI_API_KEY\"] = \"YOUR_OPENAI_API_KEY\"\n",
    "os.environ['TAVILY_API_KEY']=\"YOUR_TAVILY_API_KEY\"\n",
    "search = TavilySearchResults()"
   ]
  },
  {
   "cell_type": "markdown",
   "id": "402d7f70-3133-4700-b11e-f9c312f32c43",
   "metadata": {
    "id": "402d7f70-3133-4700-b11e-f9c312f32c43"
   },
   "source": [
    "**벡터 DB 구축**"
   ]
  },
  {
   "cell_type": "code",
   "execution_count": null,
   "id": "a676cbb3-32dc-47cc-a26c-6b69ceaef967",
   "metadata": {
    "id": "a676cbb3-32dc-47cc-a26c-6b69ceaef967"
   },
   "outputs": [],
   "source": [
    "from langchain.document_loaders import PyPDFLoader\n",
    "from langchain.vectorstores import FAISS\n",
    "from langchain_openai import OpenAIEmbeddings\n",
    "from langchain_text_splitters import RecursiveCharacterTextSplitter\n",
    "\n",
    "loader = PyPDFLoader(\"../data/★육아휴직제도 사용안내서_배포.pdf\")\n",
    "docs = loader.load()\n",
    "documents = RecursiveCharacterTextSplitter(\n",
    "    chunk_size=1000, chunk_overlap=200).split_documents(docs)\n",
    "vector = FAISS.from_documents(documents, OpenAIEmbeddings())\n",
    "retriever = vector.as_retriever()\n"
   ]
  },
  {
   "cell_type": "markdown",
   "id": "5b52a50a-122b-4aa8-8dcb-e5f75996af6b",
   "metadata": {
    "id": "5b52a50a-122b-4aa8-8dcb-e5f75996af6b"
   },
   "source": [
    "**create_retriever_tool로 벡터 DB 검색 툴 설정**"
   ]
  },
  {
   "cell_type": "code",
   "execution_count": null,
   "id": "aac0543b-e663-40d8-9eac-9cb615b3348e",
   "metadata": {
    "id": "aac0543b-e663-40d8-9eac-9cb615b3348e"
   },
   "outputs": [],
   "source": [
    "from langchain.tools.retriever import create_retriever_tool\n",
    "#벡터 DB 검색을 위한 검색 도구 설정\n",
    "retriever_tool = create_retriever_tool(\n",
    "    retriever,\n",
    "    \"parental_leave\",\n",
    "    \"육아휴직과 관련한 정보를 검색합니다. 육아 휴직 관련한 질문이 입력되면 이 도구를 사용합니다.\",\n",
    ")"
   ]
  },
  {
   "cell_type": "markdown",
   "id": "56187331-dc07-4512-b2d0-044d01667fcb",
   "metadata": {
    "id": "56187331-dc07-4512-b2d0-044d01667fcb"
   },
   "source": [
    "**Agent 구축**"
   ]
  },
  {
   "cell_type": "code",
   "execution_count": null,
   "id": "7563c4bb-dcff-45df-b55d-14d0a01c538f",
   "metadata": {
    "id": "7563c4bb-dcff-45df-b55d-14d0a01c538f"
   },
   "outputs": [],
   "source": [
    "from langchain_openai import ChatOpenAI\n",
    "from langchain import hub\n",
    "from langchain.agents import create_openai_tools_agent\n",
    "from langchain.agents import AgentExecutor\n",
    "\n",
    "tools = [search, retriever_tool]\n",
    "llm = ChatOpenAI(model=\"gpt-4o-mini\", temperature=0)\n",
    "prompt = hub.pull(\"hwchase17/openai-functions-agent\")\n",
    "agent = create_openai_tools_agent(llm, tools, prompt)\n",
    "agent_executor = AgentExecutor(agent=agent, tools=tools, verbose=True)\n",
    "agent_executor.invoke({\"input\": \"육아휴직은 어떻게 사용할 수 있어?\"})"
   ]
  },
  {
   "cell_type": "markdown",
   "id": "95a19e63-2202-4ba6-b4be-c07b0d2b573d",
   "metadata": {
    "id": "95a19e63-2202-4ba6-b4be-c07b0d2b573d"
   },
   "source": [
    "**벡터DB를 활용하는 질문**"
   ]
  },
  {
   "cell_type": "code",
   "execution_count": null,
   "id": "3e5b84d2-68e2-4757-a4e8-a0d16a506840",
   "metadata": {
    "id": "3e5b84d2-68e2-4757-a4e8-a0d16a506840"
   },
   "outputs": [],
   "source": [
    "agent_executor.invoke({\"input\": \"육아휴직은 어떻게 사용할 수 있어?\"})"
   ]
  },
  {
   "cell_type": "markdown",
   "id": "2f94831a-d17d-4ffe-86aa-d11670bb540a",
   "metadata": {
    "id": "2f94831a-d17d-4ffe-86aa-d11670bb540a"
   },
   "source": [
    "**인터넷 검색을 활용하는 질문**"
   ]
  },
  {
   "cell_type": "code",
   "execution_count": null,
   "id": "4da25e06-dfda-4cbc-9157-2e073985c29d",
   "metadata": {
    "id": "4da25e06-dfda-4cbc-9157-2e073985c29d"
   },
   "outputs": [],
   "source": [
    "agent_executor.invoke({\"input\": \"현재 대한민국의 인구는 몇명이야?\"})"
   ]
  },
  {
   "cell_type": "code",
   "execution_count": null,
   "id": "pDo0D71VU3mF",
   "metadata": {
    "id": "pDo0D71VU3mF"
   },
   "outputs": [],
   "source": []
  }
 ],
 "metadata": {
  "colab": {
   "provenance": []
  },
  "kernelspec": {
   "display_name": "Python 3 (ipykernel)",
   "language": "python",
   "name": "python3"
  },
  "language_info": {
   "codemirror_mode": {
    "name": "ipython",
    "version": 3
   },
   "file_extension": ".py",
   "mimetype": "text/x-python",
   "name": "python",
   "nbconvert_exporter": "python",
   "pygments_lexer": "ipython3",
   "version": "3.12.7"
  }
 },
 "nbformat": 4,
 "nbformat_minor": 5
}
