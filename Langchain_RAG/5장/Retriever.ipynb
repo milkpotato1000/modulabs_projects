{
 "cells": [
  {
   "cell_type": "markdown",
   "id": "f5b4402e-7664-4f50-8286-9ba1807d6b77",
   "metadata": {
    "id": "f5b4402e-7664-4f50-8286-9ba1807d6b77"
   },
   "source": [
    "## **RAG의 핵심, 문서 검색기 Retriever**"
   ]
  },
  {
   "cell_type": "code",
   "execution_count": null,
   "id": "JZCJ02NErq4D",
   "metadata": {
    "id": "JZCJ02NErq4D"
   },
   "outputs": [],
   "source": [
    "# !pip install -q langchain tiktoken langchain-text-splitters langchain-openai langchain-chroma pypdf"
   ]
  },
  {
   "cell_type": "markdown",
   "id": "1524da28-f2e3-43cb-9637-eb1500817c34",
   "metadata": {
    "id": "1524da28-f2e3-43cb-9637-eb1500817c34"
   },
   "source": [
    "### **Retriever의 기본형, 벡터DB 기반 Retriever**"
   ]
  },
  {
   "cell_type": "markdown",
   "id": "c67ba141-5130-4d69-ac0d-e06c6879d0f1",
   "metadata": {
    "id": "c67ba141-5130-4d69-ac0d-e06c6879d0f1"
   },
   "source": [
    "**Chroma 벡터 DB 기반 기본 유사 문서 검색**"
   ]
  },
  {
   "cell_type": "code",
   "execution_count": 1,
   "id": "18e4795b-a7ba-42a1-b48e-ac20cc925bea",
   "metadata": {},
   "outputs": [],
   "source": [
    "from dotenv import load_dotenv\n",
    "import os\n",
    "\n",
    "# .env 파일 로드\n",
    "load_dotenv('../.env')\n",
    "\n",
    "# 2. 환경 변수 읽기\n",
    "OPENAI_API_KEY = os.getenv(\"OPENAI_API_KEY\")"
   ]
  },
  {
   "cell_type": "code",
   "execution_count": 2,
   "id": "4cdf9cdf-f88d-49d5-9c6f-4b7c847c04a4",
   "metadata": {
    "id": "4cdf9cdf-f88d-49d5-9c6f-4b7c847c04a4",
    "scrolled": true
   },
   "outputs": [
    {
     "data": {
      "text/plain": [
       "[Document(id='46c8c67e-dfd1-442e-86e0-71a8641c14b7', metadata={'creator': 'PyPDF', 'creationdate': '2024-04-01T21:26:24+09:00', 'moddate': '2024-04-01T21:26:24+09:00', 'page': 4, 'producer': 'iText 2.1.7 by 1T3XT', 'total_pages': 14, 'page_label': '5', 'source': '../../../data/Langchain-RAG/대한민국헌법(헌법)(제00010호)(19880225).pdf'}, page_content='③국회의원은 그 지위를 남용하여 국가ㆍ공공단체 또는 기업체와의 계약이나 그 처분에 의하여 재산상의 권리ㆍ이\\n익 또는 직위를 취득하거나 타인을 위하여 그 취득을 알선할 수 없다.\\n \\n제47조 ①국회의 정기회는 법률이 정하는 바에 의하여 매년 1회 집회되며, 국회의 임시회는 대통령 또는 국회재적의원\\n4분의 1 이상의 요구에 의하여 집회된다.\\n②정기회의 회기는 100일을, 임시회의 회기는 30일을 초과할 수 없다.\\n③대통령이 임시회의 집회를 요구할 때에는 기간과 집회요구의 이유를 명시하여야 한다.\\n \\n제48조 국회는 의장 1인과 부의장 2인을 선출한다.\\n \\n제49조 국회는 헌법 또는 법률에 특별한 규정이 없는 한 재적의원 과반수의 출석과 출석의원 과반수의 찬성으로 의결\\n한다. 가부동수인 때에는 부결된 것으로 본다.\\n \\n제50조 ①국회의 회의는 공개한다. 다만, 출석의원 과반수의 찬성이 있거나 의장이 국가의 안전보장을 위하여 필요하다\\n고 인정할 때에는 공개하지 아니할 수 있다.'),\n",
       " Document(id='833d9e45-0f9a-4546-af51-d5ee9071328e', metadata={'producer': 'iText 2.1.7 by 1T3XT', 'page_label': '5', 'moddate': '2024-04-01T21:26:24+09:00', 'source': '../../../data/Langchain-RAG/대한민국헌법(헌법)(제00010호)(19880225).pdf', 'total_pages': 14, 'page': 4, 'creator': 'PyPDF', 'creationdate': '2024-04-01T21:26:24+09:00'}, page_content='법제처                                                            5                                                       국가법령정보센터\\n대한민국헌법\\n③국회의원의 선거구와 비례대표제 기타 선거에 관한 사항은 법률로 정한다.\\n \\n제42조 국회의원의 임기는 4년으로 한다.\\n \\n제43조 국회의원은 법률이 정하는 직을 겸할 수 없다.\\n \\n제44조 ①국회의원은 현행범인인 경우를 제외하고는 회기 중 국회의 동의없이 체포 또는 구금되지 아니한다.\\n②국회의원이 회기 전에 체포 또는 구금된 때에는 현행범인이 아닌 한 국회의 요구가 있으면 회기 중 석방된다.\\n \\n제45조 국회의원은 국회에서 직무상 행한 발언과 표결에 관하여 국회 외에서 책임을 지지 아니한다.\\n \\n제46조 ①국회의원은 청렴의 의무가 있다.\\n②국회의원은 국가이익을 우선하여 양심에 따라 직무를 행한다.'),\n",
       " Document(id='c81ca02d-8542-444b-8c6b-4d61b7aa28fc', metadata={'producer': 'iText 2.1.7 by 1T3XT', 'total_pages': 14, 'source': '../../../data/Langchain-RAG/대한민국헌법(헌법)(제00010호)(19880225).pdf', 'page_label': '6', 'creationdate': '2024-04-01T21:26:24+09:00', 'creator': 'PyPDF', 'page': 5, 'moddate': '2024-04-01T21:26:24+09:00'}, page_content='②국회는 의원의 자격을 심사하며, 의원을 징계할 수 있다.\\n③의원을 제명하려면 국회재적의원 3분의 2 이상의 찬성이 있어야 한다.\\n④제2항과 제3항의 처분에 대하여는 법원에 제소할 수 없다.\\n \\n제65조 ①대통령ㆍ국무총리ㆍ국무위원ㆍ행정각부의 장ㆍ헌법재판소 재판관ㆍ법관ㆍ중앙선거관리위원회 위원ㆍ감사\\n원장ㆍ감사위원 기타 법률이 정한 공무원이 그 직무집행에 있어서 헌법이나 법률을 위배한 때에는 국회는 탄핵의\\n소추를 의결할 수 있다.\\n②제1항의 탄핵소추는 국회재적의원 3분의 1 이상의 발의가 있어야 하며, 그 의결은 국회재적의원 과반수의 찬성이\\n있어야 한다. 다만, 대통령에 대한 탄핵소추는 국회재적의원 과반수의 발의와 국회재적의원 3분의 2 이상의 찬성이'),\n",
       " Document(id='7b02859a-63ca-4780-982d-7b842e77d164', metadata={'source': '../../../data/Langchain-RAG/대한민국헌법(헌법)(제00010호)(19880225).pdf', 'creator': 'PyPDF', 'page': 5, 'producer': 'iText 2.1.7 by 1T3XT', 'page_label': '6', 'moddate': '2024-04-01T21:26:24+09:00', 'total_pages': 14, 'creationdate': '2024-04-01T21:26:24+09:00'}, page_content='제61조 ①국회는 국정을 감사하거나 특정한 국정사안에 대하여 조사할 수 있으며, 이에 필요한 서류의 제출 또는 증인\\n의 출석과 증언이나 의견의 진술을 요구할 수 있다.\\n②국정감사 및 조사에 관한 절차 기타 필요한 사항은 법률로 정한다.\\n \\n제62조 ①국무총리ㆍ국무위원 또는 정부위원은 국회나 그 위원회에 출석하여 국정처리상황을 보고하거나 의견을 진술\\n하고 질문에 응답할 수 있다.\\n②국회나 그 위원회의 요구가 있을 때에는 국무총리ㆍ국무위원 또는 정부위원은 출석ㆍ답변하여야 하며, 국무총리\\n또는 국무위원이 출석요구를 받은 때에는 국무위원 또는 정부위원으로 하여금 출석ㆍ답변하게 할 수 있다.\\n \\n제63조 ①국회는 국무총리 또는 국무위원의 해임을 대통령에게 건의할 수 있다.\\n②제1항의 해임건의는 국회재적의원 3분의 1 이상의 발의에 의하여 국회재적의원 과반수의 찬성이 있어야 한다.\\n \\n제64조 ①국회는 법률에 저촉되지 아니하는 범위 안에서 의사와 내부규율에 관한 규칙을 제정할 수 있다.')]"
      ]
     },
     "execution_count": 2,
     "metadata": {},
     "output_type": "execute_result"
    }
   ],
   "source": [
    "from langchain.document_loaders import PyPDFLoader\n",
    "from langchain_text_splitters import RecursiveCharacterTextSplitter\n",
    "from langchain_openai import OpenAIEmbeddings\n",
    "from langchain_chroma import Chroma\n",
    "import os\n",
    "Chroma().delete_collection()\n",
    "os.environ[\"OPENAI_API_KEY\"] = OPENAI_API_KEY\n",
    "\n",
    "#헌법 PDF 파일 로드\n",
    "loader = PyPDFLoader(r\"../../../data/Langchain-RAG/대한민국헌법(헌법)(제00010호)(19880225).pdf\")\n",
    "pages = loader.load_and_split()\n",
    "\n",
    "#PDF 파일을 500자 청크로 분할\n",
    "text_splitter = RecursiveCharacterTextSplitter(chunk_size=500, chunk_overlap=0)\n",
    "docs = text_splitter.split_documents(pages)\n",
    "\n",
    "#ChromaDB에 청크들을 벡터 임베딩으로 저장(OpenAI 임베딩 모델 활용)\n",
    "db = Chroma.from_documents(docs, OpenAIEmbeddings(model = 'text-embedding-3-small'))\n",
    "\n",
    "#Chroma를 Retriever로 활용\n",
    "retriever = db.as_retriever()\n",
    "retriever.invoke(\"국회의원의 의무\")"
   ]
  },
  {
   "cell_type": "markdown",
   "id": "254d0774-053e-4be5-af3f-961100df2e5c",
   "metadata": {
    "id": "254d0774-053e-4be5-af3f-961100df2e5c"
   },
   "source": [
    "**(1) 유사도 점수도 함께 출력하기**"
   ]
  },
  {
   "cell_type": "code",
   "execution_count": 3,
   "id": "1b073504-7fa7-45b1-82f7-9c1c2fc5a043",
   "metadata": {
    "id": "1b073504-7fa7-45b1-82f7-9c1c2fc5a043",
    "scrolled": true
   },
   "outputs": [
    {
     "name": "stdout",
     "output_type": "stream",
     "text": [
      "[유사 청크 1순위]\n",
      "③국회의원은 그 지위를 남용하여 국가ㆍ공공단체 또는 기업체와의 계약이나 그 처분에 의하여 재산상의 권리ㆍ이\n",
      "익 또는 직위를 취득하거나 타인을 위하여 그 취득을 알선할 수 없다.\n",
      " \n",
      "제47조 ①국회의 정기회는 법률이 정하는 바에 의하여 매년 1회 집회되며, 국회의 임시회는 대통령 또는 국회재적의원\n",
      "4분의 1 이상의 요구에 의하여 집회된다.\n",
      "②정기회의 회기는 100일을, 임시회의 회기는 30일을 초과할 수 없다.\n",
      "③대통령이 임시회의 집회를 요구할 때에는 기간과 집회요구의 이유를 명시하여야 한다.\n",
      " \n",
      "제48조 국회는 의장 1인과 부의장 2인을 선출한다.\n",
      " \n",
      "제49조 국회는 헌법 또는 법률에 특별한 규정이 없는 한 재적의원 과반수의 출석과 출석의원 과반수의 찬성으로 의결\n",
      "한다. 가부동수인 때에는 부결된 것으로 본다.\n",
      " \n",
      "제50조 ①국회의 회의는 공개한다. 다만, 출석의원 과반수의 찬성이 있거나 의장이 국가의 안전보장을 위하여 필요하다\n",
      "고 인정할 때에는 공개하지 아니할 수 있다.\n",
      "\n",
      "\n",
      "[점수]\n",
      "0.8001311421394348\n",
      "0.8947548270225525\n",
      "0.4339805528469435\n",
      "0.36716540678371423\n"
     ]
    }
   ],
   "source": [
    "result_score = db.similarity_search_with_score(\"국회의원의 의무\")\n",
    "result_r_score = db.similarity_search_with_relevance_scores(\"국회의원의 의무\")\n",
    "\n",
    "print(\"[유사 청크 1순위]\")\n",
    "print(result_score[0][0].page_content)\n",
    "\n",
    "print(\"\\n\\n[점수]\")\n",
    "print(result_score[0][1]) # 낮을수록 좋다\n",
    "print(result_score[3][1])\n",
    "print(result_r_score[0][1]) # 높을수록 좋다\n",
    "print(result_r_score[3][1])"
   ]
  },
  {
   "cell_type": "markdown",
   "id": "ff67e922-2072-4595-ac4f-63eb5d8375af",
   "metadata": {
    "id": "ff67e922-2072-4595-ac4f-63eb5d8375af"
   },
   "source": [
    "**(2) 검색 결과 수 및 조정**"
   ]
  },
  {
   "cell_type": "code",
   "execution_count": 4,
   "id": "0d63f235-6502-4a8d-99df-27fc8a06fdf2",
   "metadata": {
    "id": "0d63f235-6502-4a8d-99df-27fc8a06fdf2"
   },
   "outputs": [
    {
     "data": {
      "text/plain": [
       "[Document(id='46c8c67e-dfd1-442e-86e0-71a8641c14b7', metadata={'creator': 'PyPDF', 'page_label': '5', 'creationdate': '2024-04-01T21:26:24+09:00', 'total_pages': 14, 'moddate': '2024-04-01T21:26:24+09:00', 'source': '../../../data/Langchain-RAG/대한민국헌법(헌법)(제00010호)(19880225).pdf', 'producer': 'iText 2.1.7 by 1T3XT', 'page': 4}, page_content='③국회의원은 그 지위를 남용하여 국가ㆍ공공단체 또는 기업체와의 계약이나 그 처분에 의하여 재산상의 권리ㆍ이\\n익 또는 직위를 취득하거나 타인을 위하여 그 취득을 알선할 수 없다.\\n \\n제47조 ①국회의 정기회는 법률이 정하는 바에 의하여 매년 1회 집회되며, 국회의 임시회는 대통령 또는 국회재적의원\\n4분의 1 이상의 요구에 의하여 집회된다.\\n②정기회의 회기는 100일을, 임시회의 회기는 30일을 초과할 수 없다.\\n③대통령이 임시회의 집회를 요구할 때에는 기간과 집회요구의 이유를 명시하여야 한다.\\n \\n제48조 국회는 의장 1인과 부의장 2인을 선출한다.\\n \\n제49조 국회는 헌법 또는 법률에 특별한 규정이 없는 한 재적의원 과반수의 출석과 출석의원 과반수의 찬성으로 의결\\n한다. 가부동수인 때에는 부결된 것으로 본다.\\n \\n제50조 ①국회의 회의는 공개한다. 다만, 출석의원 과반수의 찬성이 있거나 의장이 국가의 안전보장을 위하여 필요하다\\n고 인정할 때에는 공개하지 아니할 수 있다.'),\n",
       " Document(id='833d9e45-0f9a-4546-af51-d5ee9071328e', metadata={'producer': 'iText 2.1.7 by 1T3XT', 'source': '../../../data/Langchain-RAG/대한민국헌법(헌법)(제00010호)(19880225).pdf', 'page_label': '5', 'creationdate': '2024-04-01T21:26:24+09:00', 'page': 4, 'creator': 'PyPDF', 'moddate': '2024-04-01T21:26:24+09:00', 'total_pages': 14}, page_content='법제처                                                            5                                                       국가법령정보센터\\n대한민국헌법\\n③국회의원의 선거구와 비례대표제 기타 선거에 관한 사항은 법률로 정한다.\\n \\n제42조 국회의원의 임기는 4년으로 한다.\\n \\n제43조 국회의원은 법률이 정하는 직을 겸할 수 없다.\\n \\n제44조 ①국회의원은 현행범인인 경우를 제외하고는 회기 중 국회의 동의없이 체포 또는 구금되지 아니한다.\\n②국회의원이 회기 전에 체포 또는 구금된 때에는 현행범인이 아닌 한 국회의 요구가 있으면 회기 중 석방된다.\\n \\n제45조 국회의원은 국회에서 직무상 행한 발언과 표결에 관하여 국회 외에서 책임을 지지 아니한다.\\n \\n제46조 ①국회의원은 청렴의 의무가 있다.\\n②국회의원은 국가이익을 우선하여 양심에 따라 직무를 행한다.'),\n",
       " Document(id='c81ca02d-8542-444b-8c6b-4d61b7aa28fc', metadata={'moddate': '2024-04-01T21:26:24+09:00', 'creator': 'PyPDF', 'page_label': '6', 'creationdate': '2024-04-01T21:26:24+09:00', 'page': 5, 'producer': 'iText 2.1.7 by 1T3XT', 'total_pages': 14, 'source': '../../../data/Langchain-RAG/대한민국헌법(헌법)(제00010호)(19880225).pdf'}, page_content='②국회는 의원의 자격을 심사하며, 의원을 징계할 수 있다.\\n③의원을 제명하려면 국회재적의원 3분의 2 이상의 찬성이 있어야 한다.\\n④제2항과 제3항의 처분에 대하여는 법원에 제소할 수 없다.\\n \\n제65조 ①대통령ㆍ국무총리ㆍ국무위원ㆍ행정각부의 장ㆍ헌법재판소 재판관ㆍ법관ㆍ중앙선거관리위원회 위원ㆍ감사\\n원장ㆍ감사위원 기타 법률이 정한 공무원이 그 직무집행에 있어서 헌법이나 법률을 위배한 때에는 국회는 탄핵의\\n소추를 의결할 수 있다.\\n②제1항의 탄핵소추는 국회재적의원 3분의 1 이상의 발의가 있어야 하며, 그 의결은 국회재적의원 과반수의 찬성이\\n있어야 한다. 다만, 대통령에 대한 탄핵소추는 국회재적의원 과반수의 발의와 국회재적의원 3분의 2 이상의 찬성이'),\n",
       " Document(id='7b02859a-63ca-4780-982d-7b842e77d164', metadata={'creationdate': '2024-04-01T21:26:24+09:00', 'page': 5, 'producer': 'iText 2.1.7 by 1T3XT', 'moddate': '2024-04-01T21:26:24+09:00', 'source': '../../../data/Langchain-RAG/대한민국헌법(헌법)(제00010호)(19880225).pdf', 'total_pages': 14, 'creator': 'PyPDF', 'page_label': '6'}, page_content='제61조 ①국회는 국정을 감사하거나 특정한 국정사안에 대하여 조사할 수 있으며, 이에 필요한 서류의 제출 또는 증인\\n의 출석과 증언이나 의견의 진술을 요구할 수 있다.\\n②국정감사 및 조사에 관한 절차 기타 필요한 사항은 법률로 정한다.\\n \\n제62조 ①국무총리ㆍ국무위원 또는 정부위원은 국회나 그 위원회에 출석하여 국정처리상황을 보고하거나 의견을 진술\\n하고 질문에 응답할 수 있다.\\n②국회나 그 위원회의 요구가 있을 때에는 국무총리ㆍ국무위원 또는 정부위원은 출석ㆍ답변하여야 하며, 국무총리\\n또는 국무위원이 출석요구를 받은 때에는 국무위원 또는 정부위원으로 하여금 출석ㆍ답변하게 할 수 있다.\\n \\n제63조 ①국회는 국무총리 또는 국무위원의 해임을 대통령에게 건의할 수 있다.\\n②제1항의 해임건의는 국회재적의원 3분의 1 이상의 발의에 의하여 국회재적의원 과반수의 찬성이 있어야 한다.\\n \\n제64조 ①국회는 법률에 저촉되지 아니하는 범위 안에서 의사와 내부규율에 관한 규칙을 제정할 수 있다.'),\n",
       " Document(id='59e1e86b-63bd-4b85-a20c-59b876ecd0d9', metadata={'moddate': '2024-04-01T21:26:24+09:00', 'page': 11, 'producer': 'iText 2.1.7 by 1T3XT', 'source': '../../../data/Langchain-RAG/대한민국헌법(헌법)(제00010호)(19880225).pdf', 'creationdate': '2024-04-01T21:26:24+09:00', 'total_pages': 14, 'page_label': '12', 'creator': 'PyPDF'}, page_content='법제처                                                            12                                                       국가법령정보센터\\n대한민국헌법\\n④위원은 정당에 가입하거나 정치에 관여할 수 없다.\\n⑤위원은 탄핵 또는 금고 이상의 형의 선고에 의하지 아니하고는 파면되지 아니한다.\\n⑥중앙선거관리위원회는 법령의 범위 안에서 선거관리ㆍ국민투표관리 또는 정당사무에 관한 규칙을 제정할 수 있\\n으며, 법률에 저촉되지 아니하는 범위 안에서 내부규율에 관한 규칙을 제정할 수 있다.\\n⑦각급 선거관리위원회의 조직ㆍ직무범위 기타 필요한 사항은 법률로 정한다.\\n \\n제115조 ①각급 선거관리위원회는 선거인명부의 작성 등 선거사무와 국민투표사무에 관하여 관계 행정기관에 필요한\\n지시를 할 수 있다.\\n②제1항의 지시를 받은 당해 행정기관은 이에 응하여야 한다.')]"
      ]
     },
     "execution_count": 4,
     "metadata": {},
     "output_type": "execute_result"
    }
   ],
   "source": [
    "#유사 청크 1개만 반환\n",
    "retriever = db.as_retriever(search_kwargs={\"k\": 5})\n",
    "retriever.invoke(\"국회의원의 의무\")"
   ]
  },
  {
   "cell_type": "markdown",
   "id": "e9e0e349-cdb4-415d-8cfe-ffed753a50dd",
   "metadata": {
    "id": "e9e0e349-cdb4-415d-8cfe-ffed753a50dd"
   },
   "source": [
    "**(3) 검색 방식 변경 - MMR**"
   ]
  },
  {
   "cell_type": "code",
   "execution_count": 5,
   "id": "d3cd593f-2445-4a39-be66-596413ebcab8",
   "metadata": {
    "id": "d3cd593f-2445-4a39-be66-596413ebcab8"
   },
   "outputs": [],
   "source": [
    "from langchain.document_loaders import PyPDFLoader\n",
    "from langchain_text_splitters import RecursiveCharacterTextSplitter\n",
    "from langchain_openai import OpenAIEmbeddings\n",
    "from langchain_chroma import Chroma\n",
    "\n",
    "#헌법 PDF 파일 로드\n",
    "loader = PyPDFLoader(r\"../../../data/Langchain-RAG/대한민국헌법(헌법)(제00010호)(19880225).pdf\")\n",
    "pages = loader.load_and_split()\n",
    "\n",
    "#PDF 파일을 500자 청크로 분할\n",
    "text_splitter = RecursiveCharacterTextSplitter(chunk_size=500, chunk_overlap=0)\n",
    "docs = text_splitter.split_documents(pages)\n",
    "\n",
    "#ChromaDB에 청크들을 벡터 임베딩으로 저장(OpenAI 임베딩 모델 활용)\n",
    "db = Chroma.from_documents(docs, OpenAIEmbeddings(model = 'text-embedding-3-small'))"
   ]
  },
  {
   "cell_type": "code",
   "execution_count": 6,
   "id": "1e98b705-bc74-4251-b643-1f7abe12f959",
   "metadata": {
    "id": "1e98b705-bc74-4251-b643-1f7abe12f959"
   },
   "outputs": [
    {
     "data": {
      "text/plain": [
       "[Document(id='46c8c67e-dfd1-442e-86e0-71a8641c14b7', metadata={'creator': 'PyPDF', 'page_label': '5', 'source': '../../../data/Langchain-RAG/대한민국헌법(헌법)(제00010호)(19880225).pdf', 'total_pages': 14, 'producer': 'iText 2.1.7 by 1T3XT', 'creationdate': '2024-04-01T21:26:24+09:00', 'moddate': '2024-04-01T21:26:24+09:00', 'page': 4}, page_content='③국회의원은 그 지위를 남용하여 국가ㆍ공공단체 또는 기업체와의 계약이나 그 처분에 의하여 재산상의 권리ㆍ이\\n익 또는 직위를 취득하거나 타인을 위하여 그 취득을 알선할 수 없다.\\n \\n제47조 ①국회의 정기회는 법률이 정하는 바에 의하여 매년 1회 집회되며, 국회의 임시회는 대통령 또는 국회재적의원\\n4분의 1 이상의 요구에 의하여 집회된다.\\n②정기회의 회기는 100일을, 임시회의 회기는 30일을 초과할 수 없다.\\n③대통령이 임시회의 집회를 요구할 때에는 기간과 집회요구의 이유를 명시하여야 한다.\\n \\n제48조 국회는 의장 1인과 부의장 2인을 선출한다.\\n \\n제49조 국회는 헌법 또는 법률에 특별한 규정이 없는 한 재적의원 과반수의 출석과 출석의원 과반수의 찬성으로 의결\\n한다. 가부동수인 때에는 부결된 것으로 본다.\\n \\n제50조 ①국회의 회의는 공개한다. 다만, 출석의원 과반수의 찬성이 있거나 의장이 국가의 안전보장을 위하여 필요하다\\n고 인정할 때에는 공개하지 아니할 수 있다.'),\n",
       " Document(id='08fdd114-9a6b-4141-95f9-8a680d26484e', metadata={'page_label': '4', 'page': 3, 'producer': 'iText 2.1.7 by 1T3XT', 'source': '../../../data/Langchain-RAG/대한민국헌법(헌법)(제00010호)(19880225).pdf', 'moddate': '2024-04-01T21:26:24+09:00', 'creator': 'PyPDF', 'creationdate': '2024-04-01T21:26:24+09:00', 'total_pages': 14}, page_content='제40조 입법권은 국회에 속한다.\\n \\n제41조 ①국회는 국민의 보통ㆍ평등ㆍ직접ㆍ비밀선거에 의하여 선출된 국회의원으로 구성한다.\\n②국회의원의 수는 법률로 정하되, 200인 이상으로 한다.'),\n",
       " Document(id='54aeebca-1a24-4e92-b8ad-3531a46a9a6b', metadata={'moddate': '2024-04-01T21:26:24+09:00', 'total_pages': 14, 'creator': 'PyPDF', 'page_label': '10', 'creationdate': '2024-04-01T21:26:24+09:00', 'source': '../../../data/Langchain-RAG/대한민국헌법(헌법)(제00010호)(19880225).pdf', 'producer': 'iText 2.1.7 by 1T3XT', 'page': 9}, page_content='②원장은 국회의 동의를 얻어 대통령이 임명하고, 그 임기는 4년으로 하며, 1차에 한하여 중임할 수 있다.\\n③감사위원은 원장의 제청으로 대통령이 임명하고, 그 임기는 4년으로 하며, 1차에 한하여 중임할 수 있다.\\n \\n제99조 감사원은 세입ㆍ세출의 결산을 매년 검사하여 대통령과 차년도국회에 그 결과를 보고하여야 한다.\\n \\n제100조 감사원의 조직ㆍ직무범위ㆍ감사위원의 자격ㆍ감사대상공무원의 범위 기타 필요한 사항은 법률로 정한다.\\n \\n       제5장 법원\\n \\n제101조 ①사법권은 법관으로 구성된 법원에 속한다.\\n②법원은 최고법원인 대법원과 각급법원으로 조직된다.\\n③법관의 자격은 법률로 정한다.\\n \\n제102조 ①대법원에 부를 둘 수 있다.\\n②대법원에 대법관을 둔다. 다만, 법률이 정하는 바에 의하여 대법관이 아닌 법관을 둘 수 있다.\\n③대법원과 각급법원의 조직은 법률로 정한다.\\n \\n제103조 법관은 헌법과 법률에 의하여 그 양심에 따라 독립하여 심판한다.')]"
      ]
     },
     "execution_count": 6,
     "metadata": {},
     "output_type": "execute_result"
    }
   ],
   "source": [
    "#Chroma를 Retriever로 활용\n",
    "retriever = db.as_retriever(\n",
    "    search_type=\"mmr\",\n",
    "    search_kwargs = {\"lambda_mult\": 0, \"fetch_k\":20, \"k\":3}\n",
    ")\n",
    "retriever.invoke(\"국회의원의 의무\")"
   ]
  },
  {
   "cell_type": "code",
   "execution_count": 7,
   "id": "124ca8e0-90da-4304-8449-f9296d9be7e7",
   "metadata": {},
   "outputs": [
    {
     "data": {
      "text/plain": [
       "[Document(id='46c8c67e-dfd1-442e-86e0-71a8641c14b7', metadata={'creationdate': '2024-04-01T21:26:24+09:00', 'page_label': '5', 'total_pages': 14, 'moddate': '2024-04-01T21:26:24+09:00', 'page': 4, 'source': '../../../data/Langchain-RAG/대한민국헌법(헌법)(제00010호)(19880225).pdf', 'producer': 'iText 2.1.7 by 1T3XT', 'creator': 'PyPDF'}, page_content='③국회의원은 그 지위를 남용하여 국가ㆍ공공단체 또는 기업체와의 계약이나 그 처분에 의하여 재산상의 권리ㆍ이\\n익 또는 직위를 취득하거나 타인을 위하여 그 취득을 알선할 수 없다.\\n \\n제47조 ①국회의 정기회는 법률이 정하는 바에 의하여 매년 1회 집회되며, 국회의 임시회는 대통령 또는 국회재적의원\\n4분의 1 이상의 요구에 의하여 집회된다.\\n②정기회의 회기는 100일을, 임시회의 회기는 30일을 초과할 수 없다.\\n③대통령이 임시회의 집회를 요구할 때에는 기간과 집회요구의 이유를 명시하여야 한다.\\n \\n제48조 국회는 의장 1인과 부의장 2인을 선출한다.\\n \\n제49조 국회는 헌법 또는 법률에 특별한 규정이 없는 한 재적의원 과반수의 출석과 출석의원 과반수의 찬성으로 의결\\n한다. 가부동수인 때에는 부결된 것으로 본다.\\n \\n제50조 ①국회의 회의는 공개한다. 다만, 출석의원 과반수의 찬성이 있거나 의장이 국가의 안전보장을 위하여 필요하다\\n고 인정할 때에는 공개하지 아니할 수 있다.'),\n",
       " Document(id='c81ca02d-8542-444b-8c6b-4d61b7aa28fc', metadata={'page': 5, 'moddate': '2024-04-01T21:26:24+09:00', 'creator': 'PyPDF', 'creationdate': '2024-04-01T21:26:24+09:00', 'source': '../../../data/Langchain-RAG/대한민국헌법(헌법)(제00010호)(19880225).pdf', 'producer': 'iText 2.1.7 by 1T3XT', 'page_label': '6', 'total_pages': 14}, page_content='②국회는 의원의 자격을 심사하며, 의원을 징계할 수 있다.\\n③의원을 제명하려면 국회재적의원 3분의 2 이상의 찬성이 있어야 한다.\\n④제2항과 제3항의 처분에 대하여는 법원에 제소할 수 없다.\\n \\n제65조 ①대통령ㆍ국무총리ㆍ국무위원ㆍ행정각부의 장ㆍ헌법재판소 재판관ㆍ법관ㆍ중앙선거관리위원회 위원ㆍ감사\\n원장ㆍ감사위원 기타 법률이 정한 공무원이 그 직무집행에 있어서 헌법이나 법률을 위배한 때에는 국회는 탄핵의\\n소추를 의결할 수 있다.\\n②제1항의 탄핵소추는 국회재적의원 3분의 1 이상의 발의가 있어야 하며, 그 의결은 국회재적의원 과반수의 찬성이\\n있어야 한다. 다만, 대통령에 대한 탄핵소추는 국회재적의원 과반수의 발의와 국회재적의원 3분의 2 이상의 찬성이'),\n",
       " Document(id='d55b885d-149b-4e07-8ab3-00e0c62eaec9', metadata={'moddate': '2024-04-01T21:26:24+09:00', 'page_label': '12', 'page': 11, 'creator': 'PyPDF', 'creationdate': '2024-04-01T21:26:24+09:00', 'total_pages': 14, 'source': '../../../data/Langchain-RAG/대한민국헌법(헌법)(제00010호)(19880225).pdf', 'producer': 'iText 2.1.7 by 1T3XT'}, page_content='법제처                                                            12                                                       국가법령정보센터\\n대한민국헌법\\n④위원은 정당에 가입하거나 정치에 관여할 수 없다.\\n⑤위원은 탄핵 또는 금고 이상의 형의 선고에 의하지 아니하고는 파면되지 아니한다.\\n⑥중앙선거관리위원회는 법령의 범위 안에서 선거관리ㆍ국민투표관리 또는 정당사무에 관한 규칙을 제정할 수 있\\n으며, 법률에 저촉되지 아니하는 범위 안에서 내부규율에 관한 규칙을 제정할 수 있다.\\n⑦각급 선거관리위원회의 조직ㆍ직무범위 기타 필요한 사항은 법률로 정한다.\\n \\n제115조 ①각급 선거관리위원회는 선거인명부의 작성 등 선거사무와 국민투표사무에 관하여 관계 행정기관에 필요한\\n지시를 할 수 있다.\\n②제1항의 지시를 받은 당해 행정기관은 이에 응하여야 한다.')]"
      ]
     },
     "execution_count": 7,
     "metadata": {},
     "output_type": "execute_result"
    }
   ],
   "source": [
    "#Chroma를 Retriever로 활용\n",
    "retriever = db.as_retriever(\n",
    "    search_type=\"mmr\",\n",
    "    search_kwargs = {\"lambda_mult\": 0, \"fetch_k\":10, \"k\":3}\n",
    ")\n",
    "retriever.invoke(\"국회의원의 의무\")"
   ]
  },
  {
   "cell_type": "code",
   "execution_count": 8,
   "id": "fd300bcd-bf4b-4366-b744-c829cda57640",
   "metadata": {},
   "outputs": [
    {
     "data": {
      "text/plain": [
       "[Document(id='46c8c67e-dfd1-442e-86e0-71a8641c14b7', metadata={'producer': 'iText 2.1.7 by 1T3XT', 'total_pages': 14, 'moddate': '2024-04-01T21:26:24+09:00', 'page_label': '5', 'creationdate': '2024-04-01T21:26:24+09:00', 'page': 4, 'creator': 'PyPDF', 'source': '../../../data/Langchain-RAG/대한민국헌법(헌법)(제00010호)(19880225).pdf'}, page_content='③국회의원은 그 지위를 남용하여 국가ㆍ공공단체 또는 기업체와의 계약이나 그 처분에 의하여 재산상의 권리ㆍ이\\n익 또는 직위를 취득하거나 타인을 위하여 그 취득을 알선할 수 없다.\\n \\n제47조 ①국회의 정기회는 법률이 정하는 바에 의하여 매년 1회 집회되며, 국회의 임시회는 대통령 또는 국회재적의원\\n4분의 1 이상의 요구에 의하여 집회된다.\\n②정기회의 회기는 100일을, 임시회의 회기는 30일을 초과할 수 없다.\\n③대통령이 임시회의 집회를 요구할 때에는 기간과 집회요구의 이유를 명시하여야 한다.\\n \\n제48조 국회는 의장 1인과 부의장 2인을 선출한다.\\n \\n제49조 국회는 헌법 또는 법률에 특별한 규정이 없는 한 재적의원 과반수의 출석과 출석의원 과반수의 찬성으로 의결\\n한다. 가부동수인 때에는 부결된 것으로 본다.\\n \\n제50조 ①국회의 회의는 공개한다. 다만, 출석의원 과반수의 찬성이 있거나 의장이 국가의 안전보장을 위하여 필요하다\\n고 인정할 때에는 공개하지 아니할 수 있다.'),\n",
       " Document(id='f0fab0bc-30dd-4dbd-83a1-4716fa6ffc80', metadata={'page_label': '4', 'moddate': '2024-04-01T21:26:24+09:00', 'source': '../../../data/Langchain-RAG/대한민국헌법(헌법)(제00010호)(19880225).pdf', 'page': 3, 'creator': 'PyPDF', 'creationdate': '2024-04-01T21:26:24+09:00', 'total_pages': 14, 'producer': 'iText 2.1.7 by 1T3XT'}, page_content='제40조 입법권은 국회에 속한다.\\n \\n제41조 ①국회는 국민의 보통ㆍ평등ㆍ직접ㆍ비밀선거에 의하여 선출된 국회의원으로 구성한다.\\n②국회의원의 수는 법률로 정하되, 200인 이상으로 한다.'),\n",
       " Document(id='54aeebca-1a24-4e92-b8ad-3531a46a9a6b', metadata={'producer': 'iText 2.1.7 by 1T3XT', 'total_pages': 14, 'page_label': '10', 'creator': 'PyPDF', 'moddate': '2024-04-01T21:26:24+09:00', 'source': '../../../data/Langchain-RAG/대한민국헌법(헌법)(제00010호)(19880225).pdf', 'creationdate': '2024-04-01T21:26:24+09:00', 'page': 9}, page_content='②원장은 국회의 동의를 얻어 대통령이 임명하고, 그 임기는 4년으로 하며, 1차에 한하여 중임할 수 있다.\\n③감사위원은 원장의 제청으로 대통령이 임명하고, 그 임기는 4년으로 하며, 1차에 한하여 중임할 수 있다.\\n \\n제99조 감사원은 세입ㆍ세출의 결산을 매년 검사하여 대통령과 차년도국회에 그 결과를 보고하여야 한다.\\n \\n제100조 감사원의 조직ㆍ직무범위ㆍ감사위원의 자격ㆍ감사대상공무원의 범위 기타 필요한 사항은 법률로 정한다.\\n \\n       제5장 법원\\n \\n제101조 ①사법권은 법관으로 구성된 법원에 속한다.\\n②법원은 최고법원인 대법원과 각급법원으로 조직된다.\\n③법관의 자격은 법률로 정한다.\\n \\n제102조 ①대법원에 부를 둘 수 있다.\\n②대법원에 대법관을 둔다. 다만, 법률이 정하는 바에 의하여 대법관이 아닌 법관을 둘 수 있다.\\n③대법원과 각급법원의 조직은 법률로 정한다.\\n \\n제103조 법관은 헌법과 법률에 의하여 그 양심에 따라 독립하여 심판한다.')]"
      ]
     },
     "execution_count": 8,
     "metadata": {},
     "output_type": "execute_result"
    }
   ],
   "source": [
    "#Chroma를 Retriever로 활용\n",
    "retriever = db.as_retriever(\n",
    "    search_type=\"mmr\",\n",
    "    search_kwargs = {\"lambda_mult\": 0.4, \"fetch_k\":20, \"k\":3}\n",
    ")\n",
    "retriever.invoke(\"국회의원의 의무\")"
   ]
  },
  {
   "cell_type": "markdown",
   "id": "c6c5d7d1-df93-4473-9eb6-2d8efd8300ca",
   "metadata": {
    "id": "c6c5d7d1-df93-4473-9eb6-2d8efd8300ca"
   },
   "source": [
    "**일반 유사도 검색 방식**"
   ]
  },
  {
   "cell_type": "code",
   "execution_count": 9,
   "id": "28c99b8b-ab6b-4b90-abce-ef9757c33edc",
   "metadata": {
    "id": "28c99b8b-ab6b-4b90-abce-ef9757c33edc"
   },
   "outputs": [
    {
     "name": "stderr",
     "output_type": "stream",
     "text": [
      "C:\\Users\\user\\AppData\\Local\\Temp\\ipykernel_7296\\2706477368.py:3: LangChainDeprecationWarning: The method `BaseRetriever.get_relevant_documents` was deprecated in langchain-core 0.1.46 and will be removed in 1.0. Use :meth:`~invoke` instead.\n",
      "  retriever.get_relevant_documents(\"국회의원의 의무\")\n"
     ]
    },
    {
     "data": {
      "text/plain": [
       "[Document(id='46c8c67e-dfd1-442e-86e0-71a8641c14b7', metadata={'moddate': '2024-04-01T21:26:24+09:00', 'producer': 'iText 2.1.7 by 1T3XT', 'creator': 'PyPDF', 'page_label': '5', 'total_pages': 14, 'source': '../../../data/Langchain-RAG/대한민국헌법(헌법)(제00010호)(19880225).pdf', 'page': 4, 'creationdate': '2024-04-01T21:26:24+09:00'}, page_content='③국회의원은 그 지위를 남용하여 국가ㆍ공공단체 또는 기업체와의 계약이나 그 처분에 의하여 재산상의 권리ㆍ이\\n익 또는 직위를 취득하거나 타인을 위하여 그 취득을 알선할 수 없다.\\n \\n제47조 ①국회의 정기회는 법률이 정하는 바에 의하여 매년 1회 집회되며, 국회의 임시회는 대통령 또는 국회재적의원\\n4분의 1 이상의 요구에 의하여 집회된다.\\n②정기회의 회기는 100일을, 임시회의 회기는 30일을 초과할 수 없다.\\n③대통령이 임시회의 집회를 요구할 때에는 기간과 집회요구의 이유를 명시하여야 한다.\\n \\n제48조 국회는 의장 1인과 부의장 2인을 선출한다.\\n \\n제49조 국회는 헌법 또는 법률에 특별한 규정이 없는 한 재적의원 과반수의 출석과 출석의원 과반수의 찬성으로 의결\\n한다. 가부동수인 때에는 부결된 것으로 본다.\\n \\n제50조 ①국회의 회의는 공개한다. 다만, 출석의원 과반수의 찬성이 있거나 의장이 국가의 안전보장을 위하여 필요하다\\n고 인정할 때에는 공개하지 아니할 수 있다.'),\n",
       " Document(id='d2e600fb-f258-4279-92c6-ce217bff76aa', metadata={'creationdate': '2024-04-01T21:26:24+09:00', 'producer': 'iText 2.1.7 by 1T3XT', 'page_label': '5', 'creator': 'PyPDF', 'moddate': '2024-04-01T21:26:24+09:00', 'page': 4, 'total_pages': 14, 'source': '../../../data/Langchain-RAG/대한민국헌법(헌법)(제00010호)(19880225).pdf'}, page_content='③국회의원은 그 지위를 남용하여 국가ㆍ공공단체 또는 기업체와의 계약이나 그 처분에 의하여 재산상의 권리ㆍ이\\n익 또는 직위를 취득하거나 타인을 위하여 그 취득을 알선할 수 없다.\\n \\n제47조 ①국회의 정기회는 법률이 정하는 바에 의하여 매년 1회 집회되며, 국회의 임시회는 대통령 또는 국회재적의원\\n4분의 1 이상의 요구에 의하여 집회된다.\\n②정기회의 회기는 100일을, 임시회의 회기는 30일을 초과할 수 없다.\\n③대통령이 임시회의 집회를 요구할 때에는 기간과 집회요구의 이유를 명시하여야 한다.\\n \\n제48조 국회는 의장 1인과 부의장 2인을 선출한다.\\n \\n제49조 국회는 헌법 또는 법률에 특별한 규정이 없는 한 재적의원 과반수의 출석과 출석의원 과반수의 찬성으로 의결\\n한다. 가부동수인 때에는 부결된 것으로 본다.\\n \\n제50조 ①국회의 회의는 공개한다. 다만, 출석의원 과반수의 찬성이 있거나 의장이 국가의 안전보장을 위하여 필요하다\\n고 인정할 때에는 공개하지 아니할 수 있다.'),\n",
       " Document(id='ebb337cb-8673-402f-85e1-b9c1acb8abf6', metadata={'producer': 'iText 2.1.7 by 1T3XT', 'creationdate': '2024-04-01T21:26:24+09:00', 'source': '../../../data/Langchain-RAG/대한민국헌법(헌법)(제00010호)(19880225).pdf', 'page': 4, 'page_label': '5', 'creator': 'PyPDF', 'total_pages': 14, 'moddate': '2024-04-01T21:26:24+09:00'}, page_content='법제처                                                            5                                                       국가법령정보센터\\n대한민국헌법\\n③국회의원의 선거구와 비례대표제 기타 선거에 관한 사항은 법률로 정한다.\\n \\n제42조 국회의원의 임기는 4년으로 한다.\\n \\n제43조 국회의원은 법률이 정하는 직을 겸할 수 없다.\\n \\n제44조 ①국회의원은 현행범인인 경우를 제외하고는 회기 중 국회의 동의없이 체포 또는 구금되지 아니한다.\\n②국회의원이 회기 전에 체포 또는 구금된 때에는 현행범인이 아닌 한 국회의 요구가 있으면 회기 중 석방된다.\\n \\n제45조 국회의원은 국회에서 직무상 행한 발언과 표결에 관하여 국회 외에서 책임을 지지 아니한다.\\n \\n제46조 ①국회의원은 청렴의 의무가 있다.\\n②국회의원은 국가이익을 우선하여 양심에 따라 직무를 행한다.')]"
      ]
     },
     "execution_count": 9,
     "metadata": {},
     "output_type": "execute_result"
    }
   ],
   "source": [
    "#Chroma를 Retriever로 활용\n",
    "retriever = db.as_retriever(search_kwargs = {\"k\":3})\n",
    "retriever.get_relevant_documents(\"국회의원의 의무\")\n"
   ]
  },
  {
   "cell_type": "markdown",
   "id": "f39d3627-574a-4b40-9153-3e5607b22d28",
   "metadata": {
    "id": "f39d3627-574a-4b40-9153-3e5607b22d28"
   },
   "source": [
    "### **사용자의 쿼리를 재해석하여 검색하다, MultiQueryRetriever**"
   ]
  },
  {
   "cell_type": "markdown",
   "id": "b827c04e-5c8d-4fb6-8765-f260147e32a7",
   "metadata": {
    "id": "b827c04e-5c8d-4fb6-8765-f260147e32a7"
   },
   "source": [
    "**Chroma DB에 문서 벡터 저장**"
   ]
  },
  {
   "cell_type": "code",
   "execution_count": 10,
   "id": "c94f53e7-088b-4927-ab60-30055b1659c3",
   "metadata": {
    "id": "c94f53e7-088b-4927-ab60-30055b1659c3"
   },
   "outputs": [],
   "source": [
    "from langchain.document_loaders import PyPDFLoader\n",
    "from langchain_text_splitters import RecursiveCharacterTextSplitter\n",
    "from langchain_openai import OpenAIEmbeddings\n",
    "from langchain_chroma import Chroma\n",
    "\n",
    "#헌법 PDF 파일 로드\n",
    "loader = PyPDFLoader(r\"../../../data/Langchain-RAG/대한민국헌법(헌법)(제00010호)(19880225).pdf\")\n",
    "pages = loader.load_and_split()\n",
    "\n",
    "#PDF 파일을 500자 청크로 분할\n",
    "text_splitter = RecursiveCharacterTextSplitter(chunk_size=500, chunk_overlap=0)\n",
    "docs = text_splitter.split_documents(pages)\n",
    "\n",
    "#ChromaDB에 청크들을 벡터 임베딩으로 저장(OpenAI 임베딩 모델 활용)\n",
    "db = Chroma.from_documents(docs, OpenAIEmbeddings(model = 'text-embedding-3-small'))"
   ]
  },
  {
   "cell_type": "markdown",
   "id": "32afbeb6-fe95-4056-82a1-4575bbcb80d5",
   "metadata": {
    "id": "32afbeb6-fe95-4056-82a1-4575bbcb80d5"
   },
   "source": [
    "**질문을 여러 버전으로 재해석하여 Retriever에 활용**"
   ]
  },
  {
   "cell_type": "code",
   "execution_count": 11,
   "id": "d07f336e-18b5-474f-891c-036f8d944a9c",
   "metadata": {
    "id": "d07f336e-18b5-474f-891c-036f8d944a9c"
   },
   "outputs": [
    {
     "name": "stderr",
     "output_type": "stream",
     "text": [
      "INFO:langchain.retrievers.multi_query:Generated queries: ['국회의원이 수행해야 하는 의무는 어떤 것들이 있나요?  ', '국회의원의 책임과 의무에 대해 설명해 주세요.  ', '국회의원으로서 지켜야 할 의무는 무엇인가요?']\n"
     ]
    },
    {
     "data": {
      "text/plain": [
       "8"
      ]
     },
     "execution_count": 11,
     "metadata": {},
     "output_type": "execute_result"
    }
   ],
   "source": [
    "#```Chroma DB에 대한민국 헌법 PDF 임베딩 변환 및 저장하는 과정은 위 셀에 있습니다```\n",
    "from langchain.retrievers.multi_query import MultiQueryRetriever\n",
    "from langchain_openai import ChatOpenAI\n",
    "\n",
    "#질문 문장 question으로 저장\n",
    "question = \"국회의원의 의무는 무엇이 있나요?\"\n",
    "#여러 버전의 질문으로 변환하는 역할을 맡을 LLM 선언\n",
    "llm = ChatOpenAI(model_name=\"gpt-4o-mini\",\n",
    "                 temperature = 0)\n",
    "#MultiQueryRetriever에 벡터DB 기반 Retriever와 LLM 선언\n",
    "retriever_from_llm = MultiQueryRetriever.from_llm(\n",
    "    retriever=db.as_retriever(), llm=llm\n",
    ")\n",
    "\n",
    "# 여러 버전의 문장 생성 결과를 확인하기 위한 로깅 과정\n",
    "import logging\n",
    "logging.basicConfig()\n",
    "logging.getLogger(\"langchain.retrievers.multi_query\").setLevel(logging.INFO)\n",
    "\n",
    "#여러 버전 질문 생성 결과와 유사 청크 검색 개수 출력\n",
    "unique_docs = retriever_from_llm.invoke(input=question)\n",
    "len(unique_docs)"
   ]
  },
  {
   "cell_type": "markdown",
   "id": "098f4e88-9264-4e41-a7aa-715957c33950",
   "metadata": {
    "id": "098f4e88-9264-4e41-a7aa-715957c33950"
   },
   "source": [
    "### **문서를 여러 벡터로 재해석하다, MultiVectorRetriever**"
   ]
  },
  {
   "cell_type": "markdown",
   "id": "a0cd16eb-fae7-42df-9d30-70f3ef0bc8c9",
   "metadata": {
    "id": "a0cd16eb-fae7-42df-9d30-70f3ef0bc8c9"
   },
   "source": [
    "**Chroma DB에 문서 벡터 저장**"
   ]
  },
  {
   "cell_type": "code",
   "execution_count": 16,
   "id": "e650226e-1b22-4259-b2a1-d8ce2f1103ab",
   "metadata": {
    "id": "e650226e-1b22-4259-b2a1-d8ce2f1103ab"
   },
   "outputs": [],
   "source": [
    "from langchain.retrievers.multi_vector import MultiVectorRetriever\n",
    "from langchain.storage import InMemoryByteStore\n",
    "from langchain_chroma import Chroma\n",
    "from langchain_text_splitters import RecursiveCharacterTextSplitter\n",
    "from langchain.document_loaders import PyPDFLoader\n",
    "\n",
    "loaders = PyPDFLoader(r\"../../../data/Langchain-RAG/대한민국헌법(헌법)(제00010호)(19880225).pdf\"),\n",
    "docs = loader.load()\n",
    "text_splitter = RecursiveCharacterTextSplitter(chunk_size=2000)\n",
    "docs = text_splitter.split_documents(docs)"
   ]
  },
  {
   "cell_type": "markdown",
   "id": "fbbd162e-d7de-4eab-94f6-c164c5fc8360",
   "metadata": {
    "id": "fbbd162e-d7de-4eab-94f6-c164c5fc8360"
   },
   "source": [
    "**Multi Vector를 만들기 위한 작업**"
   ]
  },
  {
   "cell_type": "code",
   "execution_count": 17,
   "id": "7d446a6f-e53f-40fb-b886-0251cd495935",
   "metadata": {
    "id": "7d446a6f-e53f-40fb-b886-0251cd495935"
   },
   "outputs": [],
   "source": [
    "from langchain.embeddings import HuggingFaceEmbeddings\n",
    "\n",
    "model_name = \"jhgan/ko-sbert-nli\"\n",
    "model_kwargs = {'device': 'cpu'}\n",
    "encode_kwargs = {'normalize_embeddings': True}\n",
    "embedding = HuggingFaceEmbeddings(\n",
    "    model_name=model_name,\n",
    "    model_kwargs=model_kwargs,\n",
    "    encode_kwargs=encode_kwargs\n",
    ")                                             # 허깅페이스의 \"jhgan/ko-sbert-nli\" 모델 로드\n",
    "\n",
    "vectorstore = Chroma(\n",
    "    collection_name=\"full_documents\", embedding_function=embedding\n",
    ")\n",
    "# 상위 문서 저장 위한 레이어 선언\n",
    "store = InMemoryByteStore()                   # InMemoryByteStore는 상위청크를 저장하고 이를 하위청크와 연결할 수 있도록 보조\n",
    "id_key = \"doc_id\"\n",
    "# 상위 문서와 하위 문서를 연결할 키값으로 doc_id 사용\n",
    "retriever = MultiVectorRetriever(\n",
    "    vectorstore=vectorstore,\n",
    "    byte_store=store,\n",
    "    id_key=id_key,\n",
    ")\n",
    "\n",
    "#문서 id로 고유한 값을 지정하기 위해 uuid 라이브러리 호출\n",
    "import uuid\n",
    "doc_ids = [str(uuid.uuid4()) for _ in docs]"
   ]
  },
  {
   "cell_type": "code",
   "execution_count": 18,
   "id": "26158345-63c4-4e8b-b4e9-1388bf3394c4",
   "metadata": {
    "id": "26158345-63c4-4e8b-b4e9-1388bf3394c4"
   },
   "outputs": [],
   "source": [
    "# 하위 청크로 쪼개기 위한 child_text_splitter 지정\n",
    "child_text_splitter = RecursiveCharacterTextSplitter(chunk_size=400)\n",
    "# 상위 청크들을 순회하며 하위 청크로 분할한 후 상위 청크 id 상속\n",
    "sub_docs = []\n",
    "for i, doc in enumerate(docs):\n",
    "    _id = doc_ids[i]\n",
    "    _sub_docs = child_text_splitter.split_documents([doc])\n",
    "    for _doc in _sub_docs:\n",
    "        _doc.metadata[id_key] = _id\n",
    "    sub_docs.extend(_sub_docs)\n",
    "#vectorstore에 하위 청크 추가\n",
    "retriever.vectorstore.add_documents(sub_docs)\n",
    "#docstore에 상위청크 저장할 때, doc_ids 지정\n",
    "retriever.docstore.mset(list(zip(doc_ids, docs)))"
   ]
  },
  {
   "cell_type": "code",
   "execution_count": 19,
   "id": "2ce2da81-9344-4712-b77c-0314d1c5b1df",
   "metadata": {
    "id": "2ce2da81-9344-4712-b77c-0314d1c5b1df"
   },
   "outputs": [
    {
     "name": "stdout",
     "output_type": "stream",
     "text": [
      "[하위 청크] \n",
      "\n",
      "③공공필요에 의한 재산권의 수용ㆍ사용 또는 제한 및 그에 대한 보상은 법률로써 하되, 정당한 보상을 지급하여야\n",
      "한다.\n",
      " \n",
      "제24조 모든 국민은 법률이 정하는 바에 의하여 선거권을 가진다.\n",
      " \n",
      "제25조 모든 국민은 법률이 정하는 바에 의하여 공무담임권을 가진다.\n",
      " \n",
      "제26조 ①모든 국민은 법률이 정하는 바에 의하여 국가기관에 문서로 청원할 권리를 가진다.\n",
      "②국가는 청원에 대하여 심사할 의무를 진다.\n",
      " \n",
      "제27조 ①모든 국민은 헌법과 법률이 정한 법관에 의하여 법률에 의한 재판을 받을 권리를 가진다.\n",
      "②군인 또는 군무원이 아닌 국민은 대한민국의 영역 안에서는 중대한 군사상 기밀ㆍ초병ㆍ초소ㆍ유독음식물공급\n",
      "ㆍ포로ㆍ군용물에 관한 죄중 법률이 정한 경우와 비상계엄이 선포된 경우를 제외하고는 군사법원의 재판을 받지\n",
      "--------------------------------------------------\n",
      "[상위 청크] \n",
      "\n",
      "법제처                                                            3                                                       국가법령정보센터\n",
      "대한민국헌법\n",
      "제21조 ①모든 국민은 언론ㆍ출판의 자유와 집회ㆍ결사의 자유를 가진다.\n",
      "②언론ㆍ출판에 대한 허가나 검열과 집회ㆍ결사에 대한 허가는 인정되지 아니한다.\n",
      "③통신ㆍ방송의 시설기준과 신문의 기능을 보장하기 위하여 필요한 사항은 법률로 정한다.\n",
      "④언론ㆍ출판은 타인의 명예나 권리 또는 공중도덕이나 사회윤리를 침해하여서는 아니된다. 언론ㆍ출판이 타인의\n",
      "명예나 권리를 침해한 때에는 피해자는 이에 대한 피해의 배상을 청구할 수 있다.\n",
      " \n",
      "제22조 ①모든 국민은 학문과 예술의 자유를 가진다.\n",
      "②저작자ㆍ발명가ㆍ과학기술자와 예술가의 권리는 법률로써 보호한다.\n",
      " \n",
      "제23조 ①모든 국민의 재산권은 보장된다. 그 내용과 한계는 법률로 정한다.\n",
      "②재산권의 행사는 공공복리에 적합하도록 하여야 한다.\n",
      "③공공필요에 의한 재산권의 수용ㆍ사용 또는 제한 및 그에 대한 보상은 법률로써 하되, 정당한 보상을 지급하여야\n",
      "한다.\n",
      " \n",
      "제24조 모든 국민은 법률이 정하는 바에 의하여 선거권을 가진다.\n",
      " \n",
      "제25조 모든 국민은 법률이 정하는 바에 의하여 공무담임권을 가진다.\n",
      " \n",
      "제26조 ①모든 국민은 법률이 정하는 바에 의하여 국가기관에 문서로 청원할 권리를 가진다.\n",
      "②국가는 청원에 대하여 심사할 의무를 진다.\n",
      " \n",
      "제27조 ①모든 국민은 헌법과 법률이 정한 법관에 의하여 법률에 의한 재판을 받을 권리를 가진다.\n",
      "②군인 또는 군무원이 아닌 국민은 대한민국의 영역 안에서는 중대한 군사상 기밀ㆍ초병ㆍ초소ㆍ유독음식물공급\n",
      "ㆍ포로ㆍ군용물에 관한 죄중 법률이 정한 경우와 비상계엄이 선포된 경우를 제외하고는 군사법원의 재판을 받지\n",
      "아니한다.\n",
      "③모든 국민은 신속한 재판을 받을 권리를 가진다. 형사피고인은 상당한 이유가 없는 한 지체없이 공개재판을 받을\n",
      "권리를 가진다.\n",
      "④형사피고인은 유죄의 판결이 확정될 때까지는 무죄로 추정된다.\n",
      "⑤형사피해자는 법률이 정하는 바에 의하여 당해 사건의 재판절차에서 진술할 수 있다.\n",
      " \n",
      "제28조 형사피의자 또는 형사피고인으로서 구금되었던 자가 법률이 정하는 불기소처분을 받거나 무죄판결을 받은 때\n",
      "에는 법률이 정하는 바에 의하여 국가에 정당한 보상을 청구할 수 있다.\n",
      " \n",
      "제29조 ①공무원의 직무상 불법행위로 손해를 받은 국민은 법률이 정하는 바에 의하여 국가 또는 공공단체에 정당한\n",
      "배상을 청구할 수 있다. 이 경우 공무원 자신의 책임은 면제되지 아니한다.\n",
      "②군인ㆍ군무원ㆍ경찰공무원 기타 법률이 정하는 자가 전투ㆍ훈련등 직무집행과 관련하여 받은 손해에 대하여는\n",
      "법률이 정하는 보상 외에 국가 또는 공공단체에 공무원의 직무상 불법행위로 인한 배상은 청구할 수 없다.\n",
      " \n",
      "제30조 타인의 범죄행위로 인하여 생명ㆍ신체에 대한 피해를 받은 국민은 법률이 정하는 바에 의하여 국가로부터 구조\n",
      "를 받을 수 있다.\n",
      " \n",
      "제31조 ①모든 국민은 능력에 따라 균등하게 교육을 받을 권리를 가진다.\n",
      "②모든 국민은 그 보호하는 자녀에게 적어도 초등교육과 법률이 정하는 교육을 받게 할 의무를 진다.\n",
      "③의무교육은 무상으로 한다.\n",
      "④교육의 자주성ㆍ전문성ㆍ정치적 중립성 및 대학의 자율성은 법률이 정하는 바에 의하여 보장된다.\n",
      "⑤국가는 평생교육을 진흥하여야 한다.\n",
      "⑥학교교육 및 평생교육을 포함한 교육제도와 그 운영, 교육재정 및 교원의 지위에 관한 기본적인 사항은 법률로 정\n",
      "한다.\n"
     ]
    }
   ],
   "source": [
    "# Vectorstore alone retrieves the small chunks\n",
    "print(\"[하위 청크] \\n\")\n",
    "print(retriever.vectorstore.similarity_search(\"국민의 권리\")[0].page_content)\n",
    "print(\"-\"*50)\n",
    "print(\"[상위 청크] \\n\")\n",
    "print(retriever.invoke(\"국민의 권리\")[0].page_content)"
   ]
  },
  {
   "cell_type": "markdown",
   "id": "53ed9410-784b-4e1e-9216-31b17ca62679",
   "metadata": {
    "id": "53ed9410-784b-4e1e-9216-31b17ca62679"
   },
   "source": [
    "### **컨텍스트 재정렬, Long-Context Reorder**"
   ]
  },
  {
   "cell_type": "markdown",
   "id": "24de51ff-30e1-4b07-8799-78eddf2fd34e",
   "metadata": {
    "id": "24de51ff-30e1-4b07-8799-78eddf2fd34e"
   },
   "source": [
    "**[Long-Context Reorder 없이 유사 문서 출력]**"
   ]
  },
  {
   "cell_type": "code",
   "execution_count": 20,
   "id": "5eedc1d3-2882-4547-90d4-936590b642da",
   "metadata": {
    "id": "5eedc1d3-2882-4547-90d4-936590b642da"
   },
   "outputs": [],
   "source": [
    "#Chroma dimension 관련 에러 발생 시 실행\n",
    "# Chroma().delete_collection()"
   ]
  },
  {
   "cell_type": "code",
   "execution_count": 21,
   "id": "c2576e9d-4b09-4b9f-81f7-bf10828a9bd0",
   "metadata": {
    "id": "c2576e9d-4b09-4b9f-81f7-bf10828a9bd0"
   },
   "outputs": [
    {
     "data": {
      "text/plain": [
       "[Document(id='f29118fa-1241-49b0-bdc6-ae49922a6f58', metadata={}, page_content='L. 코넷은 최고의 셀틱스 선수 중 한 명입니다.'),\n",
       " Document(id='18ddfc03-9bb2-458a-ad7a-e572af1f83b0', metadata={}, page_content='셀틱스는 제가 가장 좋아하는 팀입니다.'),\n",
       " Document(id='f5ba8274-b60d-4ee4-8925-bf6779384d6a', metadata={}, page_content='이것은 그냥 임의의 텍스트입니다.'),\n",
       " Document(id='64b24f09-ca80-479a-a831-f2ce8fdf3dcb', metadata={}, page_content='이것은 보스턴 셀틱스에 관한 문서입니다.저는 단순히 영화 보러 가는 것을 좋아합니다'),\n",
       " Document(id='c8d75e41-59df-414a-a5a0-9ab4e6f65c66', metadata={}, page_content='바스켓볼은 훌륭한 스포츠입니다.'),\n",
       " Document(id='6cc3c024-b466-443e-9c8a-ca0dbd60f93f', metadata={}, page_content='보스턴 셀틱스가 20점차로 이겼어요'),\n",
       " Document(id='2e15249e-fa97-48d4-93ae-78669d137bb5', metadata={}, page_content='플라이 미 투 더 문은 제가 가장 좋아하는 노래 중 하나입니다.'),\n",
       " Document(id='a24e47ea-6c44-4026-b46a-2a3e832a9d96', metadata={}, page_content='엘든 링은 지난 15 년 동안 최고의 게임 중 하나입니다.'),\n",
       " Document(id='b3a2d9aa-6f88-4c63-b10b-189cf7f7052d', metadata={}, page_content='래리 버드는 상징적인 NBA 선수였습니다.')]"
      ]
     },
     "execution_count": 21,
     "metadata": {},
     "output_type": "execute_result"
    }
   ],
   "source": [
    "from langchain.chains import LLMChain, StuffDocumentsChain\n",
    "from langchain_chroma import Chroma\n",
    "from langchain.document_transformers import (\n",
    "    LongContextReorder,\n",
    ")\n",
    "from langchain.embeddings import HuggingFaceEmbeddings\n",
    "from langchain.prompts import PromptTemplate\n",
    "from langchain_openai import OpenAI\n",
    "\n",
    "Chroma().delete_collection()\n",
    "\n",
    "# 한글 임베딩 모델 선언\n",
    "model_name = \"jhgan/ko-sbert-nli\"\n",
    "model_kwargs = {'device': 'cpu'}\n",
    "encode_kwargs = {'normalize_embeddings': True}\n",
    "embedding = HuggingFaceEmbeddings(\n",
    "    model_name=model_name,\n",
    "    model_kwargs=model_kwargs,\n",
    "    encode_kwargs=encode_kwargs\n",
    ")\n",
    "\n",
    "texts = [\n",
    "    \"바스켓볼은 훌륭한 스포츠입니다.\",\n",
    "    \"플라이 미 투 더 문은 제가 가장 좋아하는 노래 중 하나입니다.\",\n",
    "    \"셀틱스는 제가 가장 좋아하는 팀입니다.\",\n",
    "    \"이것은 보스턴 셀틱스에 관한 문서입니다.\"\n",
    "    \"저는 단순히 영화 보러 가는 것을 좋아합니다\",\n",
    "    \"보스턴 셀틱스가 20점차로 이겼어요\",\n",
    "    \"이것은 그냥 임의의 텍스트입니다.\",\n",
    "    \"엘든 링은 지난 15 년 동안 최고의 게임 중 하나입니다.\",\n",
    "    \"L. 코넷은 최고의 셀틱스 선수 중 한 명입니다.\",\n",
    "    \"래리 버드는 상징적인 NBA 선수였습니다.\",\n",
    "]\n",
    "# Chroma Retriever 선언(10개의 유사 문서 출력)\n",
    "retriever = Chroma.from_texts(texts, embedding=embedding).as_retriever(\n",
    "    search_kwargs={\"k\": 10}\n",
    ")\n",
    "query = \"셀틱에 대해 설명해줘\"\n",
    "\n",
    "# 유사도 기준으로 검색 결과 출력\n",
    "docs = retriever.invoke(query)\n",
    "docs"
   ]
  },
  {
   "cell_type": "markdown",
   "id": "da360438-90dd-4a51-9a12-9665f9908be1",
   "metadata": {
    "id": "da360438-90dd-4a51-9a12-9665f9908be1"
   },
   "source": [
    "**[Long-Context Reorder 활용하여 유사 문서 출력]**"
   ]
  },
  {
   "cell_type": "code",
   "execution_count": 22,
   "id": "9a56f567-ddf3-427e-9203-7b1957a4afe2",
   "metadata": {
    "id": "9a56f567-ddf3-427e-9203-7b1957a4afe2"
   },
   "outputs": [
    {
     "data": {
      "text/plain": [
       "[Document(id='f29118fa-1241-49b0-bdc6-ae49922a6f58', metadata={}, page_content='L. 코넷은 최고의 셀틱스 선수 중 한 명입니다.'),\n",
       " Document(id='f5ba8274-b60d-4ee4-8925-bf6779384d6a', metadata={}, page_content='이것은 그냥 임의의 텍스트입니다.'),\n",
       " Document(id='c8d75e41-59df-414a-a5a0-9ab4e6f65c66', metadata={}, page_content='바스켓볼은 훌륭한 스포츠입니다.'),\n",
       " Document(id='2e15249e-fa97-48d4-93ae-78669d137bb5', metadata={}, page_content='플라이 미 투 더 문은 제가 가장 좋아하는 노래 중 하나입니다.'),\n",
       " Document(id='b3a2d9aa-6f88-4c63-b10b-189cf7f7052d', metadata={}, page_content='래리 버드는 상징적인 NBA 선수였습니다.'),\n",
       " Document(id='a24e47ea-6c44-4026-b46a-2a3e832a9d96', metadata={}, page_content='엘든 링은 지난 15 년 동안 최고의 게임 중 하나입니다.'),\n",
       " Document(id='6cc3c024-b466-443e-9c8a-ca0dbd60f93f', metadata={}, page_content='보스턴 셀틱스가 20점차로 이겼어요'),\n",
       " Document(id='64b24f09-ca80-479a-a831-f2ce8fdf3dcb', metadata={}, page_content='이것은 보스턴 셀틱스에 관한 문서입니다.저는 단순히 영화 보러 가는 것을 좋아합니다'),\n",
       " Document(id='18ddfc03-9bb2-458a-ad7a-e572af1f83b0', metadata={}, page_content='셀틱스는 제가 가장 좋아하는 팀입니다.')]"
      ]
     },
     "execution_count": 22,
     "metadata": {},
     "output_type": "execute_result"
    }
   ],
   "source": [
    "#LongContextReorder 선언\n",
    "reordering = LongContextReorder()\n",
    "#검색된 유사문서 중 관련도가 높은 문서를 맨앞과 맨뒤에 재정배치\n",
    "reordered_docs = reordering.transform_documents(docs)\n",
    "reordered_docs"
   ]
  },
  {
   "cell_type": "code",
   "execution_count": null,
   "id": "5348d291-016c-431b-85ce-b87e300655b1",
   "metadata": {
    "id": "5348d291-016c-431b-85ce-b87e300655b1"
   },
   "outputs": [],
   "source": []
  }
 ],
 "metadata": {
  "colab": {
   "provenance": []
  },
  "kernelspec": {
   "display_name": "Python 3 (ipykernel)",
   "language": "python",
   "name": "python3"
  },
  "language_info": {
   "codemirror_mode": {
    "name": "ipython",
    "version": 3
   },
   "file_extension": ".py",
   "mimetype": "text/x-python",
   "name": "python",
   "nbconvert_exporter": "python",
   "pygments_lexer": "ipython3",
   "version": "3.13.7"
  }
 },
 "nbformat": 4,
 "nbformat_minor": 5
}
