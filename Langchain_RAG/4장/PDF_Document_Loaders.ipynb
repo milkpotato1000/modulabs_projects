{
 "cells": [
  {
   "cell_type": "markdown",
   "id": "51fd9159-e8ba-477b-9b20-a22438307df1",
   "metadata": {
    "id": "51fd9159-e8ba-477b-9b20-a22438307df1"
   },
   "source": [
    "## **PDF Loaders**"
   ]
  },
  {
   "cell_type": "markdown",
   "id": "4d8476f5-73b4-419f-9741-a2d95f9d5263",
   "metadata": {
    "id": "4d8476f5-73b4-419f-9741-a2d95f9d5263"
   },
   "source": [
    "### **PyPDF Loader**"
   ]
  },
  {
   "cell_type": "code",
   "execution_count": null,
   "id": "5783fe14-26b1-4488-8c03-88d254f43ca9",
   "metadata": {
    "id": "5783fe14-26b1-4488-8c03-88d254f43ca9"
   },
   "outputs": [],
   "source": [
    "# #필수 라이브러리 설치\n",
    "# !pip install langchain langchain-community pypdf"
   ]
  },
  {
   "cell_type": "markdown",
   "id": "2ad7618e-ecf1-4c0c-a057-1144943e1396",
   "metadata": {
    "id": "2ad7618e-ecf1-4c0c-a057-1144943e1396"
   },
   "source": [
    "**[이미지+텍스트 페이지 내 텍스트 추출]**"
   ]
  },
  {
   "cell_type": "code",
   "execution_count": null,
   "id": "99b0a25c-65ff-4a57-849d-448f3165d563",
   "metadata": {
    "id": "99b0a25c-65ff-4a57-849d-448f3165d563"
   },
   "outputs": [],
   "source": [
    "#PyPDFLoader 불러오기\n",
    "from langchain.document_loaders import PyPDFLoader\n",
    "filename = \"../data/[이슈리포트 2022-2호] 혁신성장 정책금융 동향.pdf\"\n",
    "# PDF파일 불러올 객체 PyPDFLoader 선언\n",
    "loader = PyPDFLoader(filename)\n",
    "\n",
    "# PDF파일 로드 및 페이지별로 자르기\n",
    "pages = loader.load_and_split()\n",
    "print(pages[5].page_content)"
   ]
  },
  {
   "cell_type": "markdown",
   "id": "ae9af824-f25b-473c-93e2-8ca6ce8983e9",
   "metadata": {
    "id": "ae9af824-f25b-473c-93e2-8ca6ce8983e9"
   },
   "source": [
    "**[OCR 기능 활용하여 이미지-텍스트 혼합 페이지 내 텍스트 추출하기]**"
   ]
  },
  {
   "cell_type": "code",
   "execution_count": null,
   "id": "c68bdbf8-8722-40a9-90f2-77464a89e46c",
   "metadata": {
    "id": "c68bdbf8-8722-40a9-90f2-77464a89e46c"
   },
   "outputs": [],
   "source": [
    "# #OCR기능 위해 설치\n",
    "# !pip install rapidocr-onnxruntime"
   ]
  },
  {
   "cell_type": "markdown",
   "id": "a36f3829-bcd0-4f27-b0af-d960db8af1e8",
   "metadata": {
    "id": "a36f3829-bcd0-4f27-b0af-d960db8af1e8"
   },
   "source": [
    "*아래 셀은 실행 시 많은 시간이 소요됩니다."
   ]
  },
  {
   "cell_type": "code",
   "execution_count": null,
   "id": "be08e923-c8dd-403e-b69e-f0074c7dcc2b",
   "metadata": {
    "id": "be08e923-c8dd-403e-b69e-f0074c7dcc2b"
   },
   "outputs": [],
   "source": [
    "#PyPDFLoader 불러오기\n",
    "from langchain.document_loaders import PyPDFLoader\n",
    "\n",
    "# PDF파일 불러올 객체 PyPDFLoader 선언(extract_images 매개변수로 OCR 수행)\n",
    "loader = PyPDFLoader(filename, extract_images=True)\n",
    "\n",
    "# PDF파일 로드 및 페이지별로 자르기\n",
    "pages = loader.load_and_split()\n",
    "print(pages[5].page_content)"
   ]
  },
  {
   "cell_type": "markdown",
   "id": "ee45f1ad-3e43-4573-803c-a778ea6c4f3b",
   "metadata": {
    "id": "ee45f1ad-3e43-4573-803c-a778ea6c4f3b"
   },
   "source": [
    "**[페이지 내 테이블 추출하기]**"
   ]
  },
  {
   "cell_type": "code",
   "execution_count": null,
   "id": "5952aae1-ad13-403c-8a97-798b8977a166",
   "metadata": {
    "id": "5952aae1-ad13-403c-8a97-798b8977a166"
   },
   "outputs": [],
   "source": [
    "#PyPDFLoader 불러오기\n",
    "from langchain.document_loaders import PyPDFLoader\n",
    "\n",
    "# PDF파일 불러올 객체 PyPDFLoader 선언\n",
    "loader = PyPDFLoader(filename)\n",
    "\n",
    "# PDF파일 로드 및 페이지별로 자르기\n",
    "pages = loader.load_and_split()\n",
    "print(pages[3])"
   ]
  },
  {
   "cell_type": "markdown",
   "id": "9a1810c5-ca25-48cf-9714-bbf59029d205",
   "metadata": {
    "id": "9a1810c5-ca25-48cf-9714-bbf59029d205"
   },
   "source": [
    "### **PyPDFium2**"
   ]
  },
  {
   "cell_type": "markdown",
   "id": "e381093d-0740-44db-9166-6f944803eaef",
   "metadata": {
    "id": "e381093d-0740-44db-9166-6f944803eaef"
   },
   "source": [
    "**[이미지+텍스트 페이지 내 텍스트 추출]**"
   ]
  },
  {
   "cell_type": "code",
   "execution_count": null,
   "id": "a57e532a-ca50-463d-b2f9-8bf5c4b91e4b",
   "metadata": {
    "id": "a57e532a-ca50-463d-b2f9-8bf5c4b91e4b"
   },
   "outputs": [],
   "source": [
    "# #PyPDFium2 설치\n",
    "# !pip install pypdfium2"
   ]
  },
  {
   "cell_type": "code",
   "execution_count": null,
   "id": "75a43510-2e68-4a64-bb7a-f49895429e11",
   "metadata": {
    "id": "75a43510-2e68-4a64-bb7a-f49895429e11"
   },
   "outputs": [],
   "source": [
    "#PyPDFium2 불러오기\n",
    "from langchain.document_loaders import PyPDFium2Loader\n",
    "\n",
    "# PDF파일 불러올 객체 PyPDFium2Loader 선언\n",
    "loader = PyPDFium2Loader(filename)\n",
    "\n",
    "# PDF파일 로드 및 페이지별로 자르기(PyPDFium2는 load_and_split 함수 없이도 페이지별로 자름)\n",
    "data = loader.load()\n",
    "print(data[5].page_content)"
   ]
  },
  {
   "cell_type": "markdown",
   "id": "b35cfbc8-a246-42f5-8ff1-68101515ddff",
   "metadata": {
    "id": "b35cfbc8-a246-42f5-8ff1-68101515ddff"
   },
   "source": [
    "**[페이지 내 테이블 추출하기]**"
   ]
  },
  {
   "cell_type": "code",
   "execution_count": null,
   "id": "945a0cac-2b3d-4f60-8af8-9f733f54fc98",
   "metadata": {
    "id": "945a0cac-2b3d-4f60-8af8-9f733f54fc98"
   },
   "outputs": [],
   "source": [
    "#PyPDFium2 불러오기\n",
    "from langchain.document_loaders import PyPDFium2Loader\n",
    "\n",
    "# PDF파일 불러올 객체 PyPDFium2Loader 선언\n",
    "loader = PyPDFium2Loader(filename)\n",
    "\n",
    "# PDF파일 로드 및 페이지별로 자르기(PyPDFium2는 load_and_split 함수 없이도 페이지별로 자름)\n",
    "data = loader.load()\n",
    "print(data[3].page_content)"
   ]
  },
  {
   "cell_type": "markdown",
   "id": "ec348480-4b57-4830-997e-62794e8dc259",
   "metadata": {
    "id": "ec348480-4b57-4830-997e-62794e8dc259"
   },
   "source": [
    "### **PyPDFLoader vs PyPDFium2Loader**"
   ]
  },
  {
   "cell_type": "markdown",
   "id": "2eab9ad4-e454-47ed-9642-f4a7a6c592cf",
   "metadata": {
    "id": "2eab9ad4-e454-47ed-9642-f4a7a6c592cf"
   },
   "source": [
    "**[PyPDFLoader의 텍스트 추출 소요 시간]**"
   ]
  },
  {
   "cell_type": "code",
   "execution_count": null,
   "id": "0c20b0fd-6f8d-48c4-bd0b-728f7a243cc4",
   "metadata": {
    "id": "0c20b0fd-6f8d-48c4-bd0b-728f7a243cc4"
   },
   "outputs": [],
   "source": [
    "%%time\n",
    "from langchain.document_loaders import PyPDFLoader\n",
    "\n",
    "loader = PyPDFLoader(filename)\n",
    "\n",
    "pages = loader.load_and_split()"
   ]
  },
  {
   "cell_type": "markdown",
   "id": "4a1aaacc-1bc8-434a-826e-5fd05273884c",
   "metadata": {
    "id": "4a1aaacc-1bc8-434a-826e-5fd05273884c"
   },
   "source": [
    "**[PyPDFium2의 텍스트 추출 소요 시간]**"
   ]
  },
  {
   "cell_type": "code",
   "execution_count": null,
   "id": "998e311c-95ce-4b98-814d-5e1ccc16c2a4",
   "metadata": {
    "id": "998e311c-95ce-4b98-814d-5e1ccc16c2a4"
   },
   "outputs": [],
   "source": [
    "%%time\n",
    "from langchain.document_loaders import PyPDFium2Loader\n",
    "\n",
    "loader = PyPDFium2Loader(filename)\n",
    "\n",
    "pages = loader.load()"
   ]
  },
  {
   "cell_type": "code",
   "execution_count": null,
   "id": "d62dab6c-efb0-4d8d-ace8-972240741f8f",
   "metadata": {},
   "outputs": [],
   "source": []
  }
 ],
 "metadata": {
  "colab": {
   "provenance": []
  },
  "kernelspec": {
   "display_name": "Python 3 (ipykernel)",
   "language": "python",
   "name": "python3"
  },
  "language_info": {
   "codemirror_mode": {
    "name": "ipython",
    "version": 3
   },
   "file_extension": ".py",
   "mimetype": "text/x-python",
   "name": "python",
   "nbconvert_exporter": "python",
   "pygments_lexer": "ipython3",
   "version": "3.12.7"
  }
 },
 "nbformat": 4,
 "nbformat_minor": 5
}
