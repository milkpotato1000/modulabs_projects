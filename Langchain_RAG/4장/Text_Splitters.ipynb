{
 "cells": [
  {
   "cell_type": "markdown",
   "id": "6de4a0ae-7c59-4dd5-abbe-44c7c7d50bb8",
   "metadata": {
    "id": "6de4a0ae-7c59-4dd5-abbe-44c7c7d50bb8"
   },
   "source": [
    "## **Text Splitters**"
   ]
  },
  {
   "cell_type": "markdown",
   "id": "9ed3b99e-3570-4a33-9939-c9d8cfa5be62",
   "metadata": {
    "id": "9ed3b99e-3570-4a33-9939-c9d8cfa5be62"
   },
   "source": [
    "### **단순 글자수 기반 문서 분할, CharacterTextSplitter**"
   ]
  },
  {
   "cell_type": "markdown",
   "id": "1008e68f-f91d-4d5d-ae72-1f96da329877",
   "metadata": {
    "id": "1008e68f-f91d-4d5d-ae72-1f96da329877"
   },
   "source": [
    "**[Chunk Overlap 개념 알아보기]**"
   ]
  },
  {
   "cell_type": "code",
   "execution_count": null,
   "id": "1cedb8ca-7503-44a1-aa84-bb65202e688c",
   "metadata": {
    "id": "1cedb8ca-7503-44a1-aa84-bb65202e688c"
   },
   "outputs": [],
   "source": [
    "# #Langchain Text Splitter 모듈 다운로드\n",
    "# !pip install -qU langchain langchain-community langchain-text-splitters langchain-openai langchain-experimental pypdfium2 pypdf"
   ]
  },
  {
   "cell_type": "code",
   "execution_count": null,
   "id": "ec318842-d5cd-4856-a3bc-2a8bd7f0df41",
   "metadata": {
    "id": "ec318842-d5cd-4856-a3bc-2a8bd7f0df41"
   },
   "outputs": [],
   "source": [
    "#PyPDFium2Loader로 PDF 문서 로드하기\n",
    "from langchain.document_loaders import PyPDFium2Loader\n",
    "loader = PyPDFium2Loader(r\"../data/[이슈리포트 2022-2호] 혁신성장 정책금융 동향.pdf\")\n",
    "pages = loader.load()\n",
    "\n",
    "#CharacterTextSplitter 모듈 로드\n",
    "from langchain_text_splitters import CharacterTextSplitter\n",
    "\n",
    "#구분자: 줄넘김, 청크 길이: 500, 청크 오버랩: 100, length_function: 글자수\n",
    "text_splitter = CharacterTextSplitter(\n",
    "    separator=\"\\n\",\n",
    "    chunk_size=500,\n",
    "    chunk_overlap=100,\n",
    "    length_function=len\n",
    ")\n",
    "#텍스트 분할\n",
    "texts = text_splitter.split_documents(pages)\n",
    "print(texts[0])"
   ]
  },
  {
   "cell_type": "code",
   "execution_count": null,
   "id": "bb484f68-ee35-402d-b049-52aedb1ce081",
   "metadata": {
    "id": "bb484f68-ee35-402d-b049-52aedb1ce081"
   },
   "outputs": [],
   "source": [
    "print(texts[1])"
   ]
  },
  {
   "cell_type": "code",
   "execution_count": null,
   "id": "f7f139a2-a9aa-4d7e-aee7-a53ea6f29121",
   "metadata": {
    "id": "f7f139a2-a9aa-4d7e-aee7-a53ea6f29121"
   },
   "outputs": [],
   "source": [
    "loader = PyPDFium2Loader(r\"../data/[이슈리포트 2022-2호] 혁신성장 정책금융 동향.pdf\")\n",
    "\n",
    "pages = loader.load()\n",
    "\n",
    "from langchain_text_splitters import CharacterTextSplitter\n",
    "\n",
    "text_splitter = CharacterTextSplitter(\n",
    "    separator=\"\\n\\n\",\n",
    "    chunk_size=500,\n",
    "    chunk_overlap=100,\n",
    "    length_function=len,\n",
    "    is_separator_regex=False,\n",
    ")\n",
    "\n",
    "texts = text_splitter.split_documents(pages)\n",
    "print([len(i.page_content) for i in texts])"
   ]
  },
  {
   "cell_type": "markdown",
   "id": "8e5bd879-6628-484b-a6ce-42db3c75d341",
   "metadata": {
    "id": "8e5bd879-6628-484b-a6ce-42db3c75d341"
   },
   "source": [
    "### **재귀적 문서 분할, RecursiveCharacterTextSplitter**"
   ]
  },
  {
   "cell_type": "code",
   "execution_count": null,
   "id": "8d788f21-b5fb-4c91-b2df-04cdfe20a3d0",
   "metadata": {
    "id": "8d788f21-b5fb-4c91-b2df-04cdfe20a3d0"
   },
   "outputs": [],
   "source": [
    "from langchain.document_loaders import PyPDFium2Loader\n",
    "\n",
    "loader = PyPDFium2Loader(r\"../data/[이슈리포트 2022-2호] 혁신성장 정책금융 동향.pdf\")\n",
    "\n",
    "pages = loader.load()\n",
    "\n",
    "from langchain_text_splitters import RecursiveCharacterTextSplitter\n",
    "\n",
    "text_splitter = RecursiveCharacterTextSplitter (\n",
    "    separators=[\"\\n\\n\", \"\\n\", \" \", \"\"],\n",
    "    chunk_size=500,\n",
    "    chunk_overlap=100,\n",
    "    length_function=len,\n",
    "    is_separator_regex=False,\n",
    ")\n",
    "\n",
    "texts = text_splitter.split_documents(pages)\n",
    "print([len(i.page_content) for i in texts])"
   ]
  },
  {
   "cell_type": "markdown",
   "id": "d2d7f442-7d18-4999-961b-82d06caa8b3a",
   "metadata": {
    "id": "d2d7f442-7d18-4999-961b-82d06caa8b3a"
   },
   "source": [
    "### **문맥 파악 통한 문서 분할, Semantic Chunker**"
   ]
  },
  {
   "cell_type": "code",
   "execution_count": null,
   "id": "c6190cdc-06a2-4dbb-a7f9-adf9420fdee9",
   "metadata": {
    "id": "c6190cdc-06a2-4dbb-a7f9-adf9420fdee9"
   },
   "outputs": [],
   "source": [
    "from langchain.document_loaders import PyPDFLoader\n",
    "\n",
    "loader = PyPDFLoader(r\"../data/BOK 이슈노트 제2022-38호 인공지능 언어모형을 이용한 인플레이션 어조지수 개발 및 시사점.pdf\")\n",
    "pages = loader.load_and_split()\n",
    "\n",
    "from langchain_experimental.text_splitter import SemanticChunker\n",
    "from langchain_openai.embeddings import OpenAIEmbeddings\n",
    "text_splitter = SemanticChunker(OpenAIEmbeddings(openai_api_key = \"YOUR_OPENAI_API_KEY\"))\n",
    "\n",
    "texts = text_splitter.split_documents(pages)\n",
    "print(\"-\"*100)\n",
    "print(\"[첫번째 청크]\")\n",
    "print(texts[0].page_content)\n",
    "print(\"-\"*100)\n",
    "print(\"[두번째 청크]\")\n",
    "print(texts[1].page_content)"
   ]
  },
  {
   "cell_type": "code",
   "execution_count": null,
   "id": "c97be2e2-f1c2-4c26-9c63-00e4bab3e0f5",
   "metadata": {
    "id": "c97be2e2-f1c2-4c26-9c63-00e4bab3e0f5"
   },
   "outputs": [],
   "source": [
    "print([len(i.page_content) for i in texts])"
   ]
  },
  {
   "cell_type": "code",
   "execution_count": null,
   "id": "3fee8277-4541-42f0-b32b-4b85e8cb23d4",
   "metadata": {
    "id": "3fee8277-4541-42f0-b32b-4b85e8cb23d4"
   },
   "outputs": [],
   "source": []
  }
 ],
 "metadata": {
  "colab": {
   "provenance": []
  },
  "kernelspec": {
   "display_name": "Python 3 (ipykernel)",
   "language": "python",
   "name": "python3"
  },
  "language_info": {
   "codemirror_mode": {
    "name": "ipython",
    "version": 3
   },
   "file_extension": ".py",
   "mimetype": "text/x-python",
   "name": "python",
   "nbconvert_exporter": "python",
   "pygments_lexer": "ipython3",
   "version": "3.12.7"
  }
 },
 "nbformat": 4,
 "nbformat_minor": 5
}
