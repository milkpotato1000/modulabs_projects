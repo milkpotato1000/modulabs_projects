{
 "cells": [
  {
   "cell_type": "markdown",
   "id": "b23d901e-a61f-49ba-bb62-e533ef62fc8e",
   "metadata": {
    "id": "b23d901e-a61f-49ba-bb62-e533ef62fc8e"
   },
   "source": [
    "## **Office file Loaders**"
   ]
  },
  {
   "cell_type": "markdown",
   "id": "c91ebeff-9eea-472c-b530-4b31e7b904c5",
   "metadata": {
    "id": "c91ebeff-9eea-472c-b530-4b31e7b904c5"
   },
   "source": [
    "### **Word 파일 불러오기**"
   ]
  },
  {
   "cell_type": "code",
   "execution_count": null,
   "id": "7218b698-144b-4a1d-ac3e-a63ee3e9c942",
   "metadata": {
    "id": "7218b698-144b-4a1d-ac3e-a63ee3e9c942"
   },
   "outputs": [],
   "source": [
    "#Docx2txtLoader 불러오기\n",
    "from langchain.document_loaders import Docx2txtLoader\n",
    "\n",
    "#Docx2txtLoader로 워드 파일 불러오기(경로 설정)\n",
    "loader = Docx2txtLoader(r\"../data/[삼성전자] 사업보고서(일반법인) (2021.03.09).docx\")\n",
    "\n",
    "#페이지로 분할하여 불러오기\n",
    "data = loader.load_and_split()\n",
    "\n",
    "#첫번째 페이지 출력하기\n",
    "print(data[12].page_content[:500])"
   ]
  },
  {
   "cell_type": "code",
   "execution_count": null,
   "id": "860d98d7-e98b-439a-9a66-4dfe41f1e856",
   "metadata": {
    "id": "860d98d7-e98b-439a-9a66-4dfe41f1e856"
   },
   "outputs": [],
   "source": [
    "#로드한 워드파일의 메타데이터 확인\n",
    "print(data[12].metadata)"
   ]
  },
  {
   "cell_type": "markdown",
   "id": "99959741-9e6b-488f-aded-bf13487a7689",
   "metadata": {
    "id": "99959741-9e6b-488f-aded-bf13487a7689"
   },
   "source": [
    "### **CSV 파일 불러오기**"
   ]
  },
  {
   "cell_type": "code",
   "execution_count": null,
   "id": "b2d3f394-a47b-49a5-a9b3-34a64c2e590f",
   "metadata": {
    "id": "b2d3f394-a47b-49a5-a9b3-34a64c2e590f"
   },
   "outputs": [],
   "source": [
    "from langchain.document_loaders.csv_loader import CSVLoader\n",
    "\n",
    "loader = CSVLoader(file_path=r\"../data/mlb_teams_2012.csv\")\n",
    "\n",
    "data = loader.load()\n",
    "\n",
    "data[0]"
   ]
  },
  {
   "cell_type": "markdown",
   "id": "84f48f01-407d-4404-9800-a2c8de80e073",
   "metadata": {
    "id": "84f48f01-407d-4404-9800-a2c8de80e073"
   },
   "source": [
    "### **PPT 파일 불러오기**"
   ]
  },
  {
   "cell_type": "code",
   "execution_count": null,
   "id": "b9411451-d548-47de-b7fc-4c4a00c9d85c",
   "metadata": {},
   "outputs": [],
   "source": [
    "import nltk\n",
    "print(nltk.__version__)"
   ]
  },
  {
   "cell_type": "code",
   "execution_count": null,
   "id": "e1c9959f-4234-428a-b6d7-ff48dbc5f8b3",
   "metadata": {
    "id": "e1c9959f-4234-428a-b6d7-ff48dbc5f8b3"
   },
   "outputs": [],
   "source": [
    "#UnstructuredPowerPointLoader 불러오기\n",
    "from langchain.document_loaders import UnstructuredPowerPointLoader\n",
    "\n",
    "#mode=elements를 통해 pptx의 요소별로 Document 객체로 가져오기\n",
    "loader = UnstructuredPowerPointLoader(r\"../data/Copilot-scenarios-for-Marketing.pptx\", mode=\"elements\")\n",
    "\n",
    "#pptx 파일을 분할 로드하기\n",
    "data = loader.load_and_split()\n",
    "\n",
    "data[1]"
   ]
  },
  {
   "cell_type": "code",
   "execution_count": null,
   "id": "a65a0341-a3d6-4aa5-830d-998909b1bb4c",
   "metadata": {
    "id": "a65a0341-a3d6-4aa5-830d-998909b1bb4c"
   },
   "outputs": [],
   "source": [
    "for i in data:\n",
    "    if i.metadata['page_number'] == 2:\n",
    "        print(i.metadata['category'])\n",
    "        print(i.page_content)\n",
    "        print(\"\\n\")"
   ]
  },
  {
   "cell_type": "markdown",
   "id": "c02a7891-5b5b-49ec-a04b-2ad829f5a03e",
   "metadata": {
    "id": "c02a7891-5b5b-49ec-a04b-2ad829f5a03e"
   },
   "source": [
    "## **인터넷 정보 로드하기, WebBaseLoader**"
   ]
  },
  {
   "cell_type": "code",
   "execution_count": null,
   "id": "96c46aba-f2b8-4aea-bbd8-8aaeabc91ef4",
   "metadata": {
    "id": "96c46aba-f2b8-4aea-bbd8-8aaeabc91ef4"
   },
   "outputs": [],
   "source": [
    "from langchain_community.document_loaders import WebBaseLoader\n",
    "#텍스트 추출할 URL 입력\n",
    "loader = WebBaseLoader(\"https://www.espn.com/\")\n",
    "#ssl verification 에러 방지를 위한 코드\n",
    "loader.requests_kwargs = {'verify':False}\n",
    "data = loader.load()\n",
    "data"
   ]
  },
  {
   "cell_type": "markdown",
   "id": "79315583-6417-401c-9911-a2e29232b71e",
   "metadata": {
    "id": "79315583-6417-401c-9911-a2e29232b71e"
   },
   "source": [
    "**[Headline만 가져오기]**"
   ]
  },
  {
   "cell_type": "code",
   "execution_count": null,
   "id": "c5d834f1-76b9-47d4-a485-bccc64028687",
   "metadata": {
    "id": "c5d834f1-76b9-47d4-a485-bccc64028687"
   },
   "outputs": [],
   "source": [
    "import bs4\n",
    "from langchain_community.document_loaders import WebBaseLoader\n",
    "#텍스트 추출할 URL 입력\n",
    "loader = WebBaseLoader(\"https://www.espn.com/\",\n",
    "                        bs_kwargs=dict(\n",
    "                            parse_only=bs4.SoupStrainer(\n",
    "                                class_=(\"headlineStack top-headlines\")\n",
    "                                                        )\n",
    "                                        )\n",
    "                      )\n",
    "#ssl verification 에러 방지를 위한 코드\n",
    "loader.requests_kwargs = {'verify':False}\n",
    "data = loader.load()\n",
    "data"
   ]
  },
  {
   "cell_type": "code",
   "execution_count": null,
   "id": "95f08c14-bde3-4c6f-8fd4-28f87fa4fca1",
   "metadata": {
    "id": "95f08c14-bde3-4c6f-8fd4-28f87fa4fca1"
   },
   "outputs": [],
   "source": [
    "loader = WebBaseLoader([\"https://www.espn.com/\", \"https://google.com\"])\n",
    "docs = loader.load()\n",
    "docs"
   ]
  },
  {
   "cell_type": "markdown",
   "id": "55e9f86b-fabb-4f78-9a0c-eb6062e3b25f",
   "metadata": {
    "id": "55e9f86b-fabb-4f78-9a0c-eb6062e3b25f"
   },
   "source": [
    "## **특정 경로 내의 모든 파일 불러오기, DirectoryLoader**"
   ]
  },
  {
   "cell_type": "code",
   "execution_count": null,
   "id": "01244f3a-eb10-44bf-ab99-fd539eaa1f2a",
   "metadata": {
    "id": "01244f3a-eb10-44bf-ab99-fd539eaa1f2a"
   },
   "outputs": [],
   "source": [
    "from langchain_community.document_loaders import DirectoryLoader\n",
    "#첫번째 매개변수로 경로 입력, glob에 해당 경로에서 불러들일 파일의 형식 지정\n",
    "#*는 모든 문자를 표현하는 와일드카드로, .pdf로 끝나는 모든 파일을 의미함\n",
    "loader = DirectoryLoader(r'../data/', glob=\"*.pdf\")\n",
    "docs = loader.load()\n",
    "[i.metadata['source'] for i in docs]"
   ]
  }
 ],
 "metadata": {
  "colab": {
   "provenance": []
  },
  "kernelspec": {
   "display_name": "ruby",
   "language": "python",
   "name": "ruby"
  },
  "language_info": {
   "codemirror_mode": {
    "name": "ipython",
    "version": 3
   },
   "file_extension": ".py",
   "mimetype": "text/x-python",
   "name": "python",
   "nbconvert_exporter": "python",
   "pygments_lexer": "ipython3",
   "version": "3.12.7"
  }
 },
 "nbformat": 4,
 "nbformat_minor": 5
}
