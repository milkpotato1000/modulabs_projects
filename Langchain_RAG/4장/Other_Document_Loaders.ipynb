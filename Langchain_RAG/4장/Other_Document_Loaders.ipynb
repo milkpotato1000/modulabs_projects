{
 "cells": [
  {
   "cell_type": "markdown",
   "id": "b23d901e-a61f-49ba-bb62-e533ef62fc8e",
   "metadata": {
    "id": "b23d901e-a61f-49ba-bb62-e533ef62fc8e"
   },
   "source": [
    "## **Office file Loaders**"
   ]
  },
  {
   "cell_type": "markdown",
   "id": "c91ebeff-9eea-472c-b530-4b31e7b904c5",
   "metadata": {
    "id": "c91ebeff-9eea-472c-b530-4b31e7b904c5"
   },
   "source": [
    "### **Word 파일 불러오기**"
   ]
  },
  {
   "cell_type": "code",
   "execution_count": 3,
   "id": "7218b698-144b-4a1d-ac3e-a63ee3e9c942",
   "metadata": {
    "id": "7218b698-144b-4a1d-ac3e-a63ee3e9c942"
   },
   "outputs": [
    {
     "name": "stdout",
     "output_type": "stream",
     "text": [
      "2011.09.01\t'갤럭시 노트' 공개\n",
      "\n",
      "\t2012.04.01\tLCD사업부 분사(삼성디스플레이㈜ 설립)\n",
      "\n",
      "\t2013.06.26\t'갤럭시 S4 LTE-A' LTE-A 스마트폰 출시\n",
      "\n",
      "\t2013.08.06\t'3D V-NAND' 3차원 수직구조 낸드플래시 메모리 양산\n",
      "\n",
      "\t2013.09.24\t'아이소셀(ISOCELL)' 차세대 CMOS 이미지센서 개발\n",
      "\n",
      "\t2017.03.05\t'QLED TV' 진화된 퀀텀닷 기술 적용 TV 출시\n",
      "\n",
      "\t2017.03.10\t전장 기업 Harman International Industries, Inc.사(100%) 지분 인수 2017.07.04\t세계 최대 규모 평택 반도체 라인 가동\n",
      "\n",
      "\t2017.11.01\t프린팅솔루션 사업 매각\n",
      "\n",
      "\t2018.08.30\t'QLED 8K TV' 퀀텀닷 기술과 8K 해상도 적용 TV 출시\n",
      "\n",
      "\t2018.11.07\t'폴더블 디스플레이' 삼성 개발자 컨퍼런스에서 공개\n",
      "\n",
      "\t2019.04.03\t'갤럭시 S10 5G' 5G 스마트폰 출시\n",
      "\n",
      "\t20\n"
     ]
    }
   ],
   "source": [
    "#Docx2txtLoader 불러오기\n",
    "from langchain_community.document_loaders import Docx2txtLoader\n",
    "\n",
    "#Docx2txtLoader로 워드 파일 불러오기(경로 설정)\n",
    "loader = Docx2txtLoader(r\"../../../data/Langchain-RAG/[삼성전자] 사업보고서(일반법인) (2021.03.09).docx\")\n",
    "\n",
    "#페이지로 분할하여 불러오기\n",
    "data = loader.load_and_split()\n",
    "\n",
    "#첫번째 페이지 출력하기\n",
    "print(data[12].page_content[:500])"
   ]
  },
  {
   "cell_type": "code",
   "execution_count": 4,
   "id": "8a05232f-bfe4-4b3a-9178-886b22069dd0",
   "metadata": {},
   "outputs": [
    {
     "data": {
      "text/plain": [
       "Document(metadata={'source': '../../../data/Langchain-RAG/[삼성전자] 사업보고서(일반법인) (2021.03.09).docx'}, page_content=\"사 업 보 고 서\\n\\n\\n\\n\\n\\n\\n\\n\\n\\n\\n\\n\\n\\n\\n\\n\\n\\n\\n\\n\\n\\n\\n\\n사업연도\\n\\n\\n(제 52 기)\\n\\n\\t2020년 01월 01일\\t부터\\n\\n\\t2020년 12월 31일\\t까지\\n\\n\\n\\n\\n\\n\\n\\n금융위원회\\n\\n\\t\\t\\t한국거래소 귀중\\t2021년\\t3월\\t9일\\n\\n\\n\\n\\t제출대상법인 유형 :\\t주권상장법인\\n\\n\\n\\n\\t면제사유발생 :\\t해당사항 없음\\n\\n\\n\\n\\t\\t\\t회\\t사\\t명 :\\t삼성전자주식회사\\n\\n\\n\\n\\t\\t\\t\\t\\t\\t대\\t표\\t이\\t사 :\\t김\\t기\\t남\\n\\n\\n\\n\\t본 점 소 재 지 :\\t경기도 수원시 영통구 삼성로 129(매탄동)\\n\\n(전 화) 031-200-1114\\n\\n(홈페이지) https://www.samsung.com/sec\\n\\n\\n\\n\\t\\t\\t\\t작 성 책 임 자 :\\t(직 책) 재경팀장\\t(성 명) 남\\t궁\\t범\\n\\n(전 화) 031-277-7218\\n\\n\\n\\n【 대표이사 등의 확인 】\\n\\n\\n\\n\\n\\n\\n\\n\\n\\n제52기 사업보고서 대표이사 등의 확인서\\n\\n\\n\\n\\t회사의 개요\\n\\n\\n\\n\\n\\n\\t회사의 개요\\n\\n\\n\\n가. 회사의 법적ㆍ상업적 명칭\\n\\n\\n\\n당사의 명칭은 삼성전자주식회사이고 영문명은 Samsung Electronics Co., Ltd. 입니다.\\n\\n\\n\\n나. 설립일자\\n\\n\\n\\n당사는 1969년 1월 13일에 삼성전자공업주식회사로 설립되었으며, 1975년 6월 11일 기업공개를 실시하였습니다.\\n\\n당사는 1984년 2월 28일 정기주주총회 결의에 의거하여 상호를 삼성전자공업주식회사에서 삼성전자주식회사로 변경하였습니다.\\n\\n\\n\\n다. 본사의 주소, 전화번호 및 홈페이지\\n\\n\\n\\n주소: 경기도 수원시 영통구 삼성로 129(매탄동) 전화번호: 031-200-1114\\n\\n홈페이지: https://www.samsung.com/sec\\n\\n\\n\\n\\n\\n라. 중소기업 해당 여부\\n\\n\\n\\n당사는「중소기업기본법」제2조에 의한 중소기업에 해당되지 않습니다.\\n\\n\\n\\n\\n\\n마. 주요 사업의 내용\\n\\n\\n\\n당사는 제품의 특성에 따라 CE(Consumer Electronics), IM(Information technology & Mobile communications), DS(Device Solutions) 3개의 부문과\\n\\n전장부품사업 등을 영위하는 Harman 부문(Harman International Industries, Inc. 및 그 종속기업)으로 나누어 독립 경영을 하고 있습니다.\\n\\n\\n\\n각 부문별 주요 제품은 다음과 같습니다.\\n\\n\\n\\n부문\\n\\n주 요 제 품\\n\\nCE 부문\\n\\nTV, 모니터, 냉장고, 세탁기, 에어컨 등\\n\\nIM 부문\\n\\nHHP, 네트워크시스템, 컴퓨터 등\\n\\nDS 부문\\n\\nDRAM, NAND Flash, 모바일AP, 스마트폰용 OLED 패널 등\\n\\nHarman 부문\\n\\n디지털 콕핏(Digital Cockpit), 텔레매틱스(Telematics), 스피커 등\\n\\n\\n\\n당사는 본사를 거점으로 한국과 CE, IM 부문 산하 해외 9개 지역총괄 및 DS 부문 산하 해외 5개 지역총괄의 생산ㆍ판매법인, Harman 산하 종속기업 등 241개의 종속기업으로 구성된 글로벌 전자 기업입니다.\\n\\n\\n\\n[CE 부문]\\n\\n\\n\\nCE 부문은 혁신적인 기술, 독특한 디자인, 편의성과 가치를 겸비한 제품을 통해 디지털시대 소비자의 현재 요구를 충족시킬 뿐만 아니라 미래의 수요를 예측하여 새로운 상품을 지속해 서 선보임으로써 글로벌 디지털 시장을 이끌고 있습니다.\\n\\n\\n\\nTV는 CE 사업 분야의 핵심 제품으로, 2020년까지 15년 연속으로 세계 시장점유율 1위를 유 지하고 있습니다. LCDㆍLED TV 등 제품의 하드웨어 경쟁 우위는 물론 Smart TV 분야에서 도 독보적인 우위를 점하며 소프트웨어 산업으로의 전환을 선도하고 있습니다. 앞으로도 8K QLED 및 초대형 제품을 통해서 확고한 경쟁력 우위를 바탕으로 시장 지배력을 계속 확대할 계획입니다.\\n\\n\\n\\n[IM 부문]\\n\\n\\n\\nIM 부문은 휴대폰, 태블릿, 웨어러블(Wearable) 제품 등 모바일 관련 스마트 기기를 생산ㆍ\\n\\n판매하는 모바일 커뮤니케이션 사업 등을 영위하고 있습니다. 모바일 커뮤니케이션 사업의 핵심 제품인 스마트폰은 '갤럭시(GALAXY)' 브랜드를 통해 프리미엄 제품부터 보급형까지 폭 넓은 제품 포트폴리오를 바탕으로 선진 시장과 성장 시장에서 균형 있는 발전을 이루어 왔습 니다.\\n\\n\\n\\nIM 부문은 Flexible OLED 기반의 폼팩터 혁신, 고성능 카메라 채용, 생체 인식 센서 및 배터 리 충전 기술 강화 등의 의미 있는 혁신을 지속하고, 모바일 결제서비스 'Samsung Pay', 지 능형 서비스 'Bixby'의 서비스 향상과 더불어 Cloud, IoT, Health, ARㆍVR 등 미래 성장을 위 한 노력을 지속함으로써 고객에게 가치 있는 경험을 제공하고 스마트폰 시장의 발전을 이끌 어 나가겠습니다. 또한, 단말, 칩셋으로 이어지는 End-to-End 솔루션과 5G 초기 시장에서 의 상용화 경험을 바탕으로 글로벌 5G 시장을 리드하겠습니다.\\n\\n\\n\\n[DS 부문]\\n\\n\\n\\nDS 부문은 DRAM, NAND Flash 등 제품을 생산ㆍ판매하는 메모리 반도체 사업과 모바일AP, 카메라 센서칩 등을 설계ㆍ판매하는 System LSI 사업, 반도체 제조 위탁 생산을 하는 Foundry 사업, 그리고 액정화면 표시 장치인 디스플레이 패널(Display Panel)을 생산ㆍ판매\\n\\n하는 DP 사업으로 구성되어 있습니다. DRAM 등 정보 저장 용량의 획기적인 개선 및 모바일 제품의 두뇌에 해당하는 AP제품 성능 향상을 통하여 완제품의 신수요를 창출하는 등 시장을 선도할 수 있는 역량을 지속해서 확대ㆍ강화하고 있습니다.\\n\\n\\n\\n메모리 반도체 사업은 DRAM, NAND Flash 제품 등에 초미세 공정 기술을 적용하여 경쟁사 대비 차별성 있는 제품의 생산과 원가 경쟁력을 통해 전 세계 메모리 시장의 선두 자리를 지 속해서 유지하고 있습니다.\\n\\nSystem LSI 사업은 모바일용 반도체 사업에서 차량용 반도체 사업으로 확장을 추진 중이며 당사는 지속적으로 추진해온 선행 공정 개발로 AP, CIS 등의 제품 차별화 및 경쟁력 제고를 통해 시장 지배력을 확대해 나갈 것입니다.\\n\\nFoundry 사업은 선단 공정에서 요소 기술과 신구조 도입을 통해 기술 경쟁력을 확보하고, 수 요 대응을 위한 적기 생산능력 확대와 고객 지원 IPㆍInfra 강화 및 CIS, DDI, PMIC 등 레가시 공정의 포트폴리오 다각화를 통하여 사업을 확장하고 있습니다.\\n\\n\\n\\nDP의 중소형 패널 사업은 차별화된 기술을 바탕으로 OLED 패널의 점유율을 확대하는 한편, 폴더블ㆍ롤러블ㆍ전장 등 신규 응용처 출시를 통해 시장 영역을 넓혀 나가고 있습니다. 또 한, 대형 패널 사업은 고화질, 초대형, 퀀텀닷 등 프리미엄 제품 중심으로 사업을 특화하고, 지속해서 기술 및 생산성 향상을 추진하여 사업 경쟁력을 제고하고 있습니다.\\n\\n\\n\\n\\n\\n[Harman 부문]\\n\\n\\n\\nHarman 부문은 커넥티드카 시스템, 오디오ㆍ비디오 제품, 프로페셔널 솔루션 및 커넥티드 서비스 사업 분야에서 전 세계 자동차 제조사, 소비자 및 기업을 대상 고객으로 커넥티드 제 품과 솔루션을 디자인하고 개발하는 등 전장부품 시장을 선도하고 있습니다. Harman 부문 은 주요 시장에서 널리 알려진 브랜드와 다양한 제품군을 보유하고 있으며, 자체적인 개발 또 는 지속적인 전략적 인수 등을 통해 각 사업 분야에서 경쟁력을 강화하고 있습니다.\\n\\n\\n\\n☞ 사업 부문별 자세한 사항은 'Ⅱ. 사업의 내용'을 참조하시기 바랍니다.\\n\\n\\n\\n바. 계열회사에 관한 사항\\n\\n\\n\\n당사는「독점규제 및 공정거래에 관한 법률」상 삼성그룹에 속한 계열회사로서,\\n\\n2020년말 현재 삼성그룹에는 전년말 대비 1개 회사(네추럴나인㈜)가 감소하여 59개의 국내 계열회사가 있습니다. 이 중 상장사는 당사를 포함하여 총 16개사이며 비상장사는 43개사입 니다.\\n\\n\\n\\n\\n\\n(기준일\\n\\n:\\n\\n\\n2020년 12월 31일\\n\\n)\\n\\n\\n\\n\\n\\n구 분\\n\\n회사수\\n\\n기 업 명\\n\\n법인등록번호\\n\\n\\n\\n\\n\\n\\n\\n\\n\\n\\n\\n\\n\\n\\n\\n\\n\\n\\n\\n\\n\\n\\n\\n\\n\\n상장사\\n\\n\\n\\n\\n\\n\\n\\n\\n\\n\\n\\n\\n\\n\\n\\n\\n\\n\\n\\n\\n\\n\\n\\n\\n\\n16\\n\\n삼성물산㈜\\n\\n1101110015762\\n\\n\\n\\n\\n\\n삼성바이오로직스㈜\\n\\n1201110566317\\n\\n\\n\\n\\n\\n삼성생명보험㈜\\n\\n1101110005953\\n\\n\\n\\n\\n\\n삼성에스디아이㈜\\n\\n1101110394174\\n\\n\\n\\n\\n\\n삼성에스디에스㈜\")"
      ]
     },
     "execution_count": 4,
     "metadata": {},
     "output_type": "execute_result"
    }
   ],
   "source": [
    "data[0]"
   ]
  },
  {
   "cell_type": "code",
   "execution_count": null,
   "id": "860d98d7-e98b-439a-9a66-4dfe41f1e856",
   "metadata": {
    "id": "860d98d7-e98b-439a-9a66-4dfe41f1e856"
   },
   "outputs": [],
   "source": [
    "#로드한 워드파일의 메타데이터 확인\n",
    "print(data[12].metadata)"
   ]
  },
  {
   "cell_type": "markdown",
   "id": "99959741-9e6b-488f-aded-bf13487a7689",
   "metadata": {
    "id": "99959741-9e6b-488f-aded-bf13487a7689"
   },
   "source": [
    "### **CSV 파일 불러오기**"
   ]
  },
  {
   "cell_type": "code",
   "execution_count": null,
   "id": "b2d3f394-a47b-49a5-a9b3-34a64c2e590f",
   "metadata": {
    "id": "b2d3f394-a47b-49a5-a9b3-34a64c2e590f"
   },
   "outputs": [],
   "source": [
    "from langchain.document_loaders.csv_loader import CSVLoader\n",
    "\n",
    "loader = CSVLoader(file_path=r\"../data/mlb_teams_2012.csv\")\n",
    "\n",
    "data = loader.load()\n",
    "\n",
    "data[0]"
   ]
  },
  {
   "cell_type": "markdown",
   "id": "84f48f01-407d-4404-9800-a2c8de80e073",
   "metadata": {
    "id": "84f48f01-407d-4404-9800-a2c8de80e073"
   },
   "source": [
    "### **PPT 파일 불러오기**"
   ]
  },
  {
   "cell_type": "code",
   "execution_count": null,
   "id": "b9411451-d548-47de-b7fc-4c4a00c9d85c",
   "metadata": {},
   "outputs": [],
   "source": [
    "import nltk\n",
    "print(nltk.__version__)"
   ]
  },
  {
   "cell_type": "code",
   "execution_count": null,
   "id": "e1c9959f-4234-428a-b6d7-ff48dbc5f8b3",
   "metadata": {
    "id": "e1c9959f-4234-428a-b6d7-ff48dbc5f8b3"
   },
   "outputs": [],
   "source": [
    "#UnstructuredPowerPointLoader 불러오기\n",
    "from langchain.document_loaders import UnstructuredPowerPointLoader\n",
    "\n",
    "#mode=elements를 통해 pptx의 요소별로 Document 객체로 가져오기\n",
    "loader = UnstructuredPowerPointLoader(r\"../data/Copilot-scenarios-for-Marketing.pptx\", mode=\"elements\")\n",
    "\n",
    "#pptx 파일을 분할 로드하기\n",
    "data = loader.load_and_split()\n",
    "\n",
    "data[1]"
   ]
  },
  {
   "cell_type": "code",
   "execution_count": null,
   "id": "a65a0341-a3d6-4aa5-830d-998909b1bb4c",
   "metadata": {
    "id": "a65a0341-a3d6-4aa5-830d-998909b1bb4c"
   },
   "outputs": [],
   "source": [
    "for i in data:\n",
    "    if i.metadata['page_number'] == 2:\n",
    "        print(i.metadata['category'])\n",
    "        print(i.page_content)\n",
    "        print(\"\\n\")"
   ]
  },
  {
   "cell_type": "markdown",
   "id": "c02a7891-5b5b-49ec-a04b-2ad829f5a03e",
   "metadata": {
    "id": "c02a7891-5b5b-49ec-a04b-2ad829f5a03e"
   },
   "source": [
    "## **인터넷 정보 로드하기, WebBaseLoader**"
   ]
  },
  {
   "cell_type": "code",
   "execution_count": null,
   "id": "96c46aba-f2b8-4aea-bbd8-8aaeabc91ef4",
   "metadata": {
    "id": "96c46aba-f2b8-4aea-bbd8-8aaeabc91ef4"
   },
   "outputs": [],
   "source": [
    "from langchain_community.document_loaders import WebBaseLoader\n",
    "#텍스트 추출할 URL 입력\n",
    "loader = WebBaseLoader(\"https://www.espn.com/\")\n",
    "#ssl verification 에러 방지를 위한 코드\n",
    "loader.requests_kwargs = {'verify':False}\n",
    "data = loader.load()\n",
    "data"
   ]
  },
  {
   "cell_type": "markdown",
   "id": "79315583-6417-401c-9911-a2e29232b71e",
   "metadata": {
    "id": "79315583-6417-401c-9911-a2e29232b71e"
   },
   "source": [
    "**[Headline만 가져오기]**"
   ]
  },
  {
   "cell_type": "code",
   "execution_count": null,
   "id": "c5d834f1-76b9-47d4-a485-bccc64028687",
   "metadata": {
    "id": "c5d834f1-76b9-47d4-a485-bccc64028687"
   },
   "outputs": [],
   "source": [
    "import bs4\n",
    "from langchain_community.document_loaders import WebBaseLoader\n",
    "#텍스트 추출할 URL 입력\n",
    "loader = WebBaseLoader(\"https://www.espn.com/\",\n",
    "                        bs_kwargs=dict(\n",
    "                            parse_only=bs4.SoupStrainer(\n",
    "                                class_=(\"headlineStack top-headlines\")\n",
    "                                                        )\n",
    "                                        )\n",
    "                      )\n",
    "#ssl verification 에러 방지를 위한 코드\n",
    "loader.requests_kwargs = {'verify':False}\n",
    "data = loader.load()\n",
    "data"
   ]
  },
  {
   "cell_type": "code",
   "execution_count": null,
   "id": "95f08c14-bde3-4c6f-8fd4-28f87fa4fca1",
   "metadata": {
    "id": "95f08c14-bde3-4c6f-8fd4-28f87fa4fca1"
   },
   "outputs": [],
   "source": [
    "loader = WebBaseLoader([\"https://www.espn.com/\", \"https://google.com\"])\n",
    "docs = loader.load()\n",
    "docs"
   ]
  },
  {
   "cell_type": "markdown",
   "id": "55e9f86b-fabb-4f78-9a0c-eb6062e3b25f",
   "metadata": {
    "id": "55e9f86b-fabb-4f78-9a0c-eb6062e3b25f"
   },
   "source": [
    "## **특정 경로 내의 모든 파일 불러오기, DirectoryLoader**"
   ]
  },
  {
   "cell_type": "code",
   "execution_count": null,
   "id": "01244f3a-eb10-44bf-ab99-fd539eaa1f2a",
   "metadata": {
    "id": "01244f3a-eb10-44bf-ab99-fd539eaa1f2a"
   },
   "outputs": [],
   "source": [
    "from langchain_community.document_loaders import DirectoryLoader\n",
    "#첫번째 매개변수로 경로 입력, glob에 해당 경로에서 불러들일 파일의 형식 지정\n",
    "#*는 모든 문자를 표현하는 와일드카드로, .pdf로 끝나는 모든 파일을 의미함\n",
    "loader = DirectoryLoader(r'../data/', glob=\"*.pdf\")\n",
    "docs = loader.load()\n",
    "[i.metadata['source'] for i in docs]"
   ]
  }
 ],
 "metadata": {
  "colab": {
   "provenance": []
  },
  "kernelspec": {
   "display_name": "Python 3 (ipykernel)",
   "language": "python",
   "name": "python3"
  },
  "language_info": {
   "codemirror_mode": {
    "name": "ipython",
    "version": 3
   },
   "file_extension": ".py",
   "mimetype": "text/x-python",
   "name": "python",
   "nbconvert_exporter": "python",
   "pygments_lexer": "ipython3",
   "version": "3.12.12"
  }
 },
 "nbformat": 4,
 "nbformat_minor": 5
}
