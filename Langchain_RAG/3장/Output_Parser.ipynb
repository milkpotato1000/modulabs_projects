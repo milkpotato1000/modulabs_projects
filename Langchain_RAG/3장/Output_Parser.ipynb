{
 "cells": [
  {
   "cell_type": "markdown",
   "id": "e27aceed-a2d8-4df7-ac49-0d5eb4f06536",
   "metadata": {
    "id": "e27aceed-a2d8-4df7-ac49-0d5eb4f06536"
   },
   "source": [
    "## **CSV Output Parser**"
   ]
  },
  {
   "cell_type": "markdown",
   "id": "e2654da9-a6f9-41f1-b890-0736f0a1222d",
   "metadata": {
    "id": "e2654da9-a6f9-41f1-b890-0736f0a1222d"
   },
   "source": [
    "**Output Parser 없이 리스트 형식 답변 생성하기**"
   ]
  },
  {
   "cell_type": "code",
   "execution_count": null,
   "id": "90e23565-df95-4fc7-8023-d30ed9529fbe",
   "metadata": {
    "id": "90e23565-df95-4fc7-8023-d30ed9529fbe"
   },
   "outputs": [],
   "source": [
    "import os\n",
    "from langchain_openai import ChatOpenAI\n",
    "from langchain.prompts import HumanMessagePromptTemplate\n",
    "from langchain_core.messages import SystemMessage\n",
    "from langchain_core.prompts import ChatPromptTemplate\n",
    "\n",
    "os.environ[\"OPENAI_API_KEY\"] = \"YOUR_OPENAI_API_KEY\"\n",
    "\n",
    "llm = ChatOpenAI(model_name=\"gpt-4o-mini\",\n",
    "                 temperature = 0)\n",
    "\n",
    "#ChatPromptTemplate에 SystemMessage로 LLM의 역할과 출력 형식 지정\n",
    "chat_template = ChatPromptTemplate.from_messages(\n",
    "    [\n",
    "        SystemMessage(\n",
    "            content=(\n",
    "                \"너는 영화 전문가 AI야. 사용자가 원하는 장르의 영화를 리스트 형태로 추천해줘.\"\n",
    "                'ex) Query: SF영화 3개 추천해줘 / 답변: [\"인터스텔라\", \"스페이스오디세이\", \"혹성탈출\"]'\n",
    "            )\n",
    "        ),\n",
    "        HumanMessagePromptTemplate.from_template(\"{text}\"),\n",
    "    ]\n",
    ")\n",
    "messages = chat_template.format_messages(text=\"스릴러 영화 3개를 추천해줘.\")\n",
    "answer = llm.invoke(messages)\n",
    "result = answer.content\n",
    "print(result)"
   ]
  },
  {
   "cell_type": "markdown",
   "id": "58627c0a-3f4f-4613-bedb-8e620a784961",
   "metadata": {
    "id": "58627c0a-3f4f-4613-bedb-8e620a784961"
   },
   "source": [
    "**CSV 파서로 리스트 형식 답변 생성**"
   ]
  },
  {
   "cell_type": "code",
   "execution_count": null,
   "id": "2f363740-b883-41a5-9015-07b78a1a3118",
   "metadata": {
    "id": "2f363740-b883-41a5-9015-07b78a1a3118"
   },
   "outputs": [],
   "source": [
    "from langchain.output_parsers import CommaSeparatedListOutputParser\n",
    "from langchain.prompts import PromptTemplate\n",
    "from langchain_openai import ChatOpenAI\n",
    "#CSV 파서 선언\n",
    "output_parser = CommaSeparatedListOutputParser()\n",
    "#CSV 파서 작동을 위한 형식 지정 프롬프트 로드\n",
    "format_instructions = output_parser.get_format_instructions()\n",
    "#프롬프트 템플릿의 partial_variables에 CSV 형식 지정 프롬프트 주입\n",
    "prompt = PromptTemplate(\n",
    "    template=\"List {number} {subject}. answer in Korean \\n{format_instructions}\",\n",
    "    input_variables=[\"subject\", \"number\"],\n",
    "    partial_variables={\"format_instructions\": format_instructions},\n",
    ")\n",
    "\n",
    "model = ChatOpenAI(temperature=0)\n",
    "\n",
    "#프롬프트템플릿-모델-Output Parser를 체인으로 연결\n",
    "chain = prompt | model | output_parser\n",
    "chain.invoke({\"subject\": \"공포 영화\", \"number\": \"4\"})"
   ]
  },
  {
   "cell_type": "code",
   "execution_count": null,
   "id": "ec3a8d44-8c6e-487a-b22d-c12fd7c588c0",
   "metadata": {
    "id": "ec3a8d44-8c6e-487a-b22d-c12fd7c588c0"
   },
   "outputs": [],
   "source": [
    "format_instructions"
   ]
  },
  {
   "cell_type": "markdown",
   "id": "1068880e-91d3-4c05-92fb-798de2d27d9a",
   "metadata": {
    "id": "1068880e-91d3-4c05-92fb-798de2d27d9a"
   },
   "source": [
    "## **Datetime Parser**"
   ]
  },
  {
   "cell_type": "markdown",
   "id": "19889d94-4d08-4f11-a93d-d44a0d5d98dd",
   "metadata": {
    "id": "19889d94-4d08-4f11-a93d-d44a0d5d98dd"
   },
   "source": [
    "**[Datetime으로만 답변하게 만들기]**"
   ]
  },
  {
   "cell_type": "code",
   "execution_count": null,
   "id": "48d028a8-9e8b-4eaa-980f-32acaae294a3",
   "metadata": {
    "id": "48d028a8-9e8b-4eaa-980f-32acaae294a3"
   },
   "outputs": [],
   "source": [
    "from langchain.output_parsers import DatetimeOutputParser\n",
    "from langchain.prompts import PromptTemplate\n",
    "from langchain_openai import OpenAI\n",
    "\n",
    "output_parser = DatetimeOutputParser()\n",
    "\n",
    "template = \"\"\"\n",
    "    Answer the users question:\n",
    "    {question}\n",
    "\n",
    "    {format_instructions}\n",
    "\"\"\"\n",
    "\n",
    "prompt = PromptTemplate.from_template(\n",
    "    template,\n",
    "    partial_variables={\"format_instructions\": output_parser.get_format_instructions()},\n",
    ")\n",
    "\n",
    "model = ChatOpenAI(temperature=0)\n",
    "\n",
    "chain = prompt | model | output_parser\n",
    "output = chain.invoke({\"question\": \"비트코인은 언제 개발됐어?\"})\n",
    "print(output)"
   ]
  },
  {
   "cell_type": "code",
   "execution_count": null,
   "id": "e85ad3af-150c-463b-b967-534e0f59a313",
   "metadata": {
    "id": "e85ad3af-150c-463b-b967-534e0f59a313"
   },
   "outputs": [],
   "source": [
    "output_parser.get_format_instructions()"
   ]
  },
  {
   "cell_type": "markdown",
   "id": "9445bf0c-f48c-4d6e-be51-ae6c93fca248",
   "metadata": {
    "id": "9445bf0c-f48c-4d6e-be51-ae6c93fca248"
   },
   "source": [
    "## **JSON Parser**"
   ]
  },
  {
   "cell_type": "code",
   "execution_count": null,
   "id": "5948dd14-8c1b-48a6-b758-f688398a0fe7",
   "metadata": {
    "id": "5948dd14-8c1b-48a6-b758-f688398a0fe7"
   },
   "outputs": [],
   "source": [
    "from typing import List\n",
    "from langchain.prompts import PromptTemplate\n",
    "from langchain_core.output_parsers import JsonOutputParser\n",
    "from pydantic import BaseModel, Field\n",
    "from langchain_openai import ChatOpenAI\n",
    "\n",
    "# Define your desired data structure.\n",
    "class Country(BaseModel):\n",
    "    continent: str = Field(description=\"사용자가 물어본 나라가 속한 대륙\")\n",
    "    population: str = Field(description=\"사용자가 물어본 나라의 인구(int 형식)\")\n",
    "\n",
    "# And a query intented to prompt a language model to populate the data structure.\n",
    "country_query = \"아르헨티나는 어떤 나라야?\"\n",
    "\n",
    "# Set up a parser + inject instructions into the prompt template.\n",
    "parser = JsonOutputParser(pydantic_object=Country)\n",
    "\n",
    "prompt = PromptTemplate(\n",
    "    template=\"Answer the user query.\\n{format_instructions}\\n{query}\\n\",\n",
    "    input_variables=[\"query\"],\n",
    "    partial_variables={\"format_instructions\": parser.get_format_instructions()},\n",
    ")\n",
    "\n",
    "chain = prompt | model | parser\n",
    "chain.invoke({\"query\": country_query})"
   ]
  },
  {
   "cell_type": "code",
   "execution_count": null,
   "id": "GyKqy-oTZQnN",
   "metadata": {
    "id": "GyKqy-oTZQnN"
   },
   "outputs": [],
   "source": []
  }
 ],
 "metadata": {
  "colab": {
   "provenance": []
  },
  "kernelspec": {
   "display_name": "Python 3 (ipykernel)",
   "language": "python",
   "name": "python3"
  },
  "language_info": {
   "codemirror_mode": {
    "name": "ipython",
    "version": 3
   },
   "file_extension": ".py",
   "mimetype": "text/x-python",
   "name": "python",
   "nbconvert_exporter": "python",
   "pygments_lexer": "ipython3",
   "version": "3.12.7"
  }
 },
 "nbformat": 4,
 "nbformat_minor": 5
}
