{
 "cells": [
  {
   "cell_type": "markdown",
   "id": "4c1c58bd-2ece-479c-8672-a50a4d52d3fa",
   "metadata": {
    "id": "4c1c58bd-2ece-479c-8672-a50a4d52d3fa"
   },
   "source": [
    "## **PromptTemplate과 ChatPromptTemplate**"
   ]
  },
  {
   "cell_type": "markdown",
   "id": "525253f3-701f-4bae-8a6f-da2ce69e0447",
   "metadata": {
    "id": "525253f3-701f-4bae-8a6f-da2ce69e0447"
   },
   "source": [
    "**[PromptTemplate]**"
   ]
  },
  {
   "cell_type": "code",
   "execution_count": null,
   "id": "841d8069-dde7-4a5e-a510-23e83d8dbfee",
   "metadata": {
    "id": "841d8069-dde7-4a5e-a510-23e83d8dbfee"
   },
   "outputs": [],
   "source": [
    "from langchain.prompts import PromptTemplate\n",
    "\n",
    "prompt= (\n",
    "    PromptTemplate.from_template(\n",
    "        \"\"\"\n",
    "        너는 요리사야. 내가 가진 재료들을 갖고 만들 수 있는 요리를 {개수}추천하고,\n",
    "        그 요리의 레시피를 제시해줘. 내가 가진 재료는 아래와 같아.\n",
    "        <재료>\n",
    "        {재료}\n",
    "        \"\"\"\n",
    "        )\n",
    "    )\n",
    "\n",
    "prompt"
   ]
  },
  {
   "cell_type": "code",
   "execution_count": null,
   "id": "3d8878b5-0140-40cf-b19e-194190d2059c",
   "metadata": {
    "id": "3d8878b5-0140-40cf-b19e-194190d2059c"
   },
   "outputs": [],
   "source": [
    "prompt.format(개수= 3, 재료=\"사과, 양파, 계란\")"
   ]
  },
  {
   "cell_type": "markdown",
   "id": "82ff89df-66e9-4b81-93d1-b0e5439093a1",
   "metadata": {
    "id": "82ff89df-66e9-4b81-93d1-b0e5439093a1"
   },
   "source": [
    "**[ChatPromptTemplate]**"
   ]
  },
  {
   "cell_type": "code",
   "execution_count": null,
   "id": "ac1e1749-880c-42c8-87b4-efad6ae65604",
   "metadata": {
    "id": "ac1e1749-880c-42c8-87b4-efad6ae65604"
   },
   "outputs": [],
   "source": [
    "from langchain_openai import ChatOpenAI\n",
    "from langchain.schema import HumanMessage, SystemMessage, AIMessage\n",
    "prompt = SystemMessage(content=\n",
    "        \"\"\"\n",
    "        너는 항상 밝은 말투로 대화하는 챗봇이야. 답변의 끝에 이모티콘을 붙여줘.\n",
    "        \"\"\"\n",
    "        )\n",
    "new_prompt = (\n",
    "    prompt\n",
    "    + HumanMessage(content=\n",
    "                          \"\"\"\n",
    "                          오늘은 날씨가 어때?\n",
    "                          \"\"\")\n",
    "    + AIMessage(content=\n",
    "                         \"\"\"\n",
    "                         오늘은 날씨가 아주 좋아요!\n",
    "                         \"\"\")\n",
    "    + \"\"\"{input}\"\"\"\n",
    ")\n",
    "new_prompt.format_messages(input = \"오늘 너의 기분은 어때?\")"
   ]
  },
  {
   "cell_type": "markdown",
   "id": "ae65b3c0-8ba0-4843-9b90-cc76513cee2c",
   "metadata": {
    "id": "ae65b3c0-8ba0-4843-9b90-cc76513cee2c"
   },
   "source": [
    "**[간단한 LLM Chain 구성해보기]**"
   ]
  },
  {
   "cell_type": "code",
   "execution_count": null,
   "id": "ac2ce21f-c12d-4bd2-be7e-ff4bf7d9593e",
   "metadata": {
    "id": "ac2ce21f-c12d-4bd2-be7e-ff4bf7d9593e"
   },
   "outputs": [],
   "source": [
    "import os\n",
    "from langchain.chains import LLMChain\n",
    "from langchain_openai import ChatOpenAI\n",
    "\n",
    "os.environ[\"OPENAI_API_KEY\"] = \"YOUR_API_KEY\"\n",
    "\n",
    "model = ChatOpenAI(model = 'gpt-4o-mini')\n",
    "chain = LLMChain(llm=model, prompt=new_prompt)\n",
    "chain.invoke(\"오늘 너의 기분은 어때?\")"
   ]
  },
  {
   "cell_type": "markdown",
   "id": "f649cddf-c0de-4d4b-b460-364b7c22a6b2",
   "metadata": {
    "id": "f649cddf-c0de-4d4b-b460-364b7c22a6b2"
   },
   "source": [
    "## **Few-shot 예제를 통한 프롬프트 템플릿**"
   ]
  },
  {
   "cell_type": "markdown",
   "id": "acd3da83-7f05-40de-9ab2-29e18d72dcbd",
   "metadata": {
    "id": "acd3da83-7f05-40de-9ab2-29e18d72dcbd"
   },
   "source": [
    "**[3행시 예제 프롬프트 템플릿]**"
   ]
  },
  {
   "cell_type": "code",
   "execution_count": null,
   "id": "7d6f1f38-3db9-404e-bbae-fa4298c995a1",
   "metadata": {
    "id": "7d6f1f38-3db9-404e-bbae-fa4298c995a1"
   },
   "outputs": [],
   "source": [
    "from langchain.prompts.few_shot import FewShotPromptTemplate\n",
    "from langchain.prompts.prompt import PromptTemplate\n",
    "examples = [\n",
    "    {\n",
    "        \"question\": \"아이유로 삼행시 만들어줘\",\n",
    "        \"answer\":\n",
    "                \"\"\"\n",
    "                아: 아이유는\n",
    "                이: 이런 강의를 들을 이\n",
    "                유: 유가 없다.\n",
    "                \"\"\"\n",
    "    }\n",
    "]\n",
    "\n",
    "example_prompt = PromptTemplate(\n",
    "                                input_variables=[\"question\", \"answer\"],\n",
    "                                template=\"Question: {question}\\n{answer}\"\n",
    "                                )\n",
    "\n",
    "print(example_prompt.format(**examples[0]))"
   ]
  },
  {
   "cell_type": "code",
   "execution_count": null,
   "id": "2f9692b8-0055-4c41-b292-fa27d29ea9f4",
   "metadata": {
    "id": "2f9692b8-0055-4c41-b292-fa27d29ea9f4"
   },
   "outputs": [],
   "source": [
    "prompt = FewShotPromptTemplate(\n",
    "    examples=examples,\n",
    "    example_prompt=example_prompt,\n",
    "    suffix=\"Question: {input}\",\n",
    "    input_variables=[\"input\"]\n",
    ")\n",
    "\n",
    "print(prompt.format(input=\"호날두로 삼행시 만들어줘\"))"
   ]
  },
  {
   "cell_type": "markdown",
   "id": "06be2bd6-e74e-40d0-bd9e-279e032fabc0",
   "metadata": {
    "id": "06be2bd6-e74e-40d0-bd9e-279e032fabc0"
   },
   "source": [
    "**[Few-shot 미적용 결과]**"
   ]
  },
  {
   "cell_type": "code",
   "execution_count": null,
   "id": "231915cc-95c5-42a6-a714-0434f47f338e",
   "metadata": {
    "id": "231915cc-95c5-42a6-a714-0434f47f338e"
   },
   "outputs": [],
   "source": [
    "model = ChatOpenAI(model_name = \"gpt-4o-mini\", temperature = 1)\n",
    "result = model.invoke(\"호날두로 삼행시 만들어줘\")\n",
    "print(result.content)"
   ]
  },
  {
   "cell_type": "markdown",
   "id": "fc694fee-920c-459e-b6ad-2285d7923cd6",
   "metadata": {
    "id": "fc694fee-920c-459e-b6ad-2285d7923cd6"
   },
   "source": [
    "**[Few-shot 적용 결과]**"
   ]
  },
  {
   "cell_type": "code",
   "execution_count": null,
   "id": "d365945d-8c41-4fa8-955f-87d645b3fc24",
   "metadata": {
    "id": "d365945d-8c41-4fa8-955f-87d645b3fc24"
   },
   "outputs": [],
   "source": [
    "result = model.invoke(prompt.format(input=\"호날두로 삼행시 만들어줘\"))\n",
    "print(result.content)"
   ]
  },
  {
   "cell_type": "markdown",
   "id": "8b00906f-fc5a-4c80-8a63-be822a05db28",
   "metadata": {
    "id": "8b00906f-fc5a-4c80-8a63-be822a05db28"
   },
   "source": [
    "## **Partial Prompt Template**"
   ]
  },
  {
   "cell_type": "markdown",
   "id": "8b5d3cc5-b2e3-4113-a52c-ea802f2eb995",
   "metadata": {
    "id": "8b5d3cc5-b2e3-4113-a52c-ea802f2eb995"
   },
   "source": [
    "**[Partial Prompt 예시]**"
   ]
  },
  {
   "cell_type": "code",
   "execution_count": null,
   "id": "0d72a99a-ef79-42a2-9c49-9f80e58bf522",
   "metadata": {
    "id": "0d72a99a-ef79-42a2-9c49-9f80e58bf522"
   },
   "outputs": [],
   "source": [
    "from langchain.prompts import PromptTemplate\n",
    "\n",
    "prompt = PromptTemplate.from_template(\"나이: {age} \\n직업: {job}\")\n",
    "partial_prompt = prompt.partial(age=\"20\")\n",
    "print(partial_prompt.format(job=\"개발자\"))\n"
   ]
  },
  {
   "cell_type": "markdown",
   "id": "59c6d9d4-9ee7-43c0-813a-3bd080f44a81",
   "metadata": {
    "id": "59c6d9d4-9ee7-43c0-813a-3bd080f44a81"
   },
   "source": [
    "**[현재 날짜 Partial Prompt 만들어보기]**"
   ]
  },
  {
   "cell_type": "code",
   "execution_count": null,
   "id": "41aeee3e-5e69-4943-990a-99319fb5fa8a",
   "metadata": {
    "id": "41aeee3e-5e69-4943-990a-99319fb5fa8a"
   },
   "outputs": [],
   "source": [
    "from datetime import datetime\n",
    "\n",
    "\n",
    "def _get_datetime():\n",
    "    now = datetime.now()\n",
    "    return now.strftime(\"%m/%d/%Y, %H:%M:%S\")"
   ]
  },
  {
   "cell_type": "code",
   "execution_count": null,
   "id": "f12e6c42-3a8e-47ff-9cdb-bf3d4ea26969",
   "metadata": {
    "id": "f12e6c42-3a8e-47ff-9cdb-bf3d4ea26969"
   },
   "outputs": [],
   "source": [
    "prompt = PromptTemplate(\n",
    "    template=\"Tell me a {adjective} joke about the day {date}\",\n",
    "    input_variables=[\"adjective\", \"date\"],\n",
    ")\n",
    "partial_prompt = prompt.partial(date=_get_datetime)\n",
    "print(partial_prompt.format(adjective=\"funny\"))"
   ]
  },
  {
   "cell_type": "code",
   "execution_count": null,
   "id": "ADmVVcVoX6P-",
   "metadata": {
    "id": "ADmVVcVoX6P-"
   },
   "outputs": [],
   "source": []
  }
 ],
 "metadata": {
  "colab": {
   "provenance": []
  },
  "kernelspec": {
   "display_name": "Python 3 (ipykernel)",
   "language": "python",
   "name": "python3"
  },
  "language_info": {
   "codemirror_mode": {
    "name": "ipython",
    "version": 3
   },
   "file_extension": ".py",
   "mimetype": "text/x-python",
   "name": "python",
   "nbconvert_exporter": "python",
   "pygments_lexer": "ipython3",
   "version": "3.12.7"
  }
 },
 "nbformat": 4,
 "nbformat_minor": 5
}
