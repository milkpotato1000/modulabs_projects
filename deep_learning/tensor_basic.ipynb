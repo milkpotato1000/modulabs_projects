{
 "cells": [
  {
   "cell_type": "code",
   "execution_count": 1,
   "id": "34685c78-7fdd-428e-a160-2e76d38efb10",
   "metadata": {},
   "outputs": [
    {
     "name": "stdout",
     "output_type": "stream",
     "text": [
      "[PhysicalDevice(name='/physical_device:GPU:0', device_type='GPU')]\n"
     ]
    }
   ],
   "source": [
    "import tensorflow as tf\n",
    "print(tf.config.list_physical_devices('GPU'))"
   ]
  },
  {
   "cell_type": "markdown",
   "id": "69cc41e4-6132-402d-ab0b-3e30c7dba583",
   "metadata": {},
   "source": [
    "# 1. 텐서(Tensor)"
   ]
  },
  {
   "cell_type": "code",
   "execution_count": 9,
   "id": "563deeef-2ff0-4189-bcb6-b29cc2da1778",
   "metadata": {},
   "outputs": [
    {
     "name": "stdout",
     "output_type": "stream",
     "text": [
      "tf.Tensor(1, shape=(), dtype=int32)\n",
      "tf.Tensor(0, shape=(), dtype=int32)\n"
     ]
    }
   ],
   "source": [
    "# 스칼라(Scalar) - 0차원 텐서\n",
    "t0 = tf.constant(1) \n",
    "print(t0)\n",
    "print(tf.rank(t0)) # 차원 개수 반환"
   ]
  },
  {
   "cell_type": "code",
   "execution_count": 10,
   "id": "3a605a22-6230-4727-b1f4-7580452f5ab6",
   "metadata": {},
   "outputs": [
    {
     "name": "stdout",
     "output_type": "stream",
     "text": [
      "tf.Tensor([1 2 3], shape=(3,), dtype=int32)\n",
      "tf.Tensor(1, shape=(), dtype=int32)\n"
     ]
    }
   ],
   "source": [
    "# 벡터(Vector) - 1차원 텐서\n",
    "t1 = tf.constant([1, 2, 3]) \n",
    "print(t1)\n",
    "print(tf.rank(t1)) # 차원 개수 반환"
   ]
  },
  {
   "cell_type": "code",
   "execution_count": 12,
   "id": "5712f5ef-6104-47b3-b0ec-2dc0c42c8b79",
   "metadata": {},
   "outputs": [
    {
     "name": "stdout",
     "output_type": "stream",
     "text": [
      "tf.Tensor(\n",
      "[[[ 1  2  3]\n",
      "  [ 4  5  6]\n",
      "  [ 7  8  9]]\n",
      "\n",
      " [[10 11 12]\n",
      "  [13 14 15]\n",
      "  [16 17 18]]\n",
      "\n",
      " [[19 20 21]\n",
      "  [22 23 24]\n",
      "  [25 26 27]]], shape=(3, 3, 3), dtype=int32)\n",
      "(3, 3, 3)\n",
      "tf.Tensor(3, shape=(), dtype=int32)\n"
     ]
    }
   ],
   "source": [
    "# Q. 위 이미지와 같은 크기(3, 3, 3)의 3차원 텐서를 만들고, 차원을 반환해 주세요.\n",
    "t3 = tf.constant([\n",
    "    [[1, 2, 3],\n",
    "     [4, 5, 6],\n",
    "     [7, 8, 9]],\n",
    "\n",
    "    [[10, 11, 12],\n",
    "     [13, 14, 15],\n",
    "     [16, 17, 18]],\n",
    "\n",
    "    [[19, 20, 21],\n",
    "     [22, 23, 24],\n",
    "     [25, 26, 27]]\n",
    "])\n",
    "\n",
    "print(t3)\n",
    "print(t3.shape)        # (3, 3, 3)\n",
    "print(tf.rank(t3))     # 3"
   ]
  },
  {
   "cell_type": "markdown",
   "id": "ff92cb2f-3dde-49ad-a8b1-f91343d109bf",
   "metadata": {},
   "source": [
    "# 2. 텐서 타입 및 변환"
   ]
  },
  {
   "cell_type": "markdown",
   "id": "606ca882-2887-443b-934a-0f538c38b3b8",
   "metadata": {},
   "source": [
    "## 2-1. 타입"
   ]
  },
  {
   "cell_type": "code",
   "execution_count": 14,
   "id": "2f03596e-5bba-4644-b50a-84d83825175a",
   "metadata": {},
   "outputs": [
    {
     "name": "stdout",
     "output_type": "stream",
     "text": [
      "tf.Tensor(2, shape=(), dtype=int32)\n"
     ]
    }
   ],
   "source": [
    "# 정수\n",
    "i = tf.constant(2)\n",
    "print(i)"
   ]
  },
  {
   "cell_type": "code",
   "execution_count": 15,
   "id": "2b2c2b70-7a66-460c-bac7-1b0ffbd5efb4",
   "metadata": {},
   "outputs": [
    {
     "name": "stdout",
     "output_type": "stream",
     "text": [
      "tf.Tensor(2.0, shape=(), dtype=float32)\n"
     ]
    }
   ],
   "source": [
    "# 실수\n",
    "f = tf.constant(2.)\n",
    "print(f)"
   ]
  },
  {
   "cell_type": "code",
   "execution_count": 16,
   "id": "4e9c881f-3911-4190-98ed-8451ebe232d7",
   "metadata": {},
   "outputs": [
    {
     "name": "stdout",
     "output_type": "stream",
     "text": [
      "tf.Tensor(b'Suan', shape=(), dtype=string)\n"
     ]
    }
   ],
   "source": [
    "# 문자열\n",
    "s = tf.constant('Suan')\n",
    "print(s)"
   ]
  },
  {
   "cell_type": "code",
   "execution_count": 22,
   "id": "de3affab-4f2e-4dc3-9f9e-47ba5c1913b6",
   "metadata": {},
   "outputs": [
    {
     "name": "stdout",
     "output_type": "stream",
     "text": [
      "tf.Tensor(2, shape=(), dtype=int8)\n"
     ]
    }
   ],
   "source": [
    "# 타입의 수동 지정\n",
    "i8 = tf.constant(2, dtype=tf.int8)\n",
    "print(i8)"
   ]
  },
  {
   "cell_type": "markdown",
   "id": "0af5fd7d-b3a9-4826-8b25-e1d313b6e64f",
   "metadata": {},
   "source": [
    "## 2-2. 타입 변환 (tf.cast())"
   ]
  },
  {
   "cell_type": "code",
   "execution_count": 32,
   "id": "3a6bae93-ef62-4738-976c-86aeb9248db6",
   "metadata": {},
   "outputs": [
    {
     "name": "stdout",
     "output_type": "stream",
     "text": [
      "tf.Tensor(b'2', shape=(), dtype=string)\n"
     ]
    }
   ],
   "source": [
    "# 정수 ->  문자열 타입으로\n",
    "string_2 = tf.strings.as_string(i8)\n",
    "print(string_2)"
   ]
  },
  {
   "cell_type": "code",
   "execution_count": 34,
   "id": "d6848e27-c4da-4777-9ee0-4ccc2e4bb876",
   "metadata": {},
   "outputs": [
    {
     "name": "stdout",
     "output_type": "stream",
     "text": [
      "tf.Tensor(2.0, shape=(), dtype=float16)\n"
     ]
    }
   ],
   "source": [
    "float_2 = tf.cast(i8, tf.float16)\n",
    "print(float_2)"
   ]
  },
  {
   "cell_type": "markdown",
   "id": "56db557f-3d7c-4415-83a9-d07fffbe453d",
   "metadata": {},
   "source": [
    "## 2-3. 형상 변환 (tf.reshape())"
   ]
  },
  {
   "cell_type": "code",
   "execution_count": 35,
   "id": "bd0c1e08-af3a-4cb2-855c-74ed36c76ec2",
   "metadata": {},
   "outputs": [
    {
     "name": "stdout",
     "output_type": "stream",
     "text": [
      "tf.Tensor(\n",
      "[[1]\n",
      " [2]\n",
      " [3]], shape=(3, 1), dtype=int32)\n",
      "(3, 1)\n",
      "tf.Tensor([[1 2 3]], shape=(1, 3), dtype=int32)\n",
      "(1, 3)\n"
     ]
    }
   ],
   "source": [
    "x = tf.constant([[1], [2], [3]])\n",
    "print(x)\n",
    "print(x.shape)\n",
    "\n",
    "y = tf.reshape(x, [1, 3])\n",
    "print(y)\n",
    "print(y.shape)"
   ]
  },
  {
   "cell_type": "markdown",
   "id": "c3d31ce5-942e-4d39-beb5-d8457b212442",
   "metadata": {},
   "source": [
    "## 2-4. 전치 (tf.transpose())"
   ]
  },
  {
   "cell_type": "code",
   "execution_count": 36,
   "id": "3dc53c4b-06f7-4c79-80ff-cfbf9cec355b",
   "metadata": {},
   "outputs": [
    {
     "name": "stdout",
     "output_type": "stream",
     "text": [
      "tf.Tensor([[1 2 3]], shape=(1, 3), dtype=int32)\n",
      "tf.Tensor(\n",
      "[[1]\n",
      " [2]\n",
      " [3]], shape=(3, 1), dtype=int32)\n",
      "(1, 3)\n"
     ]
    }
   ],
   "source": [
    "print(y)\n",
    "print(tf.transpose(y))\n",
    "print(y.shape)"
   ]
  },
  {
   "cell_type": "markdown",
   "id": "302366eb-2232-4a67-9adc-6d51294a371d",
   "metadata": {},
   "source": [
    "## 2-5. 차원 압축 (tf.squeeze())"
   ]
  },
  {
   "cell_type": "code",
   "execution_count": 41,
   "id": "f550f8e8-9428-48c7-8bea-717e86c715a2",
   "metadata": {},
   "outputs": [
    {
     "name": "stdout",
     "output_type": "stream",
     "text": [
      "tf.Tensor(\n",
      "[[1]\n",
      " [2]\n",
      " [3]], shape=(3, 1), dtype=int32)\n",
      "tf.Tensor([1 2 3], shape=(3,), dtype=int32)\n"
     ]
    }
   ],
   "source": [
    "# 크기가 1인 차원을 삭제함 \n",
    "print(x)\n",
    "print(tf.squeeze(x)) #여기선 행이 하나(크기 1) 이므로 행의 차원을 삭제"
   ]
  },
  {
   "cell_type": "markdown",
   "id": "b2fd255e-33d1-41ee-846e-e43971bef379",
   "metadata": {},
   "source": [
    "## 2-6. 차원 추가 (tf.expand_dims())"
   ]
  },
  {
   "cell_type": "code",
   "execution_count": 42,
   "id": "d60e5316-9a9c-4c84-b586-682237efb7c7",
   "metadata": {},
   "outputs": [
    {
     "name": "stdout",
     "output_type": "stream",
     "text": [
      "tf.Tensor([[1 2 3]], shape=(1, 3), dtype=int32)\n",
      "tf.Tensor([[[1 2 3]]], shape=(1, 1, 3), dtype=int32)\n",
      "tf.Tensor([[[1 2 3]]], shape=(1, 1, 3), dtype=int32)\n",
      "tf.Tensor(\n",
      "[[[1]\n",
      "  [2]\n",
      "  [3]]], shape=(1, 3, 1), dtype=int32)\n"
     ]
    }
   ],
   "source": [
    "print(y)\n",
    "print(tf.expand_dims(y, axis=0))\n",
    "print(tf.expand_dims(y, axis=1))\n",
    "print(tf.expand_dims(y, axis=2))"
   ]
  },
  {
   "cell_type": "markdown",
   "id": "5ce8ea59-b4c0-4971-88cc-55fdbd7b7187",
   "metadata": {},
   "source": [
    "## 2-7. 텐서 분리 (tf.split())"
   ]
  },
  {
   "cell_type": "code",
   "execution_count": 43,
   "id": "9d17549e-ec9c-4213-8403-90f9added365",
   "metadata": {},
   "outputs": [
    {
     "name": "stdout",
     "output_type": "stream",
     "text": [
      "tf.Tensor(\n",
      "[[1]\n",
      " [2]\n",
      " [3]], shape=(3, 1), dtype=int32)\n",
      "[<tf.Tensor: shape=(1, 1), dtype=int32, numpy=array([[1]])>, <tf.Tensor: shape=(1, 1), dtype=int32, numpy=array([[2]])>, <tf.Tensor: shape=(1, 1), dtype=int32, numpy=array([[3]])>]\n"
     ]
    }
   ],
   "source": [
    "print(x)\n",
    "print(tf.split(x, 3))"
   ]
  },
  {
   "cell_type": "markdown",
   "id": "543294c7-09be-488b-8707-022a80f740a9",
   "metadata": {},
   "source": [
    "## 2-8. 텐서 연결 (tf.concat())"
   ]
  },
  {
   "cell_type": "code",
   "execution_count": 45,
   "id": "dbf5a4a1-318a-4eeb-8d06-55557318f78a",
   "metadata": {},
   "outputs": [
    {
     "name": "stdout",
     "output_type": "stream",
     "text": [
      "tf.Tensor(\n",
      "[[1]\n",
      " [2]\n",
      " [3]], shape=(3, 1), dtype=int32)\n",
      "tf.Tensor(\n",
      "[[1]\n",
      " [2]\n",
      " [3]\n",
      " [1]\n",
      " [2]\n",
      " [3]], shape=(6, 1), dtype=int32)\n",
      "tf.Tensor(\n",
      "[[1 1]\n",
      " [2 2]\n",
      " [3 3]], shape=(3, 2), dtype=int32)\n"
     ]
    }
   ],
   "source": [
    "print(x)\n",
    "print(tf.concat([x, x], axis=[0]))\n",
    "print(tf.concat([x, x], axis=[1]))"
   ]
  },
  {
   "cell_type": "code",
   "execution_count": 52,
   "id": "31eee847-b4f8-4c77-86c3-472a4d8e3dba",
   "metadata": {},
   "outputs": [
    {
     "name": "stdout",
     "output_type": "stream",
     "text": [
      "tf.Tensor(\n",
      "[[ 1  5  8]\n",
      " [ 2  6  9]\n",
      " [ 3  7 10]], shape=(3, 3), dtype=int32)\n"
     ]
    }
   ],
   "source": [
    "tensor0 = tf.constant([[1], [2], [3]], dtype=tf.int32)\n",
    "tensor1 = tf.constant([[5], [6], [7]], dtype=tf.int32)\n",
    "tensor2 = tf.constant([[8], [9], [10]], dtype=tf.int32)\n",
    "x3 = tf.concat([tensor0, tensor1, tensor2], axis=1)\n",
    "print(x3)"
   ]
  },
  {
   "cell_type": "markdown",
   "id": "c82f89f7-9efe-4d67-913e-84055483607a",
   "metadata": {},
   "source": [
    "# 3. 텐서 연산"
   ]
  },
  {
   "cell_type": "code",
   "execution_count": 50,
   "id": "e6f667fb-fa4f-4121-b6e2-47ae90d908de",
   "metadata": {},
   "outputs": [
    {
     "name": "stdout",
     "output_type": "stream",
     "text": [
      "tf.Tensor(4, shape=(), dtype=int32)\n",
      "tf.Tensor(0, shape=(), dtype=int32)\n",
      "tf.Tensor(4, shape=(), dtype=int32)\n",
      "tf.Tensor(0, shape=(), dtype=int32)\n"
     ]
    }
   ],
   "source": [
    "print(tf.constant(2) + tf.constant(2))\n",
    "print(tf.constant(2) - tf.constant(2))\n",
    "print(tf.add(tf.constant(2), tf.constant(2)))\n",
    "print(tf.subtract(tf.constant(2), tf.constant(2)))"
   ]
  },
  {
   "cell_type": "code",
   "execution_count": 51,
   "id": "011b2b83-6fdc-4e6f-8306-1081de06dd7b",
   "metadata": {},
   "outputs": [
    {
     "name": "stdout",
     "output_type": "stream",
     "text": [
      "tf.Tensor(4, shape=(), dtype=int32)\n",
      "tf.Tensor(1.0, shape=(), dtype=float64)\n",
      "tf.Tensor(4, shape=(), dtype=int32)\n",
      "tf.Tensor(1.0, shape=(), dtype=float64)\n"
     ]
    }
   ],
   "source": [
    "print(tf.constant(2) * tf.constant(2))\n",
    "print(tf.constant(2) / tf.constant(2))\n",
    "print(tf.multiply(tf.constant(2), tf.constant(2)))\n",
    "print(tf.divide(tf.constant(2), tf.constant(2)))"
   ]
  },
  {
   "cell_type": "code",
   "execution_count": 53,
   "id": "d3bd1167-9ada-4a18-be58-de7c52b34987",
   "metadata": {},
   "outputs": [
    {
     "data": {
      "text/plain": [
       "<tf.Tensor: shape=(3, 3), dtype=int32, numpy=\n",
       "array([[  1,  25,  64],\n",
       "       [  4,  36,  81],\n",
       "       [  9,  49, 100]])>"
      ]
     },
     "execution_count": 53,
     "metadata": {},
     "output_type": "execute_result"
    }
   ],
   "source": [
    "x3 * x3"
   ]
  },
  {
   "cell_type": "code",
   "execution_count": 54,
   "id": "cdba2640-95da-4b4c-8be4-fb3f8115d31c",
   "metadata": {},
   "outputs": [
    {
     "data": {
      "text/plain": [
       "<tf.Tensor: shape=(3, 3), dtype=int32, numpy=\n",
       "array([[ 35,  91, 133],\n",
       "       [ 41, 109, 160],\n",
       "       [ 47, 127, 187]])>"
      ]
     },
     "execution_count": 54,
     "metadata": {},
     "output_type": "execute_result"
    }
   ],
   "source": [
    "x3 @ x3"
   ]
  }
 ],
 "metadata": {
  "kernelspec": {
   "display_name": "Python 3 (ipykernel)",
   "language": "python",
   "name": "python3"
  },
  "language_info": {
   "codemirror_mode": {
    "name": "ipython",
    "version": 3
   },
   "file_extension": ".py",
   "mimetype": "text/x-python",
   "name": "python",
   "nbconvert_exporter": "python",
   "pygments_lexer": "ipython3",
   "version": "3.10.18"
  }
 },
 "nbformat": 4,
 "nbformat_minor": 5
}
