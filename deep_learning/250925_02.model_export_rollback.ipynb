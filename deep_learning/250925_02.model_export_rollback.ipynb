{
 "cells": [
  {
   "cell_type": "code",
   "execution_count": 1,
   "id": "073e47ea-ffd1-4862-bee6-86cbcb02886a",
   "metadata": {},
   "outputs": [],
   "source": [
    "import tensorflow as tf\n",
    "from tensorflow import keras\n",
    "from tensorflow.keras import models, layers, utils"
   ]
  },
  {
   "cell_type": "code",
   "execution_count": 3,
   "id": "5296d933-5f79-41f4-b58c-95c585eae43a",
   "metadata": {},
   "outputs": [
    {
     "name": "stdout",
     "output_type": "stream",
     "text": [
      "전체 학습 데이터: (60000, 28, 28)  레이블: (60000,)\n",
      "학습용 데이터: (42000, 28, 28)  레이블: (42000,)\n",
      "검증용 데이터: (18000, 28, 28)  레이블: (18000,)\n",
      "테스트용 데이터: (10000, 28, 28)  레이블: (10000,)\n"
     ]
    }
   ],
   "source": [
    "from tensorflow.keras.datasets import mnist\n",
    "from sklearn.model_selection import train_test_split\n",
    "\n",
    "(x_train_full, y_train_full), (x_test, y_test) = mnist.load_data(path='mnist.npz')\n",
    "\n",
    "x_train, x_val, y_train, y_val = train_test_split(x_train_full, y_train_full,\n",
    "                                                  test_size=0.3,\n",
    "                                                  random_state=123)\n",
    "\n",
    "print(f\"전체 학습 데이터: {x_train_full.shape}  레이블: {y_train_full.shape}\")\n",
    "print(f\"학습용 데이터: {x_train.shape}  레이블: {y_train.shape}\")\n",
    "print(f\"검증용 데이터: {x_val.shape}  레이블: {y_val.shape}\")\n",
    "print(f\"테스트용 데이터: {x_test.shape}  레이블: {y_test.shape}\")"
   ]
  },
  {
   "cell_type": "code",
   "execution_count": 10,
   "id": "51b6be82-ea2b-482c-81ac-77468aabeeea",
   "metadata": {},
   "outputs": [
    {
     "data": {
      "image/png": "[encoded data removed]",
      "text/plain": [
       "<Figure size 1500x300 with 6 Axes>"
      ]
     },
     "metadata": {},
     "output_type": "display_data"
    }
   ],
   "source": [
    "import numpy as np\n",
    "import matplotlib.pyplot as plt\n",
    "plt.style.use(\"seaborn-v0_8-white\")\n",
    "\n",
    "num_sample = 6\n",
    "random_idxs = np.random.randint(60000, size=num_sample)\n",
    "\n",
    "plt.figure(figsize=(15, 3))\n",
    "for i, idx in enumerate(random_idxs):\n",
    "  img = x_train_full[idx, :]\n",
    "  label = y_train_full[idx]\n",
    "\n",
    "  plt.subplot(1, len(random_idxs), i+1)\n",
    "  plt.axis('off')\n",
    "  plt.title(f'Index: {idx}, Label: {label}')\n",
    "  plt.imshow(img)"
   ]
  },
  {
   "cell_type": "code",
   "execution_count": 11,
   "id": "b67398b0-0378-4f9f-865f-22ef43e12c54",
   "metadata": {},
   "outputs": [
    {
     "name": "stdout",
     "output_type": "stream",
     "text": [
      "4\n"
     ]
    }
   ],
   "source": [
    "print(y_train[0])"
   ]
  },
  {
   "cell_type": "code",
   "execution_count": 12,
   "id": "c6c7dbf2-6f75-41d9-aec1-6a0e481346c8",
   "metadata": {},
   "outputs": [
    {
     "data": {
      "text/plain": [
       "<matplotlib.image.AxesImage at 0x1f1c31fb340>"
      ]
     },
     "execution_count": 12,
     "metadata": {},
     "output_type": "execute_result"
    },
    {
     "data": {
      "image/png": "[encoded data removed]",
      "text/plain": [
       "<Figure size 640x480 with 1 Axes>"
      ]
     },
     "metadata": {},
     "output_type": "display_data"
    }
   ],
   "source": [
    "img = x_train[0, :]\n",
    "plt.axis('off')\n",
    "plt.imshow(img)"
   ]
  },
  {
   "cell_type": "code",
   "execution_count": 15,
   "id": "5d505207-7e04-4575-877b-321cb0e1c4e1",
   "metadata": {},
   "outputs": [
    {
     "name": "stdout",
     "output_type": "stream",
     "text": [
      "[[  0   0   0   0   0   0   0   0   0   0   0   0   0   0   0   0   0   0\n",
      "    0   0   0   0   0   0   0   0   0   0]\n",
      " [  0   0   0   0   0   0   0   0   0   0   0   0   0   0   0   0   0   0\n",
      "    0   0   0   0   0   0   0   0   0   0]\n",
      " [  0   0   0   0   0   0   0   0   0   0   0   0   0   0   0   0   0   0\n",
      "    0   0   0   0   0   0   0   0   0   0]\n",
      " [  0   0   0   0   0   0   0   0   0   0   0   0   0   0   0   0   0   0\n",
      "    0   0   0   0   0   0   0   0   0   0]\n",
      " [  0   0   0   0   0   0   0   0   0   0   0   0   0   0   0   0 184 236\n",
      "    0   0   0   0   0   0   0   0   0   0]\n",
      " [  0   0   0   0   0   0   0   0   0   0   0   0   0   0   0  13 235 240\n",
      "   11   0   0   0   0   0   0   0   0   0]\n",
      " [  0   0   0   0   0   0   0   0   0   0   0   0   0   0   0  73 244 144\n",
      "   59   0   0   0   0   0   0   0   0   0]\n",
      " [  0   0   0   0   0   0   0   0   0   0   0   0   0   0   0 104 186   6\n",
      "   32   0   0   0   0   0   0   0   0   0]\n",
      " [  0   0   0   0   0   0   0   0   0  33  21   0   0   0   0 155 155   0\n",
      "    0   0   0   0   0   0   0   0   0   0]\n",
      " [  0   0   0   0   0   0   0   0   0 198  84   0   0   0   6 205 103   0\n",
      "    0   0   0   0   0   0   0   0   0   0]\n",
      " [  0   0   0   0   0   0   0   0  21 245  73   0   0   0  30 254 103   0\n",
      "    0   0   0   0   0   0   0   0   0   0]\n",
      " [  0   0   0   0   0   0   0   0  49 182   7   0   0   0  30 254 103   0\n",
      "    0   0   0   0   0   0   0   0   0   0]\n",
      " [  0   0   0   0   0   0   0   0  98 144   0   0   0   0  30 254  94   0\n",
      "    0   0   0   0   0   0   0   0   0   0]\n",
      " [  0   0   0   0   0   0   0   0  90 144   0   0   0   0  30 254  63   0\n",
      "    0   0   0   0   0   0   0   0   0   0]\n",
      " [  0   0   0   0   0   0   0   0 114 152   0   0   0   0  53 254 103   0\n",
      "    0   0   0   0   0   0   0   0   0   0]\n",
      " [  0   0   0   0   0   0   0   0  58 237  42   0   0   0  78 254  97   0\n",
      "    2  28   0   0   0   0   0   0   0   0]\n",
      " [  0   0   0   0   0   0   0   0  20 239 228 110  30  15 106 254 107  33\n",
      "  157  87   0   0   0   0   0   0   0   0]\n",
      " [  0   0   0   0   0   0   0   0   0 101 243 254 254 239 249 254 254 253\n",
      "  154   0   0   0   0   0   0   0   0   0]\n",
      " [  0   0   0   0   0   0   0   0   0   0  58 168 232 249 254 254 200  85\n",
      "    0   0   0   0   0   0   0   0   0   0]\n",
      " [  0   0   0   0   0   0   0   0   0   0   0   0   0  31 125 254  51   0\n",
      "    0   0   0   0   0   0   0   0   0   0]\n",
      " [  0   0   0   0   0   0   0   0   0   0   0   0   0   0  75 254  39   0\n",
      "    0   0   0   0   0   0   0   0   0   0]\n",
      " [  0   0   0   0   0   0   0   0   0   0   0   0   0   0  30 254  90   0\n",
      "    0   0   0   0   0   0   0   0   0   0]\n",
      " [  0   0   0   0   0   0   0   0   0   0   0   0   0   0  30 254 137   0\n",
      "    0   0   0   0   0   0   0   0   0   0]\n",
      " [  0   0   0   0   0   0   0   0   0   0   0   0   0   0  15 204 238  11\n",
      "    0   0   0   0   0   0   0   0   0   0]\n",
      " [  0   0   0   0   0   0   0   0   0   0   0   0   0   0   0   0   0   0\n",
      "    0   0   0   0   0   0   0   0   0   0]\n",
      " [  0   0   0   0   0   0   0   0   0   0   0   0   0   0   0   0   0   0\n",
      "    0   0   0   0   0   0   0   0   0   0]\n",
      " [  0   0   0   0   0   0   0   0   0   0   0   0   0   0   0   0   0   0\n",
      "    0   0   0   0   0   0   0   0   0   0]\n",
      " [  0   0   0   0   0   0   0   0   0   0   0   0   0   0   0   0   0   0\n",
      "    0   0   0   0   0   0   0   0   0   0]]\n"
     ]
    }
   ],
   "source": [
    "print(x_train[0])"
   ]
  },
  {
   "cell_type": "code",
   "execution_count": 17,
   "id": "845a13df-0669-4c40-a0a0-cb2cc762c33c",
   "metadata": {},
   "outputs": [
    {
     "name": "stdout",
     "output_type": "stream",
     "text": [
      "[0. 0. 0. 0. 1. 0. 0. 0. 0. 0.]\n",
      "[0. 0. 0. 0. 1. 0. 0. 0. 0. 0.]\n",
      "[0. 0. 0. 0. 0. 0. 0. 1. 0. 0.]\n"
     ]
    }
   ],
   "source": [
    "x_train = x_train / 255.\n",
    "x_val = x_val / 255.\n",
    "x_test = x_test / 255.\n",
    "\n",
    "y_train = utils.to_categorical(y_train)\n",
    "y_val = utils.to_categorical(y_val)\n",
    "y_test = utils.to_categorical(y_test)\n",
    "\n",
    "print(y_train[0])\n",
    "print(y_val[0])\n",
    "print(y_test[0])"
   ]
  },
  {
   "cell_type": "code",
   "execution_count": 19,
   "id": "0d9594a6-27a1-4a59-ac55-c704aa7507c6",
   "metadata": {},
   "outputs": [],
   "source": [
    "class MyModel(models.Model):\n",
    "  def __init__(self, **kwargs):\n",
    "    super(MyModel, self).__init__(**kwargs)\n",
    "    self.flat = layers.Flatten()\n",
    "    self.dense1 = layers.Dense(100, activation='relu')\n",
    "    self.dense2 = layers.Dense(64, activation='relu')\n",
    "    self.dense3 = layers.Dense(32, activation='relu')\n",
    "    self.out = layers.Dense(10, activation='softmax')\n",
    "\n",
    "  def call(self, inputs):\n",
    "    x = self.flat(inputs)\n",
    "    x = self.dense1(x)\n",
    "    x = self.dense2(x)\n",
    "    x = self.dense3(x)\n",
    "    x = self.out(x)\n",
    "    \n",
    "    return x"
   ]
  },
  {
   "cell_type": "code",
   "execution_count": 20,
   "id": "9452ae3a-ecf0-48aa-8e8e-7c5db24a6367",
   "metadata": {},
   "outputs": [
    {
     "name": "stdout",
     "output_type": "stream",
     "text": [
      "Model: \"my_model\"\n",
      "_________________________________________________________________\n",
      " Layer (type)                Output Shape              Param #   \n",
      "=================================================================\n",
      " flatten (Flatten)           multiple                  0         \n",
      "                                                                 \n",
      " dense (Dense)               multiple                  78500     \n",
      "                                                                 \n",
      " dense_1 (Dense)             multiple                  6464      \n",
      "                                                                 \n",
      " dense_2 (Dense)             multiple                  2080      \n",
      "                                                                 \n",
      " dense_3 (Dense)             multiple                  330       \n",
      "                                                                 \n",
      "=================================================================\n",
      "Total params: 87,374\n",
      "Trainable params: 87,374\n",
      "Non-trainable params: 0\n",
      "_________________________________________________________________\n"
     ]
    }
   ],
   "source": [
    "model = MyModel()\n",
    "model.build(input_shape=(None, 28, 28))  # input shape 명시\n",
    "model.summary()"
   ]
  },
  {
   "cell_type": "code",
   "execution_count": 28,
   "id": "a0cb37c2-d772-49ec-8d3a-7fce26103548",
   "metadata": {},
   "outputs": [],
   "source": [
    "model.compile(loss='categorical_crossentropy',\n",
    "              optimizer='sgd',\n",
    "              metrics=['accuracy'])"
   ]
  },
  {
   "cell_type": "code",
   "execution_count": 29,
   "id": "e2117417-f541-4f56-bb50-27510bddfc5f",
   "metadata": {
    "scrolled": true
   },
   "outputs": [
    {
     "name": "stdout",
     "output_type": "stream",
     "text": [
      "Epoch 1/50\n",
      "329/329 [==============================] - 1s 3ms/step - loss: 1.8260 - accuracy: 0.4748 - val_loss: 1.1659 - val_accuracy: 0.6965\n",
      "Epoch 2/50\n",
      "329/329 [==============================] - 1s 3ms/step - loss: 0.8203 - accuracy: 0.7761 - val_loss: 0.6215 - val_accuracy: 0.8274\n",
      "Epoch 3/50\n",
      "329/329 [==============================] - 1s 3ms/step - loss: 0.5272 - accuracy: 0.8565 - val_loss: 0.4694 - val_accuracy: 0.8684\n",
      "Epoch 4/50\n",
      "329/329 [==============================] - 1s 3ms/step - loss: 0.4232 - accuracy: 0.8837 - val_loss: 0.4021 - val_accuracy: 0.8857\n",
      "Epoch 5/50\n",
      "329/329 [==============================] - 1s 2ms/step - loss: 0.3718 - accuracy: 0.8965 - val_loss: 0.3566 - val_accuracy: 0.8982\n",
      "Epoch 6/50\n",
      "329/329 [==============================] - 1s 3ms/step - loss: 0.3399 - accuracy: 0.9052 - val_loss: 0.3286 - val_accuracy: 0.9029\n",
      "Epoch 7/50\n",
      "329/329 [==============================] - 1s 3ms/step - loss: 0.3164 - accuracy: 0.9115 - val_loss: 0.3155 - val_accuracy: 0.9064\n",
      "Epoch 8/50\n",
      "329/329 [==============================] - 1s 3ms/step - loss: 0.2975 - accuracy: 0.9158 - val_loss: 0.2943 - val_accuracy: 0.9121\n",
      "Epoch 9/50\n",
      "329/329 [==============================] - 1s 3ms/step - loss: 0.2820 - accuracy: 0.9202 - val_loss: 0.2791 - val_accuracy: 0.9172\n",
      "Epoch 10/50\n",
      "329/329 [==============================] - 1s 2ms/step - loss: 0.2682 - accuracy: 0.9245 - val_loss: 0.2744 - val_accuracy: 0.9172\n",
      "Epoch 11/50\n",
      "329/329 [==============================] - 1s 3ms/step - loss: 0.2558 - accuracy: 0.9273 - val_loss: 0.2605 - val_accuracy: 0.9231\n",
      "Epoch 12/50\n",
      "329/329 [==============================] - 1s 3ms/step - loss: 0.2444 - accuracy: 0.9308 - val_loss: 0.2465 - val_accuracy: 0.9272\n",
      "Epoch 13/50\n",
      "329/329 [==============================] - 1s 2ms/step - loss: 0.2343 - accuracy: 0.9335 - val_loss: 0.2503 - val_accuracy: 0.9249\n",
      "Epoch 14/50\n",
      "329/329 [==============================] - 1s 3ms/step - loss: 0.2249 - accuracy: 0.9374 - val_loss: 0.2362 - val_accuracy: 0.9290\n",
      "Epoch 15/50\n",
      "329/329 [==============================] - 1s 3ms/step - loss: 0.2163 - accuracy: 0.9387 - val_loss: 0.2476 - val_accuracy: 0.9234\n",
      "Epoch 16/50\n",
      "329/329 [==============================] - 1s 3ms/step - loss: 0.2085 - accuracy: 0.9413 - val_loss: 0.2305 - val_accuracy: 0.9337\n",
      "Epoch 17/50\n",
      "329/329 [==============================] - 1s 3ms/step - loss: 0.2006 - accuracy: 0.9436 - val_loss: 0.2097 - val_accuracy: 0.9373\n",
      "Epoch 18/50\n",
      "329/329 [==============================] - 1s 3ms/step - loss: 0.1936 - accuracy: 0.9454 - val_loss: 0.2043 - val_accuracy: 0.9383\n",
      "Epoch 19/50\n",
      "329/329 [==============================] - 1s 3ms/step - loss: 0.1876 - accuracy: 0.9461 - val_loss: 0.2011 - val_accuracy: 0.9388\n",
      "Epoch 20/50\n",
      "329/329 [==============================] - 1s 3ms/step - loss: 0.1814 - accuracy: 0.9483 - val_loss: 0.1921 - val_accuracy: 0.9426\n",
      "Epoch 21/50\n",
      "329/329 [==============================] - 1s 3ms/step - loss: 0.1755 - accuracy: 0.9497 - val_loss: 0.1934 - val_accuracy: 0.9414\n",
      "Epoch 22/50\n",
      "329/329 [==============================] - 1s 3ms/step - loss: 0.1701 - accuracy: 0.9511 - val_loss: 0.1920 - val_accuracy: 0.9432\n",
      "Epoch 23/50\n",
      "329/329 [==============================] - 1s 3ms/step - loss: 0.1651 - accuracy: 0.9529 - val_loss: 0.1973 - val_accuracy: 0.9396\n",
      "Epoch 24/50\n",
      "329/329 [==============================] - 1s 3ms/step - loss: 0.1608 - accuracy: 0.9535 - val_loss: 0.1739 - val_accuracy: 0.9468\n",
      "Epoch 25/50\n",
      "329/329 [==============================] - 1s 3ms/step - loss: 0.1559 - accuracy: 0.9553 - val_loss: 0.1732 - val_accuracy: 0.9473\n",
      "Epoch 26/50\n",
      "329/329 [==============================] - 1s 3ms/step - loss: 0.1517 - accuracy: 0.9564 - val_loss: 0.1694 - val_accuracy: 0.9484\n",
      "Epoch 27/50\n",
      "329/329 [==============================] - 1s 3ms/step - loss: 0.1474 - accuracy: 0.9580 - val_loss: 0.1956 - val_accuracy: 0.9396\n",
      "Epoch 28/50\n",
      "329/329 [==============================] - 1s 3ms/step - loss: 0.1441 - accuracy: 0.9588 - val_loss: 0.1620 - val_accuracy: 0.9512\n",
      "Epoch 29/50\n",
      "329/329 [==============================] - 1s 2ms/step - loss: 0.1400 - accuracy: 0.9594 - val_loss: 0.1699 - val_accuracy: 0.9493\n",
      "Epoch 30/50\n",
      "329/329 [==============================] - 1s 3ms/step - loss: 0.1365 - accuracy: 0.9607 - val_loss: 0.1551 - val_accuracy: 0.9532\n",
      "Epoch 31/50\n",
      "329/329 [==============================] - 1s 3ms/step - loss: 0.1325 - accuracy: 0.9625 - val_loss: 0.1543 - val_accuracy: 0.9528\n",
      "Epoch 32/50\n",
      "329/329 [==============================] - 1s 3ms/step - loss: 0.1296 - accuracy: 0.9629 - val_loss: 0.1539 - val_accuracy: 0.9534\n",
      "Epoch 33/50\n",
      "329/329 [==============================] - 1s 3ms/step - loss: 0.1263 - accuracy: 0.9640 - val_loss: 0.1507 - val_accuracy: 0.9548\n",
      "Epoch 34/50\n",
      "329/329 [==============================] - 1s 3ms/step - loss: 0.1235 - accuracy: 0.9640 - val_loss: 0.1465 - val_accuracy: 0.9554\n",
      "Epoch 35/50\n",
      "329/329 [==============================] - 1s 3ms/step - loss: 0.1204 - accuracy: 0.9657 - val_loss: 0.1503 - val_accuracy: 0.9549\n",
      "Epoch 36/50\n",
      "329/329 [==============================] - 1s 3ms/step - loss: 0.1177 - accuracy: 0.9663 - val_loss: 0.1470 - val_accuracy: 0.9552\n",
      "Epoch 37/50\n",
      "329/329 [==============================] - 1s 2ms/step - loss: 0.1148 - accuracy: 0.9665 - val_loss: 0.1416 - val_accuracy: 0.9564\n",
      "Epoch 38/50\n",
      "329/329 [==============================] - 1s 3ms/step - loss: 0.1121 - accuracy: 0.9681 - val_loss: 0.1406 - val_accuracy: 0.9564\n",
      "Epoch 39/50\n",
      "329/329 [==============================] - 1s 3ms/step - loss: 0.1097 - accuracy: 0.9683 - val_loss: 0.1595 - val_accuracy: 0.9513\n",
      "Epoch 40/50\n",
      "329/329 [==============================] - 1s 2ms/step - loss: 0.1074 - accuracy: 0.9696 - val_loss: 0.1373 - val_accuracy: 0.9572\n",
      "Epoch 41/50\n",
      "329/329 [==============================] - 1s 2ms/step - loss: 0.1046 - accuracy: 0.9707 - val_loss: 0.1331 - val_accuracy: 0.9587\n",
      "Epoch 42/50\n",
      "329/329 [==============================] - 1s 3ms/step - loss: 0.1024 - accuracy: 0.9705 - val_loss: 0.1391 - val_accuracy: 0.9575\n",
      "Epoch 43/50\n",
      "329/329 [==============================] - 1s 3ms/step - loss: 0.1003 - accuracy: 0.9714 - val_loss: 0.1333 - val_accuracy: 0.9587\n",
      "Epoch 44/50\n",
      "329/329 [==============================] - 1s 3ms/step - loss: 0.0981 - accuracy: 0.9723 - val_loss: 0.1318 - val_accuracy: 0.9603\n",
      "Epoch 45/50\n",
      "329/329 [==============================] - 1s 2ms/step - loss: 0.0957 - accuracy: 0.9728 - val_loss: 0.1448 - val_accuracy: 0.9548\n",
      "Epoch 46/50\n",
      "329/329 [==============================] - 1s 3ms/step - loss: 0.0938 - accuracy: 0.9733 - val_loss: 0.1261 - val_accuracy: 0.9610\n",
      "Epoch 47/50\n",
      "329/329 [==============================] - 1s 3ms/step - loss: 0.0914 - accuracy: 0.9743 - val_loss: 0.1348 - val_accuracy: 0.9594\n",
      "Epoch 48/50\n",
      "329/329 [==============================] - 1s 3ms/step - loss: 0.0895 - accuracy: 0.9745 - val_loss: 0.1364 - val_accuracy: 0.9589\n",
      "Epoch 49/50\n",
      "329/329 [==============================] - 1s 3ms/step - loss: 0.0879 - accuracy: 0.9755 - val_loss: 0.1229 - val_accuracy: 0.9623\n",
      "Epoch 50/50\n",
      "329/329 [==============================] - 1s 2ms/step - loss: 0.0857 - accuracy: 0.9761 - val_loss: 0.1234 - val_accuracy: 0.9621\n"
     ]
    }
   ],
   "source": [
    "history = model.fit(x_train, y_train,\n",
    "                    epochs=50,\n",
    "                    batch_size=128,\n",
    "                    validation_data=(x_val, y_val))"
   ]
  },
  {
   "cell_type": "code",
   "execution_count": 30,
   "id": "e75d4f7d-80de-4eac-bd57-4684ff39b5fc",
   "metadata": {},
   "outputs": [
    {
     "data": {
      "text/plain": [
       "dict_keys(['loss', 'accuracy', 'val_loss', 'val_accuracy'])"
      ]
     },
     "execution_count": 30,
     "metadata": {},
     "output_type": "execute_result"
    }
   ],
   "source": [
    "history.history.keys()"
   ]
  },
  {
   "cell_type": "code",
   "execution_count": 31,
   "id": "f559c9bd-a5b1-4338-9122-b9f411fa0455",
   "metadata": {},
   "outputs": [
    {
     "data": {
      "image/png": "[encoded data removed]",
      "text/plain": [
       "<Figure size 1200x500 with 2 Axes>"
      ]
     },
     "metadata": {},
     "output_type": "display_data"
    }
   ],
   "source": [
    "history_dict = history.history\n",
    "\n",
    "loss = history_dict['loss']\n",
    "val_loss = history_dict['val_loss']\n",
    "\n",
    "epochs = range(1, len(loss) + 1)\n",
    "fig = plt.figure(figsize=(12, 5))\n",
    "\n",
    "ax1 = fig.add_subplot(1, 2, 1)\n",
    "ax1.plot(epochs, loss, color='blue', label='train_loss')\n",
    "ax1.plot(epochs, val_loss, color='red', label='val_loss')\n",
    "ax1.set_title('Train and Validation Loss')\n",
    "ax1.set_xlabel('Epochs')\n",
    "ax1.set_ylabel('Loss')\n",
    "ax1.grid()\n",
    "ax1.legend()\n",
    "\n",
    "accuracy = history_dict['accuracy']\n",
    "val_accuracy = history_dict['val_accuracy']\n",
    "\n",
    "ax2 = fig.add_subplot(1, 2, 2)\n",
    "ax2.plot(epochs, accuracy, color='blue', label='train_accuracy')\n",
    "ax2.plot(epochs, val_accuracy, color='red', label='val_accuracy')\n",
    "ax2.set_title('Train and Validation Accuracy')\n",
    "ax2.set_xlabel('Epochs')\n",
    "ax2.set_ylabel('Accuracy')\n",
    "ax2.grid()\n",
    "ax2.legend()\n",
    "\n",
    "plt.show()"
   ]
  },
  {
   "cell_type": "code",
   "execution_count": 33,
   "id": "ec288324-a797-47ee-9f5c-7ab14f339e34",
   "metadata": {},
   "outputs": [
    {
     "name": "stdout",
     "output_type": "stream",
     "text": [
      "313/313 [==============================] - 1s 2ms/step - loss: 0.1143 - accuracy: 0.9644\n"
     ]
    },
    {
     "data": {
      "text/plain": [
       "[0.11434613913297653, 0.9643999934196472]"
      ]
     },
     "execution_count": 33,
     "metadata": {},
     "output_type": "execute_result"
    }
   ],
   "source": [
    "model.evaluate(x_test, y_test)\n",
    "# [loss, accuracy] 출력"
   ]
  },
  {
   "cell_type": "code",
   "execution_count": 34,
   "id": "01a41626-94a0-415b-9713-d3de422f7ef3",
   "metadata": {},
   "outputs": [
    {
     "name": "stdout",
     "output_type": "stream",
     "text": [
      "313/313 [==============================] - 0s 915us/step\n",
      "(10000, 10)\n",
      "[9.3431108e-06 6.2687474e-07 2.7357874e-04 1.1505370e-03 3.5834610e-06\n",
      " 4.6519097e-05 4.6997286e-09 9.9818134e-01 8.3710176e-05 2.5083433e-04]\n"
     ]
    }
   ],
   "source": [
    "pred_ys = model.predict(x_test)\n",
    "print(pred_ys.shape)\n",
    "print(pred_ys[0])"
   ]
  },
  {
   "cell_type": "code",
   "execution_count": 39,
   "id": "12edb502-67db-4688-9006-5a72d859d35d",
   "metadata": {},
   "outputs": [
    {
     "data": {
      "text/plain": [
       "7"
      ]
     },
     "execution_count": 39,
     "metadata": {},
     "output_type": "execute_result"
    }
   ],
   "source": [
    "np.argmax(pred_ys[0])"
   ]
  },
  {
   "cell_type": "code",
   "execution_count": 40,
   "id": "c92a7e2f-4639-4241-8f83-5fbe96ea1f55",
   "metadata": {},
   "outputs": [
    {
     "data": {
      "image/png": "[encoded data removed]",
      "text/plain": [
       "<Figure size 640x480 with 1 Axes>"
      ]
     },
     "metadata": {},
     "output_type": "display_data"
    }
   ],
   "source": [
    "arg_pred_y = np.argmax(pred_ys, axis=1)\n",
    "\n",
    "plt.title(f'Predicted label: {arg_pred_y[0]}')\n",
    "plt.imshow(x_test[0])\n",
    "plt.show()"
   ]
  },
  {
   "cell_type": "code",
   "execution_count": 41,
   "id": "c8764406-5d3a-4e0b-a170-9742b41fccf5",
   "metadata": {},
   "outputs": [
    {
     "name": "stdout",
     "output_type": "stream",
     "text": [
      "              precision    recall  f1-score   support\n",
      "\n",
      "           0       0.97      0.98      0.97       980\n",
      "           1       0.98      0.99      0.99      1135\n",
      "           2       0.97      0.95      0.96      1032\n",
      "           3       0.96      0.96      0.96      1010\n",
      "           4       0.96      0.97      0.97       982\n",
      "           5       0.96      0.96      0.96       892\n",
      "           6       0.95      0.97      0.96       958\n",
      "           7       0.97      0.96      0.96      1028\n",
      "           8       0.96      0.95      0.95       974\n",
      "           9       0.95      0.96      0.95      1009\n",
      "\n",
      "    accuracy                           0.96     10000\n",
      "   macro avg       0.96      0.96      0.96     10000\n",
      "weighted avg       0.96      0.96      0.96     10000\n",
      "\n"
     ]
    }
   ],
   "source": [
    "from sklearn.metrics import classification_report\n",
    "\n",
    "print(classification_report(np.argmax(y_test, axis=-1), np.argmax(pred_ys, axis=-1)))"
   ]
  },
  {
   "cell_type": "code",
   "execution_count": 42,
   "id": "dc226eb7-b8c5-41de-9c2b-1305fa3b23ae",
   "metadata": {},
   "outputs": [
    {
     "data": {
      "image/png": "[encoded data removed]",
      "text/plain": [
       "<Figure size 800x800 with 2 Axes>"
      ]
     },
     "metadata": {},
     "output_type": "display_data"
    }
   ],
   "source": [
    "from sklearn.metrics import confusion_matrix\n",
    "import seaborn as sns\n",
    "sns.set(style='white')\n",
    "\n",
    "plt.figure(figsize=(8, 8))\n",
    "cm = confusion_matrix(np.argmax(y_test, axis=1), np.argmax(pred_ys, axis=-1))\n",
    "sns.heatmap(cm, annot=True, fmt='d', cmap='Blues')\n",
    "plt.xlabel('Predicted Label')\n",
    "plt.ylabel('True Label')\n",
    "plt.show()"
   ]
  },
  {
   "cell_type": "markdown",
   "id": "e6d8c850-adfb-4068-87d7-a4085335abc3",
   "metadata": {},
   "source": [
    "# 모델 저장과 로드"
   ]
  },
  {
   "cell_type": "code",
   "execution_count": 48,
   "id": "83fbea98-72e0-4342-a3c6-d215e6f5aef1",
   "metadata": {},
   "outputs": [
    {
     "name": "stdout",
     "output_type": "stream",
     "text": [
      "INFO:tensorflow:Assets written to: mnist_model\\assets\n"
     ]
    }
   ],
   "source": [
    "# subclassed 모델을 저장하는법\n",
    "model.save('mnist_model')  # 디렉터리로 저장됨\n",
    "# 또는 \n",
    "# model.save('mnist_model', save_format='tf')"
   ]
  },
  {
   "cell_type": "code",
   "execution_count": null,
   "id": "ce36f907-23fd-40cc-9759-3e55300d91fd",
   "metadata": {},
   "outputs": [],
   "source": [
    "# # Functional API 방식일때 모델 저장\n",
    "# model.save('mnist_model.h5')"
   ]
  },
  {
   "cell_type": "code",
   "execution_count": 51,
   "id": "8863a863-aef5-421b-8c72-72f60ef1566d",
   "metadata": {},
   "outputs": [
    {
     "name": "stdout",
     "output_type": "stream",
     "text": [
      "Model: \"my_model_2\"\n",
      "_________________________________________________________________\n",
      " Layer (type)                Output Shape              Param #   \n",
      "=================================================================\n",
      " flatten_2 (Flatten)         multiple                  0         \n",
      "                                                                 \n",
      " dense_8 (Dense)             multiple                  78500     \n",
      "                                                                 \n",
      " dense_9 (Dense)             multiple                  6464      \n",
      "                                                                 \n",
      " dense_10 (Dense)            multiple                  2080      \n",
      "                                                                 \n",
      " dense_11 (Dense)            multiple                  330       \n",
      "                                                                 \n",
      "=================================================================\n",
      "Total params: 87,374\n",
      "Trainable params: 87,374\n",
      "Non-trainable params: 0\n",
      "_________________________________________________________________\n"
     ]
    }
   ],
   "source": [
    "# 모델 불러오기\n",
    "loaded_model = tf.keras.models.load_model('mnist_model/')\n",
    "loaded_model.summary()"
   ]
  },
  {
   "cell_type": "code",
   "execution_count": 52,
   "id": "338e197c-d309-4f4b-8083-f238292c3a33",
   "metadata": {},
   "outputs": [
    {
     "name": "stdout",
     "output_type": "stream",
     "text": [
      "313/313 [==============================] - 0s 941us/step\n",
      "(10000, 10)\n",
      "[9.3431108e-06 6.2687474e-07 2.7357874e-04 1.1505370e-03 3.5834610e-06\n",
      " 4.6519097e-05 4.6997286e-09 9.9818134e-01 8.3710176e-05 2.5083433e-04]\n"
     ]
    }
   ],
   "source": [
    "pred_ys2 = loaded_model.predict(x_test)\n",
    "print(pred_ys2.shape)\n",
    "print(pred_ys2[0])"
   ]
  },
  {
   "cell_type": "code",
   "execution_count": 55,
   "id": "2b7cb429-d877-44ec-8aa8-c41b981d92d3",
   "metadata": {},
   "outputs": [
    {
     "data": {
      "image/png": "[encoded data removed]",
      "text/plain": [
       "<Figure size 640x480 with 1 Axes>"
      ]
     },
     "metadata": {},
     "output_type": "display_data"
    }
   ],
   "source": [
    "arg_pred_y2 = np.argmax(pred_ys2, axis=1)\n",
    "\n",
    "plt.style.use(\"seaborn-v0_8-white\")\n",
    "plt.title(f'Predicted label: {arg_pred_y2[0]}')\n",
    "plt.imshow(x_test[0])\n",
    "plt.show()"
   ]
  },
  {
   "cell_type": "markdown",
   "id": "70452894-9539-4481-8610-cadfc75b9f64",
   "metadata": {},
   "source": [
    "# 콜백\n",
    "- ModelCheckpoint\n",
    "- EarlyStopping\n",
    "- LearningRateScheduler\n",
    "- Tensorbord"
   ]
  },
  {
   "cell_type": "code",
   "execution_count": 57,
   "id": "5a7f76b4-a24d-4ae9-9bd6-5153ebffbab5",
   "metadata": {},
   "outputs": [],
   "source": [
    "from tensorflow.keras import callbacks"
   ]
  },
  {
   "cell_type": "markdown",
   "id": "1d22ac58-7c1d-4a51-ba29-5a9938cf85df",
   "metadata": {},
   "source": [
    "## ModelCheckpoint"
   ]
  },
  {
   "cell_type": "code",
   "execution_count": 58,
   "id": "c4d24415-685f-4520-9b87-649f02dca721",
   "metadata": {
    "scrolled": true
   },
   "outputs": [
    {
     "name": "stdout",
     "output_type": "stream",
     "text": [
      "Epoch 1/10\n",
      "1292/1313 [============================>.] - ETA: 0s - loss: 0.0932 - accuracy: 0.9727INFO:tensorflow:Assets written to: mnist_model\\assets\n",
      "1313/1313 [==============================] - 3s 2ms/step - loss: 0.0933 - accuracy: 0.9727\n",
      "Epoch 2/10\n",
      "1312/1313 [============================>.] - ETA: 0s - loss: 0.0865 - accuracy: 0.9746INFO:tensorflow:Assets written to: mnist_model\\assets\n",
      "1313/1313 [==============================] - 3s 2ms/step - loss: 0.0865 - accuracy: 0.9746\n",
      "Epoch 3/10\n",
      "1289/1313 [============================>.] - ETA: 0s - loss: 0.0807 - accuracy: 0.9763INFO:tensorflow:Assets written to: mnist_model\\assets\n",
      "1313/1313 [==============================] - 3s 2ms/step - loss: 0.0805 - accuracy: 0.9764\n",
      "Epoch 4/10\n",
      "1307/1313 [============================>.] - ETA: 0s - loss: 0.0752 - accuracy: 0.9770INFO:tensorflow:Assets written to: mnist_model\\assets\n",
      "1313/1313 [==============================] - 3s 2ms/step - loss: 0.0752 - accuracy: 0.9770\n",
      "Epoch 5/10\n",
      "1288/1313 [============================>.] - ETA: 0s - loss: 0.0693 - accuracy: 0.9795INFO:tensorflow:Assets written to: mnist_model\\assets\n",
      "1313/1313 [==============================] - 3s 2ms/step - loss: 0.0692 - accuracy: 0.9796\n",
      "Epoch 6/10\n",
      "1290/1313 [============================>.] - ETA: 0s - loss: 0.0645 - accuracy: 0.9808INFO:tensorflow:Assets written to: mnist_model\\assets\n",
      "1313/1313 [==============================] - 3s 2ms/step - loss: 0.0646 - accuracy: 0.9809\n",
      "Epoch 7/10\n",
      "1295/1313 [============================>.] - ETA: 0s - loss: 0.0608 - accuracy: 0.9830INFO:tensorflow:Assets written to: mnist_model\\assets\n",
      "1313/1313 [==============================] - 3s 2ms/step - loss: 0.0608 - accuracy: 0.9830\n",
      "Epoch 8/10\n",
      "1296/1313 [============================>.] - ETA: 0s - loss: 0.0565 - accuracy: 0.9852INFO:tensorflow:Assets written to: mnist_model\\assets\n",
      "1313/1313 [==============================] - 3s 2ms/step - loss: 0.0562 - accuracy: 0.9852\n",
      "Epoch 9/10\n",
      "1288/1313 [============================>.] - ETA: 0s - loss: 0.0524 - accuracy: 0.9854INFO:tensorflow:Assets written to: mnist_model\\assets\n",
      "1313/1313 [==============================] - 3s 2ms/step - loss: 0.0528 - accuracy: 0.9853\n",
      "Epoch 10/10\n",
      "1309/1313 [============================>.] - ETA: 0s - loss: 0.0489 - accuracy: 0.9862INFO:tensorflow:Assets written to: mnist_model\\assets\n",
      "1313/1313 [==============================] - 3s 2ms/step - loss: 0.0488 - accuracy: 0.9862\n"
     ]
    }
   ],
   "source": [
    "check_point_cb = callbacks.ModelCheckpoint('mnist_model')\n",
    "history = model.fit(x_train, y_train, epochs=10,\n",
    "                    callbacks=[check_point_cb])"
   ]
  },
  {
   "cell_type": "code",
   "execution_count": 59,
   "id": "9d8d74d4-cbd5-42c0-a415-df1091495a60",
   "metadata": {},
   "outputs": [
    {
     "name": "stdout",
     "output_type": "stream",
     "text": [
      "Epoch 1/10\n",
      "1294/1313 [============================>.] - ETA: 0s - loss: 0.0463 - accuracy: 0.9870INFO:tensorflow:Assets written to: mnist_model\\assets\n",
      "1313/1313 [==============================] - 4s 3ms/step - loss: 0.0466 - accuracy: 0.9869 - val_loss: 0.1136 - val_accuracy: 0.9670\n",
      "Epoch 2/10\n",
      "1288/1313 [============================>.] - ETA: 0s - loss: 0.0429 - accuracy: 0.9881INFO:tensorflow:Assets written to: mnist_model\\assets\n",
      "1313/1313 [==============================] - 4s 3ms/step - loss: 0.0433 - accuracy: 0.9881 - val_loss: 0.1026 - val_accuracy: 0.9689\n",
      "Epoch 3/10\n",
      "1313/1313 [==============================] - 3s 3ms/step - loss: 0.0404 - accuracy: 0.9889 - val_loss: 0.1031 - val_accuracy: 0.9698\n",
      "Epoch 4/10\n",
      "1313/1313 [==============================] - 4s 3ms/step - loss: 0.0381 - accuracy: 0.9896 - val_loss: 0.1066 - val_accuracy: 0.9695\n",
      "Epoch 5/10\n",
      "1305/1313 [============================>.] - ETA: 0s - loss: 0.0355 - accuracy: 0.9905INFO:tensorflow:Assets written to: mnist_model\\assets\n",
      "1313/1313 [==============================] - 4s 3ms/step - loss: 0.0354 - accuracy: 0.9905 - val_loss: 0.1012 - val_accuracy: 0.9705\n",
      "Epoch 6/10\n",
      "1313/1313 [==============================] - 3s 3ms/step - loss: 0.0332 - accuracy: 0.9914 - val_loss: 0.1044 - val_accuracy: 0.9704\n",
      "Epoch 7/10\n",
      "1313/1313 [==============================] - 3s 3ms/step - loss: 0.0309 - accuracy: 0.9920 - val_loss: 0.1123 - val_accuracy: 0.9676\n",
      "Epoch 8/10\n",
      "1313/1313 [==============================] - 3s 3ms/step - loss: 0.0292 - accuracy: 0.9923 - val_loss: 0.1031 - val_accuracy: 0.9709\n",
      "Epoch 9/10\n",
      "1313/1313 [==============================] - 3s 3ms/step - loss: 0.0269 - accuracy: 0.9936 - val_loss: 0.1099 - val_accuracy: 0.9686\n",
      "Epoch 10/10\n",
      "1313/1313 [==============================] - 3s 3ms/step - loss: 0.0258 - accuracy: 0.9937 - val_loss: 0.1080 - val_accuracy: 0.9677\n"
     ]
    }
   ],
   "source": [
    "check_point_cb = callbacks.ModelCheckpoint('mnist_model', save_best_only=True)\n",
    "history = model.fit(x_train, y_train, epochs=10,\n",
    "                    validation_data=(x_val, y_val),\n",
    "                    callbacks=[check_point_cb])"
   ]
  },
  {
   "cell_type": "markdown",
   "id": "f3e37c51-092c-4139-b177-ff5f0937b4eb",
   "metadata": {},
   "source": [
    "## EarlyStopping"
   ]
  },
  {
   "cell_type": "code",
   "execution_count": 69,
   "id": "b9aa7624-0d71-4587-aa75-ca51408d66f6",
   "metadata": {},
   "outputs": [
    {
     "name": "stdout",
     "output_type": "stream",
     "text": [
      "Epoch 1/10\n",
      "1296/1313 [============================>.] - ETA: 0s - loss: 0.0038 - accuracy: 0.9999INFO:tensorflow:Assets written to: mnist_model\\assets\n",
      "1313/1313 [==============================] - 4s 3ms/step - loss: 0.0038 - accuracy: 0.9999 - val_loss: 0.1205 - val_accuracy: 0.9712\n",
      "Epoch 2/10\n",
      "1289/1313 [============================>.] - ETA: 0s - loss: 0.0037 - accuracy: 0.9999INFO:tensorflow:Assets written to: mnist_model\\assets\n",
      "1313/1313 [==============================] - 4s 3ms/step - loss: 0.0036 - accuracy: 0.9999 - val_loss: 0.1192 - val_accuracy: 0.9716\n",
      "Epoch 3/10\n",
      "1313/1313 [==============================] - 3s 3ms/step - loss: 0.0036 - accuracy: 1.0000 - val_loss: 0.1205 - val_accuracy: 0.9717\n",
      "Epoch 4/10\n",
      "1313/1313 [==============================] - 3s 2ms/step - loss: 0.0035 - accuracy: 1.0000 - val_loss: 0.1203 - val_accuracy: 0.9719\n",
      "Epoch 5/10\n",
      "1313/1313 [==============================] - 3s 3ms/step - loss: 0.0033 - accuracy: 0.9999 - val_loss: 0.1210 - val_accuracy: 0.9714\n",
      "Epoch 6/10\n",
      "1313/1313 [==============================] - 3s 3ms/step - loss: 0.0033 - accuracy: 0.9999 - val_loss: 0.1215 - val_accuracy: 0.9711\n"
     ]
    }
   ],
   "source": [
    "check_point_cb = callbacks.ModelCheckpoint('mnist_model', save_best_only=True)\n",
    "early_stopping_cb = callbacks.EarlyStopping(patience=4, monitor='val_loss',\n",
    "                                  restore_best_weights=True)\n",
    "history = model.fit(x_train, y_train, epochs=10,\n",
    "                    validation_data=(x_val, y_val),\n",
    "                    callbacks=[check_point_cb, early_stopping_cb])"
   ]
  },
  {
   "cell_type": "markdown",
   "id": "28033492-7fee-4665-b044-b51fb714e8d1",
   "metadata": {},
   "source": [
    "## LearningRateScheduler"
   ]
  },
  {
   "cell_type": "code",
   "execution_count": 70,
   "id": "8dbb52f6-7dff-43f3-8d06-e44189345a74",
   "metadata": {},
   "outputs": [],
   "source": [
    "def scheduler(epoch, learning_rate):\n",
    "  if epoch < 10:\n",
    "    return learning_rate\n",
    "  else:\n",
    "    return learning_rate * tf.math.exp(-0.1)"
   ]
  },
  {
   "cell_type": "code",
   "execution_count": 71,
   "id": "c0290e7e-73a0-4a17-8a50-299244788da9",
   "metadata": {},
   "outputs": [
    {
     "data": {
      "text/plain": [
       "0.00497"
      ]
     },
     "execution_count": 71,
     "metadata": {},
     "output_type": "execute_result"
    }
   ],
   "source": [
    "round(model.optimizer.lr.numpy(), 5) # sgd의 기본값은 0.01"
   ]
  },
  {
   "cell_type": "code",
   "execution_count": 72,
   "id": "de36d6af-3a70-4d6a-9f05-2a53c0916859",
   "metadata": {},
   "outputs": [
    {
     "data": {
      "text/plain": [
       "0.00301"
      ]
     },
     "execution_count": 72,
     "metadata": {},
     "output_type": "execute_result"
    }
   ],
   "source": [
    "lr_scheduler_cb = callbacks.LearningRateScheduler(scheduler)\n",
    "\n",
    "history = model.fit(x_train, y_train, epochs=15,\n",
    "                    callbacks=[lr_scheduler_cb], verbose=0)\n",
    "\n",
    "round(model.optimizer.lr.numpy(), 5)"
   ]
  },
  {
   "cell_type": "markdown",
   "id": "b8acbb9a-73f5-4d53-958b-67ca3b1cd342",
   "metadata": {},
   "source": [
    "## Tensorboard"
   ]
  },
  {
   "cell_type": "code",
   "execution_count": 74,
   "id": "d5e8db96-65a3-432f-9683-522c3d99306f",
   "metadata": {},
   "outputs": [
    {
     "data": {
      "text/html": [
       "\n",
       "      <iframe id=\"tensorboard-frame-f511858d82d4fb18\" width=\"100%\" height=\"800\" frameborder=\"0\">\n",
       "      </iframe>\n",
       "      <script>\n",
       "        (function() {\n",
       "          const frame = document.getElementById(\"tensorboard-frame-f511858d82d4fb18\");\n",
       "          const url = new URL(\"/\", window.location);\n",
       "          const port = 6006;\n",
       "          if (port) {\n",
       "            url.port = port;\n",
       "          }\n",
       "          frame.src = url;\n",
       "        })();\n",
       "      </script>\n",
       "    "
      ],
      "text/plain": [
       "<IPython.core.display.HTML object>"
      ]
     },
     "metadata": {},
     "output_type": "display_data"
    }
   ],
   "source": [
    "%load_ext tensorboard\n",
    "%tensorboard --logdir {log_dir}"
   ]
  },
  {
   "cell_type": "code",
   "execution_count": 76,
   "id": "4731a49b-4a51-484f-9068-a61b6e94cb77",
   "metadata": {
    "scrolled": true
   },
   "outputs": [
    {
     "name": "stdout",
     "output_type": "stream",
     "text": [
      "Epoch 1/30\n",
      "1313/1313 [==============================] - 3s 3ms/step - loss: 0.0014 - accuracy: 1.0000 - val_loss: 0.1338 - val_accuracy: 0.9716\n",
      "Epoch 2/30\n",
      "1313/1313 [==============================] - 3s 3ms/step - loss: 0.0014 - accuracy: 1.0000 - val_loss: 0.1331 - val_accuracy: 0.9718\n",
      "Epoch 3/30\n",
      "1313/1313 [==============================] - 3s 3ms/step - loss: 0.0014 - accuracy: 1.0000 - val_loss: 0.1338 - val_accuracy: 0.9717\n",
      "Epoch 4/30\n",
      "1313/1313 [==============================] - 4s 3ms/step - loss: 0.0014 - accuracy: 1.0000 - val_loss: 0.1338 - val_accuracy: 0.9719\n",
      "Epoch 5/30\n",
      "1313/1313 [==============================] - 3s 3ms/step - loss: 0.0014 - accuracy: 1.0000 - val_loss: 0.1341 - val_accuracy: 0.9719\n",
      "Epoch 6/30\n",
      "1313/1313 [==============================] - 3s 3ms/step - loss: 0.0014 - accuracy: 1.0000 - val_loss: 0.1337 - val_accuracy: 0.9718\n",
      "Epoch 7/30\n",
      "1313/1313 [==============================] - 3s 3ms/step - loss: 0.0014 - accuracy: 1.0000 - val_loss: 0.1341 - val_accuracy: 0.9715\n",
      "Epoch 8/30\n",
      "1313/1313 [==============================] - 3s 3ms/step - loss: 0.0014 - accuracy: 1.0000 - val_loss: 0.1349 - val_accuracy: 0.9716\n",
      "Epoch 9/30\n",
      "1313/1313 [==============================] - 3s 3ms/step - loss: 0.0013 - accuracy: 1.0000 - val_loss: 0.1344 - val_accuracy: 0.9721\n",
      "Epoch 10/30\n",
      "1313/1313 [==============================] - 3s 3ms/step - loss: 0.0013 - accuracy: 1.0000 - val_loss: 0.1344 - val_accuracy: 0.9717\n",
      "Epoch 11/30\n",
      "1313/1313 [==============================] - 3s 3ms/step - loss: 0.0013 - accuracy: 1.0000 - val_loss: 0.1342 - val_accuracy: 0.9719\n",
      "Epoch 12/30\n",
      "1313/1313 [==============================] - 3s 3ms/step - loss: 0.0013 - accuracy: 1.0000 - val_loss: 0.1349 - val_accuracy: 0.9718\n",
      "Epoch 13/30\n",
      "1313/1313 [==============================] - 3s 3ms/step - loss: 0.0013 - accuracy: 1.0000 - val_loss: 0.1352 - val_accuracy: 0.9716\n",
      "Epoch 14/30\n",
      "1313/1313 [==============================] - 3s 3ms/step - loss: 0.0013 - accuracy: 1.0000 - val_loss: 0.1350 - val_accuracy: 0.9719\n",
      "Epoch 15/30\n",
      "1313/1313 [==============================] - 3s 3ms/step - loss: 0.0013 - accuracy: 1.0000 - val_loss: 0.1350 - val_accuracy: 0.9719\n",
      "Epoch 16/30\n",
      "1313/1313 [==============================] - 3s 3ms/step - loss: 0.0013 - accuracy: 1.0000 - val_loss: 0.1351 - val_accuracy: 0.9721\n",
      "Epoch 17/30\n",
      "1313/1313 [==============================] - 3s 3ms/step - loss: 0.0013 - accuracy: 1.0000 - val_loss: 0.1358 - val_accuracy: 0.9718\n",
      "Epoch 18/30\n",
      "1313/1313 [==============================] - 3s 2ms/step - loss: 0.0013 - accuracy: 1.0000 - val_loss: 0.1353 - val_accuracy: 0.9718\n",
      "Epoch 19/30\n",
      "1313/1313 [==============================] - 3s 3ms/step - loss: 0.0013 - accuracy: 1.0000 - val_loss: 0.1358 - val_accuracy: 0.9719\n",
      "Epoch 20/30\n",
      "1313/1313 [==============================] - 3s 3ms/step - loss: 0.0012 - accuracy: 1.0000 - val_loss: 0.1364 - val_accuracy: 0.9719\n",
      "Epoch 21/30\n",
      "1313/1313 [==============================] - 3s 3ms/step - loss: 0.0012 - accuracy: 1.0000 - val_loss: 0.1360 - val_accuracy: 0.9719\n",
      "Epoch 22/30\n",
      "1313/1313 [==============================] - 3s 3ms/step - loss: 0.0012 - accuracy: 1.0000 - val_loss: 0.1364 - val_accuracy: 0.9717\n",
      "Epoch 23/30\n",
      "1313/1313 [==============================] - 3s 3ms/step - loss: 0.0012 - accuracy: 1.0000 - val_loss: 0.1363 - val_accuracy: 0.9717\n",
      "Epoch 24/30\n",
      "1313/1313 [==============================] - 3s 3ms/step - loss: 0.0012 - accuracy: 1.0000 - val_loss: 0.1363 - val_accuracy: 0.9717\n",
      "Epoch 25/30\n",
      "1313/1313 [==============================] - 3s 3ms/step - loss: 0.0012 - accuracy: 1.0000 - val_loss: 0.1365 - val_accuracy: 0.9718\n",
      "Epoch 26/30\n",
      "1313/1313 [==============================] - 3s 3ms/step - loss: 0.0012 - accuracy: 1.0000 - val_loss: 0.1364 - val_accuracy: 0.9718\n",
      "Epoch 27/30\n",
      "1313/1313 [==============================] - 3s 3ms/step - loss: 0.0012 - accuracy: 1.0000 - val_loss: 0.1366 - val_accuracy: 0.9718\n",
      "Epoch 28/30\n",
      "1313/1313 [==============================] - 3s 3ms/step - loss: 0.0012 - accuracy: 1.0000 - val_loss: 0.1369 - val_accuracy: 0.9719\n",
      "Epoch 29/30\n",
      "1313/1313 [==============================] - 3s 3ms/step - loss: 0.0012 - accuracy: 1.0000 - val_loss: 0.1366 - val_accuracy: 0.9719\n",
      "Epoch 30/30\n",
      "1313/1313 [==============================] - 3s 3ms/step - loss: 0.0012 - accuracy: 1.0000 - val_loss: 0.1368 - val_accuracy: 0.9721\n"
     ]
    },
    {
     "data": {
      "text/plain": [
       "<keras.callbacks.History at 0x1f760397370>"
      ]
     },
     "execution_count": 76,
     "metadata": {},
     "output_type": "execute_result"
    }
   ],
   "source": [
    "log_dir = './logs'\n",
    "tensor_board_cb = [callbacks.TensorBoard(log_dir=log_dir, histogram_freq=1, write_graph=True, write_images=True)]\n",
    "model.fit(x_train, y_train, batch_size=32, validation_data=(x_val, y_val),\n",
    "          epochs=30, callbacks=tensor_board_cb)"
   ]
  }
 ],
 "metadata": {
  "kernelspec": {
   "display_name": "Python 3 (ipykernel)",
   "language": "python",
   "name": "python3"
  },
  "language_info": {
   "codemirror_mode": {
    "name": "ipython",
    "version": 3
   },
   "file_extension": ".py",
   "mimetype": "text/x-python",
   "name": "python",
   "nbconvert_exporter": "python",
   "pygments_lexer": "ipython3",
   "version": "3.10.18"
  }
 },
 "nbformat": 4,
 "nbformat_minor": 5
}
