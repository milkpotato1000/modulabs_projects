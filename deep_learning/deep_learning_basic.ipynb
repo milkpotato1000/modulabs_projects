{
 "cells": [
  {
   "cell_type": "code",
   "execution_count": 1,
   "id": "1e72cfc3-2495-4c2b-a3ce-ad680d27fb9d",
   "metadata": {},
   "outputs": [],
   "source": [
    "import tensorflow as tf\n",
    "from tensorflow import keras\n",
    "from tensorflow.keras import layers"
   ]
  },
  {
   "cell_type": "markdown",
   "id": "3ae00742-71a9-4a34-be0e-801173cc1856",
   "metadata": {},
   "source": [
    "# 1. DL 구조와 레이어"
   ]
  },
  {
   "cell_type": "markdown",
   "id": "a75a6102-c41d-47e9-8098-81a4df8537d3",
   "metadata": {},
   "source": [
    "## 1-1. Input 객체\n",
    "- 딥러닝 모델의 입력을 정의\n",
    "- 데이터의 모양(shape), 예상 데이터 유형(dtype)등을 포함"
   ]
  },
  {
   "cell_type": "code",
   "execution_count": 2,
   "id": "5bcbd2d3-895d-4798-b480-373b79dcb5bf",
   "metadata": {},
   "outputs": [
    {
     "data": {
      "text/plain": [
       "<KerasTensor: shape=(None, 8) dtype=int32 (created by layer 'input_1')>"
      ]
     },
     "execution_count": 2,
     "metadata": {},
     "output_type": "execute_result"
    }
   ],
   "source": [
    "keras.Input(shape=(8,), dtype=tf.int32)"
   ]
  },
  {
   "cell_type": "code",
   "execution_count": 3,
   "id": "202a4b26-6a65-45e7-ba36-6b8b6de42964",
   "metadata": {},
   "outputs": [
    {
     "data": {
      "text/plain": [
       "<KerasTensor: shape=(None, 28, 28) dtype=float32 (created by layer 'input_2')>"
      ]
     },
     "execution_count": 3,
     "metadata": {},
     "output_type": "execute_result"
    }
   ],
   "source": [
    "keras.Input(shape=(28, 28), dtype=tf.float32)"
   ]
  },
  {
   "cell_type": "markdown",
   "id": "df15c4a8-37e3-42a7-88d6-84809d447915",
   "metadata": {},
   "source": [
    "## batch size & name"
   ]
  },
  {
   "cell_type": "code",
   "execution_count": 4,
   "id": "56b613c2-365e-4346-bbf3-0e920d37fdc2",
   "metadata": {},
   "outputs": [
    {
     "data": {
      "text/plain": [
       "<KerasTensor: shape=(16, 28, 28) dtype=float32 (created by layer 'input_3')>"
      ]
     },
     "execution_count": 4,
     "metadata": {},
     "output_type": "execute_result"
    }
   ],
   "source": [
    "keras.Input(shape=(28, 28), dtype=tf.float32, batch_size=16)"
   ]
  },
  {
   "cell_type": "code",
   "execution_count": 5,
   "id": "d4db447f-483a-4200-95fa-bbcd1e2ef3f2",
   "metadata": {},
   "outputs": [
    {
     "data": {
      "text/plain": [
       "<KerasTensor: shape=(16, 28, 28) dtype=float32 (created by layer 'input')>"
      ]
     },
     "execution_count": 5,
     "metadata": {},
     "output_type": "execute_result"
    }
   ],
   "source": [
    "keras.Input(shape=(28, 28), dtype=tf.float32, batch_size=16, name='input')"
   ]
  },
  {
   "cell_type": "markdown",
   "id": "a190b3c4-9b96-475b-a41d-7ba1e669f37b",
   "metadata": {},
   "source": [
    "## 1-2. Dense layer\n",
    "- Fully connected layer"
   ]
  },
  {
   "cell_type": "code",
   "execution_count": 6,
   "id": "a733f4dc-2551-44c1-a791-db5fe4cefe18",
   "metadata": {},
   "outputs": [
    {
     "data": {
      "text/plain": [
       "<keras.layers.core.dense.Dense at 0x15596546ce0>"
      ]
     },
     "execution_count": 6,
     "metadata": {},
     "output_type": "execute_result"
    }
   ],
   "source": [
    "layers.Dense(10) # 노드 10개"
   ]
  },
  {
   "cell_type": "code",
   "execution_count": 7,
   "id": "b5b23cf3-1e82-40d7-be61-d098f565c191",
   "metadata": {},
   "outputs": [
    {
     "data": {
      "text/plain": [
       "<keras.layers.core.dense.Dense at 0x1558fa78520>"
      ]
     },
     "execution_count": 7,
     "metadata": {},
     "output_type": "execute_result"
    }
   ],
   "source": [
    "layers.Dense(10, name='layer1') # 이름 layer1로 지정"
   ]
  },
  {
   "cell_type": "code",
   "execution_count": 8,
   "id": "7c71dc5a-8343-4cf1-835e-287e1aac78a3",
   "metadata": {},
   "outputs": [
    {
     "data": {
      "text/plain": [
       "<keras.layers.core.dense.Dense at 0x15599f4b9a0>"
      ]
     },
     "execution_count": 8,
     "metadata": {},
     "output_type": "execute_result"
    }
   ],
   "source": [
    "layers.Dense(10, activation='relu') # 활성화 함수 지정"
   ]
  },
  {
   "cell_type": "code",
   "execution_count": 9,
   "id": "91610676-1749-4798-ba35-130b942f5cfb",
   "metadata": {},
   "outputs": [
    {
     "data": {
      "text/plain": [
       "<keras.layers.core.dense.Dense at 0x1559a038280>"
      ]
     },
     "execution_count": 9,
     "metadata": {},
     "output_type": "execute_result"
    }
   ],
   "source": [
    "layers.Dense(10, activation='relu', name='Dense Layer') # 레이어 이름 + 활성화 함수 지정 동시에"
   ]
  },
  {
   "cell_type": "code",
   "execution_count": 10,
   "id": "753ee527-1a2f-403f-abd8-d17b2ff6b09c",
   "metadata": {},
   "outputs": [
    {
     "name": "stdout",
     "output_type": "stream",
     "text": [
      "tf.Tensor(\n",
      "[[0.24048018 0.74065197]\n",
      " [0.24764848 0.3778565 ]\n",
      " [0.6316253  0.20271802]\n",
      " [0.6352949  0.01204896]\n",
      " [0.3725779  0.03000307]], shape=(5, 2), dtype=float32)\n",
      "[<tf.Variable 'dense_2/kernel:0' shape=(2, 10) dtype=float32, numpy=\n",
      "array([[-0.30973616,  0.51867145, -0.4977057 , -0.6831888 ,  0.33729666,\n",
      "         0.05656594,  0.5845255 , -0.08458179,  0.64862293,  0.5753824 ],\n",
      "       [ 0.1883347 , -0.30386022, -0.28337163, -0.6104548 , -0.10639334,\n",
      "        -0.5338111 ,  0.62867635, -0.27205738, -0.03277695,  0.42685252]],\n",
      "      dtype=float32)>, <tf.Variable 'dense_2/bias:0' shape=(10,) dtype=float32, numpy=array([0., 0., 0., 0., 0., 0., 0., 0., 0., 0.], dtype=float32)>]\n",
      "<tf.Variable 'dense_2/bias:0' shape=(10,) dtype=float32, numpy=array([0., 0., 0., 0., 0., 0., 0., 0., 0., 0.], dtype=float32)>\n",
      "tf.Tensor(\n",
      "[[0.06500506 0.         0.         0.         0.00231273 0.\n",
      "  0.6061972  0.         0.13170464 0.45451725]\n",
      " [0.         0.01363263 0.         0.         0.04332959 0.\n",
      "  0.38230628 0.         0.1482455  0.30378157]\n",
      " [0.         0.26600808 0.         0.         0.19147725 0.\n",
      "  0.49664512 0.         0.40304217 0.44995677]\n",
      " [0.         0.32584816 0.         0.         0.21300092 0.02950419\n",
      "  0.37892097 0.         0.4116719  0.37068066]\n",
      " [0.         0.18412879 0.         0.         0.12247716 0.00505925\n",
      "  0.23664351 0.         0.24067917 0.22718167]], shape=(5, 10), dtype=float32)\n"
     ]
    }
   ],
   "source": [
    "inputs = tf.random.uniform(shape=(5, 2))\n",
    "print(inputs)\n",
    "layer = layers.Dense(10, activation='relu')\n",
    "outputs = layer(inputs)\n",
    "print(layer.weights)\n",
    "print(layer.bias)\n",
    "print(outputs)"
   ]
  },
  {
   "cell_type": "markdown",
   "id": "4bac8e3f-f2b9-4336-affa-2c4c99f2cbc1",
   "metadata": {},
   "source": [
    "# 2. DL 모델"
   ]
  },
  {
   "cell_type": "code",
   "execution_count": 11,
   "id": "06ee5ce3-7bac-4967-bd1e-2bfee32c7197",
   "metadata": {},
   "outputs": [],
   "source": [
    "from tensorflow.keras import models, utils"
   ]
  },
  {
   "cell_type": "markdown",
   "id": "6a17cff5-ee5e-454b-ad3d-3c78e7aae0bb",
   "metadata": {},
   "source": [
    "## 2-1. Sequential API\n",
    "- equential API 이용 방법은 모델이 순차적인 구조로 진행할 때 사용하는 간단한 방법\n",
    "- 이 방법은 다중 입력 및 출력이 존재하는 등의 복잡한 모델을 구성할 수 없습니다."
   ]
  },
  {
   "cell_type": "markdown",
   "id": "3f0fd52b-9ddc-4340-9abc-d8312343f40a",
   "metadata": {},
   "source": [
    "### 2-1-1. Sequential 인자에 사용할 레이어들을 순차적으로 추가"
   ]
  },
  {
   "cell_type": "code",
   "execution_count": 13,
   "id": "c3f041a6-275b-4484-8526-c7adab77c7e7",
   "metadata": {},
   "outputs": [
    {
     "name": "stdout",
     "output_type": "stream",
     "text": [
      "Model: \"sequential_1\"\n",
      "_________________________________________________________________\n",
      " Layer (type)                Output Shape              Param #   \n",
      "=================================================================\n",
      " dense_6 (Dense)             (None, 28, 300)           8700      \n",
      "                                                                 \n",
      " dense_7 (Dense)             (None, 28, 100)           30100     \n",
      "                                                                 \n",
      " dense_8 (Dense)             (None, 28, 10)            1010      \n",
      "                                                                 \n",
      "=================================================================\n",
      "Total params: 39,810\n",
      "Trainable params: 39,810\n",
      "Non-trainable params: 0\n",
      "_________________________________________________________________\n"
     ]
    }
   ],
   "source": [
    "model = models.Sequential() # Sequential\n",
    "model.add(layers.Input(shape=(28, 28)))\n",
    "model.add(layers.Dense(300, activation='relu'))\n",
    "model.add(layers.Dense(100, activation='relu'))\n",
    "model.add(layers.Dense(10, activation='softmax'))\n",
    "model.summary()"
   ]
  },
  {
   "cell_type": "markdown",
   "id": "0b5ce0f1-af64-41a2-ab95-bb623075630b",
   "metadata": {},
   "source": [
    "### 2-1-2. Sequential 인자에 한번에 추가"
   ]
  },
  {
   "cell_type": "code",
   "execution_count": 20,
   "id": "9f9280d2-d984-435a-8423-365851659402",
   "metadata": {},
   "outputs": [
    {
     "name": "stdout",
     "output_type": "stream",
     "text": [
      "Model: \"sequential_2\"\n",
      "_________________________________________________________________\n",
      " Layer (type)                Output Shape              Param #   \n",
      "=================================================================\n",
      " Dense1 (Dense)              (None, 28, 300)           8700      \n",
      "                                                                 \n",
      " Dense2 (Dense)              (None, 28, 100)           30100     \n",
      "                                                                 \n",
      " Output (Dense)              (None, 28, 10)            1010      \n",
      "                                                                 \n",
      "=================================================================\n",
      "Total params: 39,810\n",
      "Trainable params: 39,810\n",
      "Non-trainable params: 0\n",
      "_________________________________________________________________\n"
     ]
    }
   ],
   "source": [
    "model = models.Sequential([layers.Input(shape=(28, 28), name='Input'),\n",
    "                           layers.Dense(300, activation='relu', name='Dense1'),\n",
    "                           layers.Dense(100, activation='relu', name='Dense2'),\n",
    "                           layers.Dense(10, activation='softmax', name='Output')])\n",
    "model.summary()"
   ]
  },
  {
   "cell_type": "code",
   "execution_count": 21,
   "id": "eaf81a16-ff6e-49e3-84d4-df957f797a77",
   "metadata": {},
   "outputs": [
    {
     "name": "stdout",
     "output_type": "stream",
     "text": [
      "You must install pydot (`pip install pydot`) and install graphviz (see instructions at https://graphviz.gitlab.io/download/) for plot_model to work.\n"
     ]
    }
   ],
   "source": [
    "utils.plot_model(model)"
   ]
  },
  {
   "cell_type": "code",
   "execution_count": 22,
   "id": "781a4cef-1458-47e6-9462-0a741c38b08c",
   "metadata": {},
   "outputs": [
    {
     "name": "stdout",
     "output_type": "stream",
     "text": [
      "Model: \"model\"\n",
      "_________________________________________________________________\n",
      " Layer (type)                Output Shape              Param #   \n",
      "=================================================================\n",
      " input_6 (InputLayer)        [(None, 28, 28, 1)]       0         \n",
      "                                                                 \n",
      " flatten (Flatten)           (None, 784)               0         \n",
      "                                                                 \n",
      " dense_9 (Dense)             (None, 300)               235500    \n",
      "                                                                 \n",
      " dense_10 (Dense)            (None, 100)               30100     \n",
      "                                                                 \n",
      " dense_11 (Dense)            (None, 10)                1010      \n",
      "                                                                 \n",
      "=================================================================\n",
      "Total params: 266,610\n",
      "Trainable params: 266,610\n",
      "Non-trainable params: 0\n",
      "_________________________________________________________________\n"
     ]
    }
   ],
   "source": [
    "inputs = layers.Input(shape=(28, 28, 1))\n",
    "x = layers.Flatten(input_shape=(28, 28, 1))(inputs)\n",
    "x = layers.Dense(300, activation='relu')(x)\n",
    "x = layers.Dense(100, activation='relu')(x)\n",
    "x = layers.Dense(10, activation='softmax')(x)\n",
    "\n",
    "model = models.Model(inputs=inputs, outputs=x)\n",
    "model.summary()"
   ]
  },
  {
   "cell_type": "markdown",
   "id": "d92838ef-ed10-45ab-b216-7beca7a2666f",
   "metadata": {},
   "source": [
    "## 2-2. Functional API\n",
    "- 권장\n",
    "- Functional API는 딥러닝 모델을 복잡하고, 유연하게 구성하는 것이 가능하며, 다중 입출력을 다룰 수 있습니다."
   ]
  },
  {
   "cell_type": "code",
   "execution_count": 27,
   "id": "79646836-ccba-4023-9a1c-1d8e3b866bb8",
   "metadata": {},
   "outputs": [
    {
     "name": "stdout",
     "output_type": "stream",
     "text": [
      "Model: \"model_5\"\n",
      "_________________________________________________________________\n",
      " Layer (type)                Output Shape              Param #   \n",
      "=================================================================\n",
      " input_11 (InputLayer)       [(None, 28, 28, 1)]       0         \n",
      "                                                                 \n",
      " flatten_3 (Flatten)         (None, 784)               0         \n",
      "                                                                 \n",
      " dense_24 (Dense)            (None, 300)               235500    \n",
      "                                                                 \n",
      " dense_25 (Dense)            (None, 100)               30100     \n",
      "                                                                 \n",
      " dense_26 (Dense)            (None, 10)                1010      \n",
      "                                                                 \n",
      "=================================================================\n",
      "Total params: 266,610\n",
      "Trainable params: 266,610\n",
      "Non-trainable params: 0\n",
      "_________________________________________________________________\n"
     ]
    }
   ],
   "source": [
    "inputs = layers.Input(shape=(28, 28, 1))\n",
    "x = layers.Flatten(input_shape=(28, 28, 1))(inputs)\n",
    "x = layers.Dense(300, activation='relu')(x)\n",
    "x = layers.Dense(100, activation='relu')(x)\n",
    "x = layers.Dense(10, activation='softmax')(x)\n",
    "\n",
    "model = models.Model(inputs=inputs, outputs=x)\n",
    "model.summary()"
   ]
  },
  {
   "cell_type": "code",
   "execution_count": 33,
   "id": "295df593-0328-4fe0-8ccb-74ac3b66837e",
   "metadata": {},
   "outputs": [
    {
     "name": "stdout",
     "output_type": "stream",
     "text": [
      "You must install pydot (`pip install pydot`) and install graphviz (see instructions at https://graphviz.gitlab.io/download/) for plot_model to work.\n"
     ]
    }
   ],
   "source": [
    "utils.plot_model(model)"
   ]
  },
  {
   "cell_type": "markdown",
   "id": "32e0734b-da60-4748-a83c-ac574c48eb27",
   "metadata": {},
   "source": [
    "### 2-2-1. 인풋을 여러 레이어에서 사용 가능"
   ]
  },
  {
   "cell_type": "code",
   "execution_count": 25,
   "id": "f0dd1d42-a7c2-4dc3-8780-70f3716d6226",
   "metadata": {},
   "outputs": [
    {
     "name": "stdout",
     "output_type": "stream",
     "text": [
      "Model: \"model_3\"\n",
      "__________________________________________________________________________________________________\n",
      " Layer (type)                   Output Shape         Param #     Connected to                     \n",
      "==================================================================================================\n",
      " input_9 (InputLayer)           [(None, 28, 28)]     0           []                               \n",
      "                                                                                                  \n",
      " dense_18 (Dense)               (None, 28, 100)      2900        ['input_9[0][0]']                \n",
      "                                                                                                  \n",
      " dense_19 (Dense)               (None, 28, 30)       3030        ['dense_18[0][0]']               \n",
      "                                                                                                  \n",
      " concatenate_1 (Concatenate)    (None, 28, 58)       0           ['input_9[0][0]',                \n",
      "                                                                  'dense_19[0][0]']               \n",
      "                                                                                                  \n",
      " dense_20 (Dense)               (None, 28, 1)        59          ['concatenate_1[0][0]']          \n",
      "                                                                                                  \n",
      "==================================================================================================\n",
      "Total params: 5,989\n",
      "Trainable params: 5,989\n",
      "Non-trainable params: 0\n",
      "__________________________________________________________________________________________________\n"
     ]
    }
   ],
   "source": [
    "inputs = keras.Input(shape=(28, 28))\n",
    "hidden1 = layers.Dense(100, activation='relu')(inputs)\n",
    "hidden2 = layers.Dense(30, activation='relu')(hidden1)\n",
    "\n",
    "# 결합\n",
    "concat = layers.Concatenate()([inputs, hidden2])\n",
    "output = layers.Dense(1)(concat)\n",
    "\n",
    "model = models.Model(inputs=[inputs], outputs=[output])\n",
    "model.summary()"
   ]
  },
  {
   "cell_type": "code",
   "execution_count": 32,
   "id": "485a4f20-3f9f-471b-9a15-cd45a51ca4b2",
   "metadata": {},
   "outputs": [
    {
     "name": "stdout",
     "output_type": "stream",
     "text": [
      "You must install pydot (`pip install pydot`) and install graphviz (see instructions at https://graphviz.gitlab.io/download/) for plot_model to work.\n"
     ]
    }
   ],
   "source": [
    "utils.plot_model(model)"
   ]
  },
  {
   "cell_type": "markdown",
   "id": "e05f3f7c-9995-4650-9bbe-55916e999328",
   "metadata": {},
   "source": [
    "### 2-2-2. 여러 인풋 사용 가능"
   ]
  },
  {
   "cell_type": "code",
   "execution_count": 28,
   "id": "9acb8f44-301b-421a-8053-b27102844feb",
   "metadata": {},
   "outputs": [
    {
     "name": "stdout",
     "output_type": "stream",
     "text": [
      "Model: \"model_6\"\n",
      "__________________________________________________________________________________________________\n",
      " Layer (type)                   Output Shape         Param #     Connected to                     \n",
      "==================================================================================================\n",
      " Input_2 (InputLayer)           [(None, 10, 28)]     0           []                               \n",
      "                                                                                                  \n",
      " dense_27 (Dense)               (None, 10, 100)      2900        ['Input_2[0][0]']                \n",
      "                                                                                                  \n",
      " Input_1 (InputLayer)           [(None, 10, 10)]     0           []                               \n",
      "                                                                                                  \n",
      " dense_28 (Dense)               (None, 10, 10)       1010        ['dense_27[0][0]']               \n",
      "                                                                                                  \n",
      " concatenate_2 (Concatenate)    (None, 10, 20)       0           ['Input_1[0][0]',                \n",
      "                                                                  'dense_28[0][0]']               \n",
      "                                                                                                  \n",
      " output (Dense)                 (None, 10, 1)        21          ['concatenate_2[0][0]']          \n",
      "                                                                                                  \n",
      "==================================================================================================\n",
      "Total params: 3,931\n",
      "Trainable params: 3,931\n",
      "Non-trainable params: 0\n",
      "__________________________________________________________________________________________________\n"
     ]
    }
   ],
   "source": [
    "input_1 = keras.Input(shape=(10, 10), name='Input_1')\n",
    "input_2 = keras.Input(shape=(10, 28), name='Input_2')\n",
    "\n",
    "hidden1 = layers.Dense(100, activation='relu')(input_2)\n",
    "hidden2 = layers.Dense(10, activation='relu')(hidden1)\n",
    "concat = layers.Concatenate()([input_1, hidden2])\n",
    "output = layers.Dense(1, activation='sigmoid', name='output')(concat)\n",
    "\n",
    "model = models.Model(inputs=[input_1, input_2], outputs=[output])\n",
    "model.summary()"
   ]
  },
  {
   "cell_type": "code",
   "execution_count": 31,
   "id": "27957356-f685-4b1e-94e2-5a4152d27597",
   "metadata": {},
   "outputs": [
    {
     "name": "stdout",
     "output_type": "stream",
     "text": [
      "You must install pydot (`pip install pydot`) and install graphviz (see instructions at https://graphviz.gitlab.io/download/) for plot_model to work.\n"
     ]
    }
   ],
   "source": [
    "utils.plot_model(model)"
   ]
  },
  {
   "cell_type": "markdown",
   "id": "d6959fcd-2a73-4638-9f62-6b1ceb49f9be",
   "metadata": {},
   "source": [
    "### 2-2-3. 결과를 여러개로 나눠서 사용하는 것도 가능"
   ]
  },
  {
   "cell_type": "code",
   "execution_count": 29,
   "id": "7f7ee8ba-a8b1-4517-a867-f49d373e4c8c",
   "metadata": {},
   "outputs": [
    {
     "name": "stdout",
     "output_type": "stream",
     "text": [
      "Model: \"model_7\"\n",
      "__________________________________________________________________________________________________\n",
      " Layer (type)                   Output Shape         Param #     Connected to                     \n",
      "==================================================================================================\n",
      " input_ (InputLayer)            [(None, 10, 10)]     0           []                               \n",
      "                                                                                                  \n",
      " dense_29 (Dense)               (None, 10, 100)      1100        ['input_[0][0]']                 \n",
      "                                                                                                  \n",
      " dense_30 (Dense)               (None, 10, 10)       1010        ['dense_29[0][0]']               \n",
      "                                                                                                  \n",
      " main_output (Dense)            (None, 10, 1)        11          ['dense_30[0][0]']               \n",
      "                                                                                                  \n",
      " sum_output (Dense)             (None, 10, 1)        11          ['dense_30[0][0]']               \n",
      "                                                                                                  \n",
      "==================================================================================================\n",
      "Total params: 2,132\n",
      "Trainable params: 2,132\n",
      "Non-trainable params: 0\n",
      "__________________________________________________________________________________________________\n"
     ]
    }
   ],
   "source": [
    "input_ = keras.Input(shape=(10, 10), name='input_')\n",
    "hidden1 = layers.Dense(100, activation='relu')(input_)\n",
    "hidden2 = layers.Dense(10, activation='relu')(hidden1)\n",
    "output = layers.Dense(1, activation='sigmoid', name='main_output')(hidden2)\n",
    "sub_out = layers.Dense(1, name='sum_output')(hidden2)\n",
    "\n",
    "model = models.Model(inputs=[input_], outputs=[output, sub_out])\n",
    "model.summary()"
   ]
  },
  {
   "cell_type": "code",
   "execution_count": 30,
   "id": "2898a163-7925-4550-a628-bcbeb632bed1",
   "metadata": {},
   "outputs": [
    {
     "name": "stdout",
     "output_type": "stream",
     "text": [
      "You must install pydot (`pip install pydot`) and install graphviz (see instructions at https://graphviz.gitlab.io/download/) for plot_model to work.\n"
     ]
    }
   ],
   "source": [
    "utils.plot_model(model)"
   ]
  },
  {
   "cell_type": "markdown",
   "id": "7d8896dd-4d01-4cf9-a750-e817f1bfa0f5",
   "metadata": {},
   "source": [
    "### 2-2-4. 다중 출력 가능한 모델 생성"
   ]
  },
  {
   "cell_type": "code",
   "execution_count": 34,
   "id": "ffd6f985-07b5-4dea-81c4-d1a751ad7066",
   "metadata": {},
   "outputs": [
    {
     "name": "stdout",
     "output_type": "stream",
     "text": [
      "Model: \"model_8\"\n",
      "__________________________________________________________________________________________________\n",
      " Layer (type)                   Output Shape         Param #     Connected to                     \n",
      "==================================================================================================\n",
      " input_2 (InputLayer)           [(None, 10, 28)]     0           []                               \n",
      "                                                                                                  \n",
      " dense_31 (Dense)               (None, 10, 100)      2900        ['input_2[0][0]']                \n",
      "                                                                                                  \n",
      " input_1 (InputLayer)           [(None, 10, 10)]     0           []                               \n",
      "                                                                                                  \n",
      " dense_32 (Dense)               (None, 10, 10)       1010        ['dense_31[0][0]']               \n",
      "                                                                                                  \n",
      " concatenate_3 (Concatenate)    (None, 10, 20)       0           ['input_1[0][0]',                \n",
      "                                                                  'dense_32[0][0]']               \n",
      "                                                                                                  \n",
      " main_output (Dense)            (None, 10, 1)        21          ['concatenate_3[0][0]']          \n",
      "                                                                                                  \n",
      " sum_output (Dense)             (None, 10, 1)        11          ['dense_32[0][0]']               \n",
      "                                                                                                  \n",
      "==================================================================================================\n",
      "Total params: 3,942\n",
      "Trainable params: 3,942\n",
      "Non-trainable params: 0\n",
      "__________________________________________________________________________________________________\n"
     ]
    }
   ],
   "source": [
    "input_1 = keras.Input(shape=(10, 10), name='input_1')\n",
    "input_2 = keras.Input(shape=(10, 28), name='input_2')\n",
    "hidden1 = layers.Dense(100, activation='relu')(input_2)\n",
    "hidden2 = layers.Dense(10, activation='relu')(hidden1)\n",
    "concat = layers.Concatenate()([input_1, hidden2])\n",
    "output = layers.Dense(1, activation='sigmoid', name='main_output')(concat)\n",
    "sub_out = layers.Dense(1, name='sum_output')(hidden2)\n",
    "\n",
    "model = models.Model(inputs=[input_1, input_2], outputs=[output, sub_out])\n",
    "model.summary()"
   ]
  },
  {
   "cell_type": "code",
   "execution_count": 35,
   "id": "58970e46-70d3-402d-9766-d478e9c38923",
   "metadata": {},
   "outputs": [
    {
     "name": "stdout",
     "output_type": "stream",
     "text": [
      "You must install pydot (`pip install pydot`) and install graphviz (see instructions at https://graphviz.gitlab.io/download/) for plot_model to work.\n"
     ]
    }
   ],
   "source": [
    "utils.plot_model(model)"
   ]
  },
  {
   "cell_type": "markdown",
   "id": "810a4f66-a392-4c12-a9d4-fac6469de6e9",
   "metadata": {},
   "source": [
    "## 2-3. Subclassing API"
   ]
  },
  {
   "cell_type": "code",
   "execution_count": 36,
   "id": "bf046d75-e6ff-4385-a94e-bc1cc3038758",
   "metadata": {},
   "outputs": [],
   "source": [
    "# Subclassing API의 예시\n",
    "class MyModel(models.Model):\n",
    "  def __init__(self, units=30, activation='relu', **kwargs):\n",
    "    super(MyModel, self).__init__(**kwargs)\n",
    "    self.dense_layer1 = layers.Dense(300, activation=activation)\n",
    "    self.dense_layer2 = layers.Dense(100, activation=activation)\n",
    "    self.dense_layer3 = layers.Dense(units, activation=activation)\n",
    "    self.output_layer = layers.Dense(10, activation='softmax')\n",
    "\n",
    "  def call(self, inputs):\n",
    "    x = self.dense_layer1(inputs)\n",
    "    x = self.dense_layer2(x)\n",
    "    x = self.dense_layer3(x)\n",
    "    x = self.output_layer(x)\n",
    "    return x"
   ]
  },
  {
   "cell_type": "markdown",
   "id": "d7f9dd91-5991-42ad-aa9e-cc3baaa99114",
   "metadata": {},
   "source": [
    "# QUIZZ"
   ]
  },
  {
   "cell_type": "markdown",
   "id": "cd78f243-7b1e-4e9d-a28a-9d952ae649b1",
   "metadata": {},
   "source": [
    "## 1. Sequential API"
   ]
  },
  {
   "cell_type": "code",
   "execution_count": 37,
   "id": "dbe16bf2-c0e1-44cf-8935-1ac2477f8fdc",
   "metadata": {},
   "outputs": [
    {
     "name": "stdout",
     "output_type": "stream",
     "text": [
      "Model: \"sequential_4\"\n",
      "_________________________________________________________________\n",
      " Layer (type)                Output Shape              Param #   \n",
      "=================================================================\n",
      " flatten_4 (Flatten)         (None, 30000)             0         \n",
      "                                                                 \n",
      " dense_33 (Dense)            (None, 400)               12000400  \n",
      "                                                                 \n",
      " dense_34 (Dense)            (None, 200)               80200     \n",
      "                                                                 \n",
      " dense_35 (Dense)            (None, 100)               20100     \n",
      "                                                                 \n",
      "=================================================================\n",
      "Total params: 12,100,700\n",
      "Trainable params: 12,100,700\n",
      "Non-trainable params: 0\n",
      "_________________________________________________________________\n"
     ]
    }
   ],
   "source": [
    "model = models.Sequential()\n",
    "\n",
    "# (100, 100, 3) 형태의 데이터를 받는 Input 레이어를 쌓으세요.\n",
    "model = models.Sequential()\n",
    "model.add(layers.Input(shape=(100, 100, 3)))\n",
    "\n",
    "# Flatten 레이어를 쌓으세요.\n",
    "model.add(layers.Flatten())\n",
    "\n",
    "# Unit의 수는 400, 활성화함수는 ReLU를 사용하는 Dense 레이어를 쌓으세요.\n",
    "model.add(layers.Dense(400, activation='relu'))\n",
    "\n",
    "# Unit의 수는 200, 활성화함수는 ReLU를 사용하는 Dense 레이어를 쌓으세요.\n",
    "model.add(layers.Dense(200, activation='relu'))\n",
    "\n",
    "# Unit의 수는 100, 활성화함수는 Softmax를 사용하는 Dense 레이어를 쌓으세요.\n",
    "model.add(layers.Dense(100, activation='softmax'))\n",
    "\n",
    "model.summary()"
   ]
  },
  {
   "cell_type": "markdown",
   "id": "6628980f-50c5-4c11-8c00-cd2e5434cdb8",
   "metadata": {},
   "source": [
    "## 2. Functional API"
   ]
  },
  {
   "cell_type": "code",
   "execution_count": 38,
   "id": "555ef195-28f2-4512-92c4-311b8d1d6940",
   "metadata": {},
   "outputs": [
    {
     "name": "stdout",
     "output_type": "stream",
     "text": [
      "Model: \"model_9\"\n",
      "_________________________________________________________________\n",
      " Layer (type)                Output Shape              Param #   \n",
      "=================================================================\n",
      " input_13 (InputLayer)       [(None, 100, 100, 3)]     0         \n",
      "                                                                 \n",
      " flatten_5 (Flatten)         (None, 30000)             0         \n",
      "                                                                 \n",
      " dense_36 (Dense)            (None, 400)               12000400  \n",
      "                                                                 \n",
      " dense_37 (Dense)            (None, 200)               80200     \n",
      "                                                                 \n",
      " dense_38 (Dense)            (None, 100)               20100     \n",
      "                                                                 \n",
      "=================================================================\n",
      "Total params: 12,100,700\n",
      "Trainable params: 12,100,700\n",
      "Non-trainable params: 0\n",
      "_________________________________________________________________\n"
     ]
    }
   ],
   "source": [
    "# (100, 100, 3) 형태의 데이터를 받는 Input 레이어를 쌓으세요\n",
    "inputs = layers.Input(shape=(100, 100, 3))\n",
    "\n",
    "# Flatten 레이어를 쌓으세요.\n",
    "x = layers.Flatten()(inputs)\n",
    "\n",
    "# Unit의 수는 400, 활성화함수는 ReLU를 사용하는 Dense 레이어를 쌓으세요.\n",
    "x = layers.Dense(400, activation='relu')(x)\n",
    "\n",
    "# Unit의 수는 200, 활성화함수는 ReLU를 사용하는 Dense 레이어를 쌓으세요.\n",
    "x = layers.Dense(200, activation='relu')(x)\n",
    "\n",
    "# Unit의 수는 100, 활성화함수는 Softmax를 사용하는 Dense 레이어를 쌓으세요.\n",
    "x = layers.Dense(100, activation='softmax')(x)\n",
    "\n",
    "model = models.Model(inputs = inputs, outputs = x)\n",
    "model.summary()"
   ]
  },
  {
   "cell_type": "markdown",
   "id": "40be3cad-827a-4634-99c9-53364a71db0b",
   "metadata": {},
   "source": [
    "## 3. Subclassing API"
   ]
  },
  {
   "cell_type": "code",
   "execution_count": 39,
   "id": "7cc2b2b5-ed82-4256-9a97-f57492540ac0",
   "metadata": {},
   "outputs": [
    {
     "name": "stdout",
     "output_type": "stream",
     "text": [
      "Model: \"your_model\"\n",
      "_________________________________________________________________\n",
      " Layer (type)                Output Shape              Param #   \n",
      "=================================================================\n",
      " flatten_6 (Flatten)         multiple                  0         \n",
      "                                                                 \n",
      " dense_39 (Dense)            multiple                  12000400  \n",
      "                                                                 \n",
      " dense_40 (Dense)            multiple                  80200     \n",
      "                                                                 \n",
      " dense_41 (Dense)            multiple                  20100     \n",
      "                                                                 \n",
      "=================================================================\n",
      "Total params: 12,100,700\n",
      "Trainable params: 12,100,700\n",
      "Non-trainable params: 0\n",
      "_________________________________________________________________\n"
     ]
    }
   ],
   "source": [
    "class YourModel(models.Model):\n",
    "  def __init__(self, **kwargs):\n",
    "    super(YourModel, self).__init__(**kwargs)\n",
    "    # Flatten 레이어를 쌓으세요.\n",
    "    self.flat_layer = layers.Flatten()\n",
    "    # Unit의 수는 400, 활성화함수는 ReLU를 사용하는 Dense 레이어를 쌓으세요.\n",
    "    self.dense_layer1 = layers.Dense(400, activation='relu')\n",
    "    # Unit의 수는 200, 활성화함수는 ReLU를 사용하는 Dense 레이어를 쌓으세요.\n",
    "    self.dense_layer2 = layers.Dense(200, activation='relu')\n",
    "    # Unit의 수는 100, 활성화함수는 Softmax를 사용하는 Dense 레이어를 쌓으세요.\n",
    "    self.output_layer = layers.Dense(100, activation='softmax')\n",
    "\n",
    "  def call(self, inputs):\n",
    "    # Flatten 레이어를 통과한 뒤 Dense 레이어를 400 -> 200 -> 100 순으로 통과하도록 쌓으세요.\n",
    "    x = self.flat_layer(inputs)\n",
    "    x = self.dense_layer1(x)\n",
    "    x = self.dense_layer2(x)\n",
    "    x = self.output_layer(x)\n",
    "    return x\n",
    "\n",
    "# (100, 100, 3) 형태를 가진 임의의 텐서를 생성해줍니다.\n",
    "data = tf.random.normal([100, 100, 3])\n",
    "# 데이터는 일반적으로 batch 단위로 들어가기 때문에 batch 차원을 추가해주겠습니다.\n",
    "data = tf.reshape(data, (-1, 100, 100, 3))\n",
    "model = YourModel()\n",
    "model(data)\n",
    "\n",
    "model.summary()"
   ]
  },
  {
   "cell_type": "code",
   "execution_count": 40,
   "id": "1fec8b78-8bfa-4b56-9bda-9482cdfa5aa4",
   "metadata": {},
   "outputs": [
    {
     "name": "stdout",
     "output_type": "stream",
     "text": [
      "Model: \"your_model_1\"\n",
      "_________________________________________________________________\n",
      " Layer (type)                Output Shape              Param #   \n",
      "=================================================================\n",
      " dense_42 (Dense)            multiple                  4100      \n",
      "                                                                 \n",
      " dense_43 (Dense)            multiple                  1100      \n",
      "                                                                 \n",
      " concatenate_4 (Concatenate)  multiple                 0         \n",
      "                                                                 \n",
      " dense_44 (Dense)            multiple                  8040      \n",
      "                                                                 \n",
      " dense_45 (Dense)            multiple                  201       \n",
      "                                                                 \n",
      " dense_46 (Dense)            multiple                  410       \n",
      "                                                                 \n",
      "=================================================================\n",
      "Total params: 13,851\n",
      "Trainable params: 13,851\n",
      "Non-trainable params: 0\n",
      "_________________________________________________________________\n"
     ]
    }
   ],
   "source": [
    "class YourModel(models.Model):\n",
    "  def __init__(self, **kwargs):\n",
    "    super(YourModel, self).__init__(**kwargs)\n",
    "    self.dense_1 = layers.Dense(100, activation='relu')\n",
    "    self.dense_2 = layers.Dense(100, activation='relu')\n",
    "    self.concat = layers.Concatenate(axis=-1)\n",
    "    self.dense_3 = layers.Dense(40, activation='relu')\n",
    "    self.dense_4 = layers.Dense(1, activation='relu')\n",
    "    self.dense_5 = layers.Dense(10, activation='softmax')\n",
    "\n",
    "  def call(self, inputs):\n",
    "    input_1, input_2 = inputs  # 튜플 또는 리스트로 들어옴\n",
    "    a = self.dense_1(input_1)\n",
    "    b = self.dense_2(input_2)\n",
    "    concat = self.concat([a, b])\n",
    "    c = self.dense_3(concat)\n",
    "    out_1 = self.dense_4(concat)\n",
    "    out_2 = self.dense_5(c)\n",
    "    \n",
    "    return out_1, out_2\n",
    "\n",
    "model = YourModel()\n",
    "x1 = tf.random.normal((1, 40))\n",
    "x2 = tf.random.normal((1, 10))\n",
    "\n",
    "model((x1, x2))  # 모델 빌드\n",
    "\n",
    "model.summary()"
   ]
  }
 ],
 "metadata": {
  "kernelspec": {
   "display_name": "Python 3 (ipykernel)",
   "language": "python",
   "name": "python3"
  },
  "language_info": {
   "codemirror_mode": {
    "name": "ipython",
    "version": 3
   },
   "file_extension": ".py",
   "mimetype": "text/x-python",
   "name": "python",
   "nbconvert_exporter": "python",
   "pygments_lexer": "ipython3",
   "version": "3.10.18"
  }
 },
 "nbformat": 4,
 "nbformat_minor": 5
}
