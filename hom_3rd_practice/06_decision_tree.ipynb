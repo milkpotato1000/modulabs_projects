{
 "cells": [
  {
   "cell_type": "markdown",
   "id": "4ffd1140-dd21-4767-9bac-b27132d40b6f",
   "metadata": {},
   "source": [
    "# 07. Moon 데이터셋에 결정트리 훈련, 튜닝"
   ]
  },
  {
   "cell_type": "code",
   "execution_count": 92,
   "id": "af23b285-26ac-4e83-9cb2-88fd2a619f3e",
   "metadata": {},
   "outputs": [],
   "source": [
    "from sklearn.datasets import make_moons\n",
    "from sklearn.tree import DecisionTreeClassifier\n",
    "from sklearn.model_selection import RandomizedSearchCV, GridSearchCV, train_test_split\n",
    "import numpy as np"
   ]
  },
  {
   "cell_type": "code",
   "execution_count": 93,
   "id": "d4b7b389-f53c-4e20-a470-76e87f3134e2",
   "metadata": {},
   "outputs": [],
   "source": [
    "X, y = make_moons(n_samples=1000, noise=0.4, random_state=42)\n",
    "X_train, X_test, y_train, y_test = train_test_split(X, y, test_size=0.2, random_state=42)"
   ]
  },
  {
   "cell_type": "code",
   "execution_count": 109,
   "id": "e6fa0b36-6b35-4bce-b6ab-eff520f717a7",
   "metadata": {},
   "outputs": [],
   "source": [
    "grid_space = {\n",
    "    'max_leaf_nodes': [None, 2, 5, 10, 20, 50, 100],\n",
    "}\n",
    "\n",
    "rand_space = {\n",
    "    'max_leaf_nodes': np.arange(2, 201),\n",
    "}"
   ]
  },
  {
   "cell_type": "code",
   "execution_count": 110,
   "id": "bfd61878-2a59-4734-8877-b9e2a8b69911",
   "metadata": {},
   "outputs": [],
   "source": [
    "dt_clf = DecisionTreeClassifier(random_state=42)\n",
    "grid_search = GridSearchCV(\n",
    "    estimator=dt_clf, \n",
    "    param_grid=grid_space, \n",
    "    cv=5)"
   ]
  },
  {
   "cell_type": "code",
   "execution_count": 111,
   "id": "5d1e7ac3-4ef9-4073-864d-51de39bfd7db",
   "metadata": {},
   "outputs": [
    {
     "name": "stdout",
     "output_type": "stream",
     "text": [
      "Best max_leaf_nodes: {'max_leaf_nodes': 5}\n",
      "Best cross-validation score: 0.8487499999999999\n"
     ]
    }
   ],
   "source": [
    "# 학습\n",
    "grid_search.fit(X_train, y_train)\n",
    "\n",
    "# 결과 확인\n",
    "print(f'Best max_leaf_nodes: {grid_search.best_params_}')\n",
    "print(f'Best cross-validation score: {grid_search.best_score_}')"
   ]
  },
  {
   "cell_type": "code",
   "execution_count": 97,
   "id": "f6410cac-6f83-42af-8564-e21ce2ba8c6f",
   "metadata": {},
   "outputs": [
    {
     "name": "stdout",
     "output_type": "stream",
     "text": [
      "Test set score: 0.855\n"
     ]
    }
   ],
   "source": [
    "best_dt_clf = grid_search.best_estimator_\n",
    "test_score = best_dt_clf.score(X_test, y_test)\n",
    "print(f'Test set score: {test_score}')"
   ]
  },
  {
   "cell_type": "code",
   "execution_count": 98,
   "id": "41057a3e-848e-4440-8f56-5ed57407f89e",
   "metadata": {},
   "outputs": [],
   "source": [
    "rand_search = RandomizedSearchCV(\n",
    "    estimator=dt_clf,\n",
    "    param_distributions=rand_space,\n",
    "    cv=5,\n",
    "    n_iter=100,        # 랜덤하게 50개 후보 샘플링\n",
    "    random_state=42,\n",
    ")"
   ]
  },
  {
   "cell_type": "code",
   "execution_count": 99,
   "id": "b6372f8e-bfb9-4b13-8838-fad04850d1c8",
   "metadata": {},
   "outputs": [
    {
     "name": "stdout",
     "output_type": "stream",
     "text": [
      "Best max_leaf_nodes: {'max_leaf_nodes': np.int64(6)}\n",
      "Best cross-validation score: 0.85\n"
     ]
    }
   ],
   "source": [
    "rand_search.fit(X_train, y_train)\n",
    "\n",
    "# 결과 확인\n",
    "print(f'Best max_leaf_nodes: {rand_search.best_params_}')\n",
    "print(f'Best cross-validation score: {rand_search.best_score_}')"
   ]
  },
  {
   "cell_type": "code",
   "execution_count": 100,
   "id": "8c2b3bf1-f3ca-4be0-9f9d-da81227a5286",
   "metadata": {},
   "outputs": [
    {
     "name": "stdout",
     "output_type": "stream",
     "text": [
      "Test set score: 0.855\n"
     ]
    }
   ],
   "source": [
    "best_dt_clf = rand_search.best_estimator_\n",
    "test_score = rand_search.score(X_test, y_test)\n",
    "print(f'Test set score: {test_score}')"
   ]
  },
  {
   "cell_type": "markdown",
   "id": "0cd775f2-b5da-4248-b07c-4d800353c153",
   "metadata": {},
   "source": [
    "# 08. 단계별 렌덤 포레스트 만들기"
   ]
  },
  {
   "cell_type": "code",
   "execution_count": 103,
   "id": "bf0c1430-f8fe-4d21-83a7-95ddc58f1e4d",
   "metadata": {},
   "outputs": [],
   "source": [
    "from sklearn.model_selection import ShuffleSplit\n",
    "\n",
    "n_subsets = 1000     # 생성할 서브셋 개수\n",
    "subset_size = 100    # 각 서브셋 샘플 수\n",
    "\n",
    "\n",
    "# ShuffleSplit 설정\n",
    "ss = ShuffleSplit(\n",
    "    n_splits=n_subsets,       # 생성할 subset 개수\n",
    "    train_size=subset_size,   # 각 subset 샘플 수\n",
    "    random_state=42,\n",
    ")\n",
    "\n",
    "X_subsets = []\n",
    "y_subsets = []\n",
    "\n",
    "for train_idx, _ in ss.split(X_train):\n",
    "    X_subsets.append(X_train[train_idx])\n",
    "    y_subsets.append(y_train[train_idx])"
   ]
  },
  {
   "cell_type": "code",
   "execution_count": 114,
   "id": "0062d92f-18ff-40c3-8bb5-249c123abd62",
   "metadata": {},
   "outputs": [
    {
     "name": "stdout",
     "output_type": "stream",
     "text": [
      "Mean test accuracy: 0.8165\n"
     ]
    }
   ],
   "source": [
    "from sklearn.metrics import accuracy_score\n",
    "\n",
    "# grid_search에서 찾은 최적 max_leaf_nodes\n",
    "best_max_leaf_nodes = grid_search.best_params_['max_leaf_nodes']\n",
    "test_scores = []\n",
    "\n",
    "for X_sub, y_sub in zip(X_subsets, y_subsets):\n",
    "    dt_clf = DecisionTreeClassifier(max_leaf_nodes=best_max_leaf_nodes, random_state=42)\n",
    "    dt_clf.fit(X_sub, y_sub)\n",
    "    \n",
    "    y_pred = dt_clf.predict(X_test)\n",
    "    test_scores.append(accuracy_score(y_test, y_pred))\n",
    "\n",
    "test_scores = np.array(test_scores)\n",
    "print(f'Mean test accuracy: {test_scores.mean():.4f}')"
   ]
  },
  {
   "cell_type": "code",
   "execution_count": 119,
   "id": "01222b5e-5858-4981-bdd3-531c5ba0c4d3",
   "metadata": {},
   "outputs": [],
   "source": [
    "from scipy.stats import mode\n",
    "\n",
    "# grid_search에서 찾은 최적 max_leaf_nodes\n",
    "best_max_leaf_nodes = grid_search.best_params_['max_leaf_nodes']\n",
    "\n",
    "# 각 트리의 테스트 예측을 저장할 배열\n",
    "all_predictions = []\n",
    "\n",
    "for X_sub, y_sub in zip(X_subsets, y_subsets):\n",
    "    dt_clf = DecisionTreeClassifier(max_leaf_nodes=best_max_leaf_nodes, random_state=42)\n",
    "    dt_clf.fit(X_sub, y_sub)\n",
    "    \n",
    "    y_pred = dt_clf.predict(X_test)\n",
    "    all_predictions.append(y_pred)\n",
    "\n",
    "# (n_trees, n_samples) 배열로 변환\n",
    "all_predictions = np.array(all_predictions)\n",
    "\n",
    "# 각 테스트 샘플마다 다수결 예측\n",
    "y_pred_majority, n_votes = mode(all_predictions, axis=0, keepdims=False)"
   ]
  },
  {
   "cell_type": "code",
   "execution_count": 118,
   "id": "485e0ee5-a9f1-430d-afe5-ae5be2cb9d2b",
   "metadata": {},
   "outputs": [
    {
     "data": {
      "text/plain": [
       "array([[1, 1, 1, ..., 1, 1, 0],\n",
       "       [1, 1, 1, ..., 0, 0, 0],\n",
       "       [1, 1, 1, ..., 0, 0, 0],\n",
       "       ...,\n",
       "       [1, 1, 1, ..., 0, 1, 0],\n",
       "       [1, 0, 1, ..., 0, 0, 0],\n",
       "       [1, 1, 1, ..., 0, 1, 0]], shape=(1000, 200))"
      ]
     },
     "execution_count": 118,
     "metadata": {},
     "output_type": "execute_result"
    }
   ],
   "source": [
    "all_predictions"
   ]
  },
  {
   "cell_type": "code",
   "execution_count": 123,
   "id": "31309db9-d5c3-477e-99e3-34f063cd5e3f",
   "metadata": {},
   "outputs": [
    {
     "data": {
      "text/plain": [
       "200"
      ]
     },
     "execution_count": 123,
     "metadata": {},
     "output_type": "execute_result"
    }
   ],
   "source": [
    "len(y_pred_majority)"
   ]
  },
  {
   "cell_type": "code",
   "execution_count": 122,
   "id": "82727d9b-9aa4-4da4-bbcc-8f4fb24ad42c",
   "metadata": {},
   "outputs": [
    {
     "data": {
      "text/plain": [
       "200"
      ]
     },
     "execution_count": 122,
     "metadata": {},
     "output_type": "execute_result"
    }
   ],
   "source": [
    "len(n_votes)"
   ]
  }
 ],
 "metadata": {
  "kernelspec": {
   "display_name": "Python 3 (ipykernel)",
   "language": "python",
   "name": "python3"
  },
  "language_info": {
   "codemirror_mode": {
    "name": "ipython",
    "version": 3
   },
   "file_extension": ".py",
   "mimetype": "text/x-python",
   "name": "python",
   "nbconvert_exporter": "python",
   "pygments_lexer": "ipython3",
   "version": "3.13.5"
  }
 },
 "nbformat": 4,
 "nbformat_minor": 5
}
