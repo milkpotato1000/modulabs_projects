{
 "cells": [
  {
   "cell_type": "code",
   "execution_count": 2,
   "id": "6d46175d",
   "metadata": {},
   "outputs": [],
   "source": [
    "import pandas as pd"
   ]
  },
  {
   "cell_type": "code",
   "execution_count": 6,
   "id": "19c58ea9",
   "metadata": {},
   "outputs": [],
   "source": [
    "salary_1 = pd.read_csv('data/salary_1.csv')"
   ]
  },
  {
   "cell_type": "code",
   "execution_count": 8,
   "id": "2f5e7be6",
   "metadata": {},
   "outputs": [
    {
     "data": {
      "text/html": [
       "<div>\n",
       "<style scoped>\n",
       "    .dataframe tbody tr th:only-of-type {\n",
       "        vertical-align: middle;\n",
       "    }\n",
       "\n",
       "    .dataframe tbody tr th {\n",
       "        vertical-align: top;\n",
       "    }\n",
       "\n",
       "    .dataframe thead th {\n",
       "        text-align: right;\n",
       "    }\n",
       "</style>\n",
       "<table border=\"1\" class=\"dataframe\">\n",
       "  <thead>\n",
       "    <tr style=\"text-align: right;\">\n",
       "      <th></th>\n",
       "      <th>Age</th>\n",
       "      <th>Gender</th>\n",
       "      <th>Education Level</th>\n",
       "      <th>Job Title</th>\n",
       "      <th>Years of Experience</th>\n",
       "      <th>Salary</th>\n",
       "      <th>Country</th>\n",
       "      <th>Race</th>\n",
       "      <th>Senior</th>\n",
       "    </tr>\n",
       "  </thead>\n",
       "  <tbody>\n",
       "    <tr>\n",
       "      <th>0</th>\n",
       "      <td>32.0</td>\n",
       "      <td>Male</td>\n",
       "      <td>1</td>\n",
       "      <td>Software Engineer</td>\n",
       "      <td>5.0</td>\n",
       "      <td>90000</td>\n",
       "      <td>UK</td>\n",
       "      <td>White</td>\n",
       "      <td>0</td>\n",
       "    </tr>\n",
       "    <tr>\n",
       "      <th>1</th>\n",
       "      <td>28.0</td>\n",
       "      <td>Female</td>\n",
       "      <td>2</td>\n",
       "      <td>Data Analyst</td>\n",
       "      <td>3.0</td>\n",
       "      <td>65000</td>\n",
       "      <td>USA</td>\n",
       "      <td>Hispanic</td>\n",
       "      <td>0</td>\n",
       "    </tr>\n",
       "    <tr>\n",
       "      <th>2</th>\n",
       "      <td>45.0</td>\n",
       "      <td>Male</td>\n",
       "      <td>3</td>\n",
       "      <td>Manager</td>\n",
       "      <td>15.0</td>\n",
       "      <td>150000</td>\n",
       "      <td>Canada</td>\n",
       "      <td>White</td>\n",
       "      <td>1</td>\n",
       "    </tr>\n",
       "    <tr>\n",
       "      <th>3</th>\n",
       "      <td>36.0</td>\n",
       "      <td>Female</td>\n",
       "      <td>1</td>\n",
       "      <td>Sales Associate</td>\n",
       "      <td>7.0</td>\n",
       "      <td>60000</td>\n",
       "      <td>USA</td>\n",
       "      <td>Hispanic</td>\n",
       "      <td>0</td>\n",
       "    </tr>\n",
       "    <tr>\n",
       "      <th>4</th>\n",
       "      <td>52.0</td>\n",
       "      <td>Male</td>\n",
       "      <td>2</td>\n",
       "      <td>Director</td>\n",
       "      <td>20.0</td>\n",
       "      <td>200000</td>\n",
       "      <td>USA</td>\n",
       "      <td>Asian</td>\n",
       "      <td>0</td>\n",
       "    </tr>\n",
       "  </tbody>\n",
       "</table>\n",
       "</div>"
      ],
      "text/plain": [
       "    Age  Gender  Education Level          Job Title  Years of Experience  \\\n",
       "0  32.0    Male                1  Software Engineer                  5.0   \n",
       "1  28.0  Female                2       Data Analyst                  3.0   \n",
       "2  45.0    Male                3            Manager                 15.0   \n",
       "3  36.0  Female                1    Sales Associate                  7.0   \n",
       "4  52.0    Male                2           Director                 20.0   \n",
       "\n",
       "   Salary Country      Race  Senior  \n",
       "0   90000      UK     White       0  \n",
       "1   65000     USA  Hispanic       0  \n",
       "2  150000  Canada     White       1  \n",
       "3   60000     USA  Hispanic       0  \n",
       "4  200000     USA     Asian       0  "
      ]
     },
     "execution_count": 8,
     "metadata": {},
     "output_type": "execute_result"
    }
   ],
   "source": [
    "salary_1.head()"
   ]
  },
  {
   "cell_type": "code",
   "execution_count": 13,
   "id": "f9b277d3",
   "metadata": {},
   "outputs": [
    {
     "data": {
      "text/plain": [
       "(3999, 9)"
      ]
     },
     "execution_count": 13,
     "metadata": {},
     "output_type": "execute_result"
    }
   ],
   "source": [
    "salary_1.shape"
   ]
  },
  {
   "cell_type": "code",
   "execution_count": 7,
   "id": "7de93fa5",
   "metadata": {},
   "outputs": [],
   "source": [
    "salary_2 = pd.read_csv('data/salary_2.csv')"
   ]
  },
  {
   "cell_type": "code",
   "execution_count": 9,
   "id": "6b9036fc",
   "metadata": {},
   "outputs": [
    {
     "data": {
      "text/html": [
       "<div>\n",
       "<style scoped>\n",
       "    .dataframe tbody tr th:only-of-type {\n",
       "        vertical-align: middle;\n",
       "    }\n",
       "\n",
       "    .dataframe tbody tr th {\n",
       "        vertical-align: top;\n",
       "    }\n",
       "\n",
       "    .dataframe thead th {\n",
       "        text-align: right;\n",
       "    }\n",
       "</style>\n",
       "<table border=\"1\" class=\"dataframe\">\n",
       "  <thead>\n",
       "    <tr style=\"text-align: right;\">\n",
       "      <th></th>\n",
       "      <th>Age</th>\n",
       "      <th>Gender</th>\n",
       "      <th>Education Level</th>\n",
       "      <th>Job Title</th>\n",
       "      <th>Years of Experience</th>\n",
       "      <th>Salary</th>\n",
       "      <th>Country</th>\n",
       "      <th>Race</th>\n",
       "      <th>Senior</th>\n",
       "    </tr>\n",
       "  </thead>\n",
       "  <tbody>\n",
       "    <tr>\n",
       "      <th>0</th>\n",
       "      <td>29</td>\n",
       "      <td>Female</td>\n",
       "      <td>1</td>\n",
       "      <td>Human Resources Coordinator</td>\n",
       "      <td>2</td>\n",
       "      <td>45000</td>\n",
       "      <td>China</td>\n",
       "      <td>Chinese</td>\n",
       "      <td>0</td>\n",
       "    </tr>\n",
       "    <tr>\n",
       "      <th>1</th>\n",
       "      <td>23</td>\n",
       "      <td>Male</td>\n",
       "      <td>0</td>\n",
       "      <td>Sales Associate</td>\n",
       "      <td>1</td>\n",
       "      <td>25000</td>\n",
       "      <td>USA</td>\n",
       "      <td>Asian</td>\n",
       "      <td>0</td>\n",
       "    </tr>\n",
       "    <tr>\n",
       "      <th>2</th>\n",
       "      <td>32</td>\n",
       "      <td>Female</td>\n",
       "      <td>2</td>\n",
       "      <td>Software Developer</td>\n",
       "      <td>7</td>\n",
       "      <td>90000</td>\n",
       "      <td>USA</td>\n",
       "      <td>African American</td>\n",
       "      <td>0</td>\n",
       "    </tr>\n",
       "    <tr>\n",
       "      <th>3</th>\n",
       "      <td>44</td>\n",
       "      <td>Male</td>\n",
       "      <td>1</td>\n",
       "      <td>Operations Manager</td>\n",
       "      <td>18</td>\n",
       "      <td>170000</td>\n",
       "      <td>USA</td>\n",
       "      <td>Hispanic</td>\n",
       "      <td>0</td>\n",
       "    </tr>\n",
       "    <tr>\n",
       "      <th>4</th>\n",
       "      <td>26</td>\n",
       "      <td>Female</td>\n",
       "      <td>1</td>\n",
       "      <td>Marketing Coordinator</td>\n",
       "      <td>2</td>\n",
       "      <td>40000</td>\n",
       "      <td>Canada</td>\n",
       "      <td>Asian</td>\n",
       "      <td>0</td>\n",
       "    </tr>\n",
       "  </tbody>\n",
       "</table>\n",
       "</div>"
      ],
      "text/plain": [
       "   Age  Gender  Education Level                    Job Title  \\\n",
       "0   29  Female                1  Human Resources Coordinator   \n",
       "1   23    Male                0              Sales Associate   \n",
       "2   32  Female                2           Software Developer   \n",
       "3   44    Male                1           Operations Manager   \n",
       "4   26  Female                1        Marketing Coordinator   \n",
       "\n",
       "   Years of Experience  Salary Country              Race  Senior  \n",
       "0                    2   45000   China           Chinese       0  \n",
       "1                    1   25000     USA             Asian       0  \n",
       "2                    7   90000     USA  African American       0  \n",
       "3                   18  170000     USA          Hispanic       0  \n",
       "4                    2   40000  Canada             Asian       0  "
      ]
     },
     "execution_count": 9,
     "metadata": {},
     "output_type": "execute_result"
    }
   ],
   "source": [
    "salary_2.head()"
   ]
  },
  {
   "cell_type": "code",
   "execution_count": 14,
   "id": "85efced6",
   "metadata": {},
   "outputs": [
    {
     "data": {
      "text/plain": [
       "(2685, 9)"
      ]
     },
     "execution_count": 14,
     "metadata": {},
     "output_type": "execute_result"
    }
   ],
   "source": [
    "salary_2.shape"
   ]
  },
  {
   "cell_type": "code",
   "execution_count": 10,
   "id": "5b191fc0",
   "metadata": {},
   "outputs": [],
   "source": [
    "salary_df = pd.concat([salary_1, salary_2], axis=0, ignore_index=True)"
   ]
  },
  {
   "cell_type": "code",
   "execution_count": 17,
   "id": "12ffdfb3",
   "metadata": {},
   "outputs": [],
   "source": [
    "salary_df = salary_df.reset_index(drop=True)"
   ]
  },
  {
   "cell_type": "code",
   "execution_count": 18,
   "id": "27455847",
   "metadata": {},
   "outputs": [
    {
     "data": {
      "text/plain": [
       "Age                    0.000598\n",
       "Gender                 0.000000\n",
       "Education Level        0.000000\n",
       "Job Title              0.000000\n",
       "Years of Experience    0.000000\n",
       "Salary                 0.000000\n",
       "Country                0.000000\n",
       "Race                   0.000000\n",
       "Senior                 0.000000\n",
       "dtype: float64"
      ]
     },
     "execution_count": 18,
     "metadata": {},
     "output_type": "execute_result"
    }
   ],
   "source": [
    "salary_df.isna().mean()"
   ]
  },
  {
   "cell_type": "code",
   "execution_count": 20,
   "id": "f6e4a67f",
   "metadata": {},
   "outputs": [],
   "source": [
    "salary_df.dropna(inplace=True)"
   ]
  },
  {
   "cell_type": "code",
   "execution_count": 21,
   "id": "c2f6e8f1",
   "metadata": {},
   "outputs": [
    {
     "data": {
      "text/plain": [
       "(6680, 9)"
      ]
     },
     "execution_count": 21,
     "metadata": {},
     "output_type": "execute_result"
    }
   ],
   "source": [
    "salary_df.shape"
   ]
  },
  {
   "cell_type": "code",
   "execution_count": 28,
   "id": "a0f9d770",
   "metadata": {},
   "outputs": [],
   "source": [
    "gender_salary = salary_df.groupby(['Gender'])[['Salary']].mean()"
   ]
  },
  {
   "cell_type": "code",
   "execution_count": 30,
   "id": "8cae6c1c",
   "metadata": {},
   "outputs": [
    {
     "data": {
      "text/html": [
       "<div>\n",
       "<style scoped>\n",
       "    .dataframe tbody tr th:only-of-type {\n",
       "        vertical-align: middle;\n",
       "    }\n",
       "\n",
       "    .dataframe tbody tr th {\n",
       "        vertical-align: top;\n",
       "    }\n",
       "\n",
       "    .dataframe thead th {\n",
       "        text-align: right;\n",
       "    }\n",
       "</style>\n",
       "<table border=\"1\" class=\"dataframe\">\n",
       "  <thead>\n",
       "    <tr style=\"text-align: right;\">\n",
       "      <th></th>\n",
       "      <th>Gender</th>\n",
       "      <th>Salary</th>\n",
       "    </tr>\n",
       "  </thead>\n",
       "  <tbody>\n",
       "    <tr>\n",
       "      <th>0</th>\n",
       "      <td>Female</td>\n",
       "      <td>107888.555814</td>\n",
       "    </tr>\n",
       "    <tr>\n",
       "      <th>1</th>\n",
       "      <td>Male</td>\n",
       "      <td>121393.353134</td>\n",
       "    </tr>\n",
       "  </tbody>\n",
       "</table>\n",
       "</div>"
      ],
      "text/plain": [
       "   Gender         Salary\n",
       "0  Female  107888.555814\n",
       "1    Male  121393.353134"
      ]
     },
     "execution_count": 30,
     "metadata": {},
     "output_type": "execute_result"
    }
   ],
   "source": [
    "gender_salary.reset_index(inplace=True)\n",
    "gender_salary"
   ]
  },
  {
   "cell_type": "code",
   "execution_count": 34,
   "id": "745af9bf",
   "metadata": {},
   "outputs": [],
   "source": [
    "salary_df = salary_df.merge(gender_salary, on='Gender', how='left')"
   ]
  },
  {
   "cell_type": "code",
   "execution_count": 37,
   "id": "f337e5eb",
   "metadata": {},
   "outputs": [],
   "source": [
    "salary_df = salary_df.rename(columns={'Salary_x': 'Salary', 'Salary_y': 'Gender_salary'})"
   ]
  },
  {
   "cell_type": "code",
   "execution_count": 40,
   "id": "fd911c8e",
   "metadata": {},
   "outputs": [],
   "source": [
    "pivot_table = pd.pivot_table(\n",
    "    salary_df, \n",
    "    index='Country', \n",
    "    columns='Gender', \n",
    "    values='Years of Experience')"
   ]
  },
  {
   "cell_type": "code",
   "execution_count": 41,
   "id": "8d58c94c",
   "metadata": {},
   "outputs": [
    {
     "data": {
      "text/html": [
       "<div>\n",
       "<style scoped>\n",
       "    .dataframe tbody tr th:only-of-type {\n",
       "        vertical-align: middle;\n",
       "    }\n",
       "\n",
       "    .dataframe tbody tr th {\n",
       "        vertical-align: top;\n",
       "    }\n",
       "\n",
       "    .dataframe thead th {\n",
       "        text-align: right;\n",
       "    }\n",
       "</style>\n",
       "<table border=\"1\" class=\"dataframe\">\n",
       "  <thead>\n",
       "    <tr style=\"text-align: right;\">\n",
       "      <th>Gender</th>\n",
       "      <th>Female</th>\n",
       "      <th>Male</th>\n",
       "    </tr>\n",
       "    <tr>\n",
       "      <th>Country</th>\n",
       "      <th></th>\n",
       "      <th></th>\n",
       "    </tr>\n",
       "  </thead>\n",
       "  <tbody>\n",
       "    <tr>\n",
       "      <th>Australia</th>\n",
       "      <td>7.397227</td>\n",
       "      <td>8.493065</td>\n",
       "    </tr>\n",
       "    <tr>\n",
       "      <th>Canada</th>\n",
       "      <td>7.212199</td>\n",
       "      <td>8.878214</td>\n",
       "    </tr>\n",
       "    <tr>\n",
       "      <th>China</th>\n",
       "      <td>7.985618</td>\n",
       "      <td>8.444519</td>\n",
       "    </tr>\n",
       "    <tr>\n",
       "      <th>UK</th>\n",
       "      <td>7.575658</td>\n",
       "      <td>8.781466</td>\n",
       "    </tr>\n",
       "    <tr>\n",
       "      <th>USA</th>\n",
       "      <td>7.036526</td>\n",
       "      <td>8.475643</td>\n",
       "    </tr>\n",
       "  </tbody>\n",
       "</table>\n",
       "</div>"
      ],
      "text/plain": [
       "Gender       Female      Male\n",
       "Country                      \n",
       "Australia  7.397227  8.493065\n",
       "Canada     7.212199  8.878214\n",
       "China      7.985618  8.444519\n",
       "UK         7.575658  8.781466\n",
       "USA        7.036526  8.475643"
      ]
     },
     "execution_count": 41,
     "metadata": {},
     "output_type": "execute_result"
    }
   ],
   "source": [
    "pivot_table"
   ]
  },
  {
   "cell_type": "code",
   "execution_count": 43,
   "id": "4120ca50",
   "metadata": {},
   "outputs": [],
   "source": [
    "import numpy as np\n",
    "salary_df['Salary_log'] = np.log(salary_df['Salary'])"
   ]
  },
  {
   "cell_type": "code",
   "execution_count": 46,
   "id": "b3003b9e",
   "metadata": {},
   "outputs": [
    {
     "name": "stdout",
     "output_type": "stream",
     "text": [
      "<class 'pandas.core.frame.DataFrame'>\n",
      "Int64Index: 6680 entries, 0 to 6679\n",
      "Data columns (total 11 columns):\n",
      " #   Column               Non-Null Count  Dtype  \n",
      "---  ------               --------------  -----  \n",
      " 0   Age                  6680 non-null   float64\n",
      " 1   Gender               6680 non-null   object \n",
      " 2   Education Level      6680 non-null   int64  \n",
      " 3   Job Title            6680 non-null   object \n",
      " 4   Years of Experience  6680 non-null   float64\n",
      " 5   Salary               6680 non-null   int64  \n",
      " 6   Country              6680 non-null   object \n",
      " 7   Race                 6680 non-null   object \n",
      " 8   Senior               6680 non-null   int64  \n",
      " 9   Gender_salary        6680 non-null   float64\n",
      " 10  Salary_log           6680 non-null   float64\n",
      "dtypes: float64(4), int64(3), object(4)\n",
      "memory usage: 626.2+ KB\n"
     ]
    }
   ],
   "source": [
    "salary_df.info()"
   ]
  },
  {
   "cell_type": "code",
   "execution_count": 47,
   "id": "ba189496",
   "metadata": {},
   "outputs": [],
   "source": [
    "df_no_object = salary_df.select_dtypes(exclude='object')"
   ]
  },
  {
   "cell_type": "code",
   "execution_count": 49,
   "id": "f26acbe7",
   "metadata": {},
   "outputs": [
    {
     "name": "stdout",
     "output_type": "stream",
     "text": [
      "<class 'pandas.core.frame.DataFrame'>\n",
      "Int64Index: 6680 entries, 0 to 6679\n",
      "Data columns (total 7 columns):\n",
      " #   Column               Non-Null Count  Dtype  \n",
      "---  ------               --------------  -----  \n",
      " 0   Age                  6680 non-null   float64\n",
      " 1   Education Level      6680 non-null   int64  \n",
      " 2   Years of Experience  6680 non-null   float64\n",
      " 3   Salary               6680 non-null   int64  \n",
      " 4   Senior               6680 non-null   int64  \n",
      " 5   Gender_salary        6680 non-null   float64\n",
      " 6   Salary_log           6680 non-null   float64\n",
      "dtypes: float64(4), int64(3)\n",
      "memory usage: 417.5 KB\n"
     ]
    }
   ],
   "source": [
    "df_no_object.info()"
   ]
  },
  {
   "cell_type": "code",
   "execution_count": 50,
   "id": "170ab50b",
   "metadata": {},
   "outputs": [],
   "source": [
    "from sklearn.preprocessing import RobustScaler"
   ]
  },
  {
   "cell_type": "code",
   "execution_count": 51,
   "id": "36548d7f",
   "metadata": {},
   "outputs": [],
   "source": [
    "rs = RobustScaler()"
   ]
  },
  {
   "cell_type": "code",
   "execution_count": 52,
   "id": "20f1bc14",
   "metadata": {},
   "outputs": [
    {
     "data": {
      "text/plain": [
       "RobustScaler()"
      ]
     },
     "execution_count": 52,
     "metadata": {},
     "output_type": "execute_result"
    }
   ],
   "source": [
    "rs.fit(df_no_object)"
   ]
  },
  {
   "cell_type": "code",
   "execution_count": 53,
   "id": "787d9692",
   "metadata": {},
   "outputs": [],
   "source": [
    "rs_df = rs.transform(df_no_object)"
   ]
  },
  {
   "cell_type": "code",
   "execution_count": 55,
   "id": "e7997085",
   "metadata": {},
   "outputs": [],
   "source": [
    "rs_df = pd.DataFrame(rs_df, columns=df_no_object.columns)"
   ]
  },
  {
   "cell_type": "code",
   "execution_count": 56,
   "id": "6fcbff50",
   "metadata": {},
   "outputs": [],
   "source": [
    "from sklearn.preprocessing import MinMaxScaler"
   ]
  },
  {
   "cell_type": "code",
   "execution_count": 57,
   "id": "d9970b87",
   "metadata": {},
   "outputs": [],
   "source": [
    "mm = MinMaxScaler()"
   ]
  },
  {
   "cell_type": "code",
   "execution_count": 58,
   "id": "b845f53d",
   "metadata": {},
   "outputs": [],
   "source": [
    "mm_df = mm.fit_transform(df_no_object)"
   ]
  },
  {
   "cell_type": "code",
   "execution_count": 59,
   "id": "c67d36bc",
   "metadata": {},
   "outputs": [],
   "source": [
    "from sklearn.decomposition import PCA"
   ]
  },
  {
   "cell_type": "code",
   "execution_count": 60,
   "id": "13908c18",
   "metadata": {},
   "outputs": [],
   "source": [
    "pca =  PCA(n_components=2)"
   ]
  },
  {
   "cell_type": "code",
   "execution_count": 61,
   "id": "8e671270",
   "metadata": {},
   "outputs": [],
   "source": [
    "# pca로 salary_df를 학습 및 변환하여 pca_df로 저장\n",
    "pca_df =  pca.fit_transform(df_no_object)"
   ]
  },
  {
   "cell_type": "code",
   "execution_count": 63,
   "id": "0eaf3f68",
   "metadata": {},
   "outputs": [
    {
     "data": {
      "text/html": [
       "<div>\n",
       "<style scoped>\n",
       "    .dataframe tbody tr th:only-of-type {\n",
       "        vertical-align: middle;\n",
       "    }\n",
       "\n",
       "    .dataframe tbody tr th {\n",
       "        vertical-align: top;\n",
       "    }\n",
       "\n",
       "    .dataframe thead th {\n",
       "        text-align: right;\n",
       "    }\n",
       "</style>\n",
       "<table border=\"1\" class=\"dataframe\">\n",
       "  <thead>\n",
       "    <tr style=\"text-align: right;\">\n",
       "      <th></th>\n",
       "      <th>PC1</th>\n",
       "      <th>PC2</th>\n",
       "    </tr>\n",
       "  </thead>\n",
       "  <tbody>\n",
       "    <tr>\n",
       "      <th>0</th>\n",
       "      <td>-25204.560235</td>\n",
       "      <td>-6500.821440</td>\n",
       "    </tr>\n",
       "    <tr>\n",
       "      <th>1</th>\n",
       "      <td>-50423.373777</td>\n",
       "      <td>6590.817604</td>\n",
       "    </tr>\n",
       "    <tr>\n",
       "      <th>2</th>\n",
       "      <td>34787.319694</td>\n",
       "      <td>-5513.628939</td>\n",
       "    </tr>\n",
       "    <tr>\n",
       "      <th>3</th>\n",
       "      <td>-55422.695715</td>\n",
       "      <td>6508.551345</td>\n",
       "    </tr>\n",
       "    <tr>\n",
       "      <th>4</th>\n",
       "      <td>84780.552225</td>\n",
       "      <td>-4690.968463</td>\n",
       "    </tr>\n",
       "  </tbody>\n",
       "</table>\n",
       "</div>"
      ],
      "text/plain": [
       "            PC1          PC2\n",
       "0 -25204.560235 -6500.821440\n",
       "1 -50423.373777  6590.817604\n",
       "2  34787.319694 -5513.628939\n",
       "3 -55422.695715  6508.551345\n",
       "4  84780.552225 -4690.968463"
      ]
     },
     "execution_count": 63,
     "metadata": {},
     "output_type": "execute_result"
    }
   ],
   "source": [
    "pca_df =  pd.DataFrame(pca_df, columns=['PC1', 'PC2'])\n",
    "pca_df.head()"
   ]
  },
  {
   "cell_type": "code",
   "execution_count": 64,
   "id": "2f523d17",
   "metadata": {},
   "outputs": [
    {
     "data": {
      "text/plain": [
       "0.9999999855512036"
      ]
     },
     "execution_count": 64,
     "metadata": {},
     "output_type": "execute_result"
    }
   ],
   "source": [
    "(pca.explained_variance_ratio_).sum()"
   ]
  },
  {
   "cell_type": "code",
   "execution_count": null,
   "id": "3303a4e4",
   "metadata": {},
   "outputs": [],
   "source": []
  }
 ],
 "metadata": {
  "kernelspec": {
   "display_name": "Python 3 (ipykernel)",
   "language": "python",
   "name": "python3"
  },
  "language_info": {
   "codemirror_mode": {
    "name": "ipython",
    "version": 3
   },
   "file_extension": ".py",
   "mimetype": "text/x-python",
   "name": "python",
   "nbconvert_exporter": "python",
   "pygments_lexer": "ipython3",
   "version": "3.9.7"
  }
 },
 "nbformat": 4,
 "nbformat_minor": 5
}
