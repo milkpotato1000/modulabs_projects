{
 "cells": [
  {
   "cell_type": "code",
   "execution_count": 1,
   "id": "af5cff09-cd75-4a32-b725-43b158ccd717",
   "metadata": {},
   "outputs": [],
   "source": [
    "import pandas as pd\n",
    "import os"
   ]
  },
  {
   "cell_type": "markdown",
   "id": "eda73692-f32b-4682-b0df-f5364bd3c1ff",
   "metadata": {},
   "source": [
    "# 데이터탐색 & 전처리"
   ]
  },
  {
   "cell_type": "code",
   "execution_count": 2,
   "id": "668e09b9-58cd-4ba2-ba73-12e5958d9399",
   "metadata": {},
   "outputs": [
    {
     "data": {
      "text/html": [
       "<div>\n",
       "<style scoped>\n",
       "    .dataframe tbody tr th:only-of-type {\n",
       "        vertical-align: middle;\n",
       "    }\n",
       "\n",
       "    .dataframe tbody tr th {\n",
       "        vertical-align: top;\n",
       "    }\n",
       "\n",
       "    .dataframe thead th {\n",
       "        text-align: right;\n",
       "    }\n",
       "</style>\n",
       "<table border=\"1\" class=\"dataframe\">\n",
       "  <thead>\n",
       "    <tr style=\"text-align: right;\">\n",
       "      <th></th>\n",
       "      <th>user_id</th>\n",
       "      <th>artist_MBID</th>\n",
       "      <th>artist</th>\n",
       "      <th>play</th>\n",
       "    </tr>\n",
       "  </thead>\n",
       "  <tbody>\n",
       "    <tr>\n",
       "      <th>0</th>\n",
       "      <td>00000c289a1829a808ac09c00daf10bc3c4e223b</td>\n",
       "      <td>3bd73256-3905-4f3a-97e2-8b341527f805</td>\n",
       "      <td>betty blowtorch</td>\n",
       "      <td>2137</td>\n",
       "    </tr>\n",
       "    <tr>\n",
       "      <th>1</th>\n",
       "      <td>00000c289a1829a808ac09c00daf10bc3c4e223b</td>\n",
       "      <td>f2fb0ff0-5679-42ec-a55c-15109ce6e320</td>\n",
       "      <td>die Ärzte</td>\n",
       "      <td>1099</td>\n",
       "    </tr>\n",
       "    <tr>\n",
       "      <th>2</th>\n",
       "      <td>00000c289a1829a808ac09c00daf10bc3c4e223b</td>\n",
       "      <td>b3ae82c2-e60b-4551-a76d-6620f1b456aa</td>\n",
       "      <td>melissa etheridge</td>\n",
       "      <td>897</td>\n",
       "    </tr>\n",
       "  </tbody>\n",
       "</table>\n",
       "</div>"
      ],
      "text/plain": [
       "                                    user_id  \\\n",
       "0  00000c289a1829a808ac09c00daf10bc3c4e223b   \n",
       "1  00000c289a1829a808ac09c00daf10bc3c4e223b   \n",
       "2  00000c289a1829a808ac09c00daf10bc3c4e223b   \n",
       "\n",
       "                            artist_MBID             artist  play  \n",
       "0  3bd73256-3905-4f3a-97e2-8b341527f805    betty blowtorch  2137  \n",
       "1  f2fb0ff0-5679-42ec-a55c-15109ce6e320          die Ärzte  1099  \n",
       "2  b3ae82c2-e60b-4551-a76d-6620f1b456aa  melissa etheridge   897  "
      ]
     },
     "execution_count": 2,
     "metadata": {},
     "output_type": "execute_result"
    }
   ],
   "source": [
    "fname = '../../data/rec_data/usersha1-artmbid-artname-plays.tsv'\n",
    "col_names = ['user_id', 'artist_MBID', 'artist', 'play']   # 임의로 지정한 컬럼명\n",
    "data = pd.read_csv(fname, sep='\\t', names= col_names)      # sep='\\t'로 주어야 tsv를 열 수 있습니다.  \n",
    "data.head(3)"
   ]
  },
  {
   "cell_type": "code",
   "execution_count": 3,
   "id": "ca37ecb7-8eba-466f-9eeb-bb8eaf41b9a5",
   "metadata": {},
   "outputs": [
    {
     "data": {
      "text/html": [
       "<div>\n",
       "<style scoped>\n",
       "    .dataframe tbody tr th:only-of-type {\n",
       "        vertical-align: middle;\n",
       "    }\n",
       "\n",
       "    .dataframe tbody tr th {\n",
       "        vertical-align: top;\n",
       "    }\n",
       "\n",
       "    .dataframe thead th {\n",
       "        text-align: right;\n",
       "    }\n",
       "</style>\n",
       "<table border=\"1\" class=\"dataframe\">\n",
       "  <thead>\n",
       "    <tr style=\"text-align: right;\">\n",
       "      <th></th>\n",
       "      <th>user_id</th>\n",
       "      <th>artist</th>\n",
       "      <th>play</th>\n",
       "    </tr>\n",
       "  </thead>\n",
       "  <tbody>\n",
       "    <tr>\n",
       "      <th>0</th>\n",
       "      <td>00000c289a1829a808ac09c00daf10bc3c4e223b</td>\n",
       "      <td>betty blowtorch</td>\n",
       "      <td>2137</td>\n",
       "    </tr>\n",
       "    <tr>\n",
       "      <th>1</th>\n",
       "      <td>00000c289a1829a808ac09c00daf10bc3c4e223b</td>\n",
       "      <td>die Ärzte</td>\n",
       "      <td>1099</td>\n",
       "    </tr>\n",
       "    <tr>\n",
       "      <th>2</th>\n",
       "      <td>00000c289a1829a808ac09c00daf10bc3c4e223b</td>\n",
       "      <td>melissa etheridge</td>\n",
       "      <td>897</td>\n",
       "    </tr>\n",
       "  </tbody>\n",
       "</table>\n",
       "</div>"
      ],
      "text/plain": [
       "                                    user_id             artist  play\n",
       "0  00000c289a1829a808ac09c00daf10bc3c4e223b    betty blowtorch  2137\n",
       "1  00000c289a1829a808ac09c00daf10bc3c4e223b          die Ärzte  1099\n",
       "2  00000c289a1829a808ac09c00daf10bc3c4e223b  melissa etheridge   897"
      ]
     },
     "execution_count": 3,
     "metadata": {},
     "output_type": "execute_result"
    }
   ],
   "source": [
    "#사용할 컬럼 필터링\n",
    "using_cols = ['user_id', 'artist', 'play']\n",
    "data = data[using_cols]\n",
    "data.head(3)"
   ]
  },
  {
   "cell_type": "code",
   "execution_count": 4,
   "id": "61dcaca5-7858-4e2d-8ff3-e60cf1b7f9f1",
   "metadata": {},
   "outputs": [
    {
     "data": {
      "text/html": [
       "<div>\n",
       "<style scoped>\n",
       "    .dataframe tbody tr th:only-of-type {\n",
       "        vertical-align: middle;\n",
       "    }\n",
       "\n",
       "    .dataframe tbody tr th {\n",
       "        vertical-align: top;\n",
       "    }\n",
       "\n",
       "    .dataframe thead th {\n",
       "        text-align: right;\n",
       "    }\n",
       "</style>\n",
       "<table border=\"1\" class=\"dataframe\">\n",
       "  <thead>\n",
       "    <tr style=\"text-align: right;\">\n",
       "      <th></th>\n",
       "      <th>user_id</th>\n",
       "      <th>artist</th>\n",
       "      <th>play</th>\n",
       "    </tr>\n",
       "  </thead>\n",
       "  <tbody>\n",
       "    <tr>\n",
       "      <th>0</th>\n",
       "      <td>00000c289a1829a808ac09c00daf10bc3c4e223b</td>\n",
       "      <td>betty blowtorch</td>\n",
       "      <td>2137</td>\n",
       "    </tr>\n",
       "    <tr>\n",
       "      <th>1</th>\n",
       "      <td>00000c289a1829a808ac09c00daf10bc3c4e223b</td>\n",
       "      <td>die ärzte</td>\n",
       "      <td>1099</td>\n",
       "    </tr>\n",
       "    <tr>\n",
       "      <th>2</th>\n",
       "      <td>00000c289a1829a808ac09c00daf10bc3c4e223b</td>\n",
       "      <td>melissa etheridge</td>\n",
       "      <td>897</td>\n",
       "    </tr>\n",
       "  </tbody>\n",
       "</table>\n",
       "</div>"
      ],
      "text/plain": [
       "                                    user_id             artist  play\n",
       "0  00000c289a1829a808ac09c00daf10bc3c4e223b    betty blowtorch  2137\n",
       "1  00000c289a1829a808ac09c00daf10bc3c4e223b          die ärzte  1099\n",
       "2  00000c289a1829a808ac09c00daf10bc3c4e223b  melissa etheridge   897"
      ]
     },
     "execution_count": 4,
     "metadata": {},
     "output_type": "execute_result"
    }
   ],
   "source": [
    " #아티스트명 소문자로\n",
    "data['artist'] = data['artist'].str.lower()\n",
    "data.head(3)"
   ]
  },
  {
   "cell_type": "code",
   "execution_count": 5,
   "id": "99bcb999-7245-4114-afa0-f7cc9b988015",
   "metadata": {},
   "outputs": [
    {
     "data": {
      "text/html": [
       "<div>\n",
       "<style scoped>\n",
       "    .dataframe tbody tr th:only-of-type {\n",
       "        vertical-align: middle;\n",
       "    }\n",
       "\n",
       "    .dataframe tbody tr th {\n",
       "        vertical-align: top;\n",
       "    }\n",
       "\n",
       "    .dataframe thead th {\n",
       "        text-align: right;\n",
       "    }\n",
       "</style>\n",
       "<table border=\"1\" class=\"dataframe\">\n",
       "  <thead>\n",
       "    <tr style=\"text-align: right;\">\n",
       "      <th></th>\n",
       "      <th>user_id</th>\n",
       "      <th>artist</th>\n",
       "      <th>play</th>\n",
       "    </tr>\n",
       "  </thead>\n",
       "  <tbody>\n",
       "    <tr>\n",
       "      <th>0</th>\n",
       "      <td>00000c289a1829a808ac09c00daf10bc3c4e223b</td>\n",
       "      <td>betty blowtorch</td>\n",
       "      <td>2137</td>\n",
       "    </tr>\n",
       "    <tr>\n",
       "      <th>1</th>\n",
       "      <td>00000c289a1829a808ac09c00daf10bc3c4e223b</td>\n",
       "      <td>die ärzte</td>\n",
       "      <td>1099</td>\n",
       "    </tr>\n",
       "    <tr>\n",
       "      <th>2</th>\n",
       "      <td>00000c289a1829a808ac09c00daf10bc3c4e223b</td>\n",
       "      <td>melissa etheridge</td>\n",
       "      <td>897</td>\n",
       "    </tr>\n",
       "    <tr>\n",
       "      <th>3</th>\n",
       "      <td>00000c289a1829a808ac09c00daf10bc3c4e223b</td>\n",
       "      <td>elvenking</td>\n",
       "      <td>717</td>\n",
       "    </tr>\n",
       "    <tr>\n",
       "      <th>4</th>\n",
       "      <td>00000c289a1829a808ac09c00daf10bc3c4e223b</td>\n",
       "      <td>juliette &amp; the licks</td>\n",
       "      <td>706</td>\n",
       "    </tr>\n",
       "    <tr>\n",
       "      <th>5</th>\n",
       "      <td>00000c289a1829a808ac09c00daf10bc3c4e223b</td>\n",
       "      <td>red hot chili peppers</td>\n",
       "      <td>691</td>\n",
       "    </tr>\n",
       "    <tr>\n",
       "      <th>6</th>\n",
       "      <td>00000c289a1829a808ac09c00daf10bc3c4e223b</td>\n",
       "      <td>magica</td>\n",
       "      <td>545</td>\n",
       "    </tr>\n",
       "    <tr>\n",
       "      <th>7</th>\n",
       "      <td>00000c289a1829a808ac09c00daf10bc3c4e223b</td>\n",
       "      <td>the black dahlia murder</td>\n",
       "      <td>507</td>\n",
       "    </tr>\n",
       "    <tr>\n",
       "      <th>8</th>\n",
       "      <td>00000c289a1829a808ac09c00daf10bc3c4e223b</td>\n",
       "      <td>the murmurs</td>\n",
       "      <td>424</td>\n",
       "    </tr>\n",
       "    <tr>\n",
       "      <th>9</th>\n",
       "      <td>00000c289a1829a808ac09c00daf10bc3c4e223b</td>\n",
       "      <td>lunachicks</td>\n",
       "      <td>403</td>\n",
       "    </tr>\n",
       "  </tbody>\n",
       "</table>\n",
       "</div>"
      ],
      "text/plain": [
       "                                    user_id                   artist  play\n",
       "0  00000c289a1829a808ac09c00daf10bc3c4e223b          betty blowtorch  2137\n",
       "1  00000c289a1829a808ac09c00daf10bc3c4e223b                die ärzte  1099\n",
       "2  00000c289a1829a808ac09c00daf10bc3c4e223b        melissa etheridge   897\n",
       "3  00000c289a1829a808ac09c00daf10bc3c4e223b                elvenking   717\n",
       "4  00000c289a1829a808ac09c00daf10bc3c4e223b     juliette & the licks   706\n",
       "5  00000c289a1829a808ac09c00daf10bc3c4e223b    red hot chili peppers   691\n",
       "6  00000c289a1829a808ac09c00daf10bc3c4e223b                   magica   545\n",
       "7  00000c289a1829a808ac09c00daf10bc3c4e223b  the black dahlia murder   507\n",
       "8  00000c289a1829a808ac09c00daf10bc3c4e223b              the murmurs   424\n",
       "9  00000c289a1829a808ac09c00daf10bc3c4e223b               lunachicks   403"
      ]
     },
     "execution_count": 5,
     "metadata": {},
     "output_type": "execute_result"
    }
   ],
   "source": [
    "#첫번째 유저의 재생 이력 확인\n",
    "condition = (data['user_id'] == data.loc[0, 'user_id'])\n",
    "data[condition][:10]"
   ]
  },
  {
   "cell_type": "markdown",
   "id": "010b5ece-3866-4c5a-a76c-6b13da90fb0b",
   "metadata": {},
   "source": [
    "## EDA"
   ]
  },
  {
   "cell_type": "code",
   "execution_count": 6,
   "id": "04e018a1-d4a6-4797-befe-30bf1001bffb",
   "metadata": {},
   "outputs": [
    {
     "data": {
      "text/plain": [
       "358868"
      ]
     },
     "execution_count": 6,
     "metadata": {},
     "output_type": "execute_result"
    }
   ],
   "source": [
    "# 유저 수\n",
    "data['user_id'].nunique()"
   ]
  },
  {
   "cell_type": "code",
   "execution_count": 7,
   "id": "2a54c9ba-575b-4265-81e0-2092319e417a",
   "metadata": {},
   "outputs": [
    {
     "data": {
      "text/plain": [
       "291346"
      ]
     },
     "execution_count": 7,
     "metadata": {},
     "output_type": "execute_result"
    }
   ],
   "source": [
    "# 아티스트 수\n",
    "data['artist'].nunique()"
   ]
  },
  {
   "cell_type": "code",
   "execution_count": 8,
   "id": "90ceae0c-0b7d-480a-b9ca-f243d54d2e6c",
   "metadata": {},
   "outputs": [
    {
     "data": {
      "text/plain": [
       "artist\n",
       "radiohead                77254\n",
       "the beatles              76245\n",
       "coldplay                 66658\n",
       "red hot chili peppers    48924\n",
       "muse                     46954\n",
       "metallica                45233\n",
       "pink floyd               44443\n",
       "the killers              41229\n",
       "linkin park              39773\n",
       "nirvana                  39479\n",
       "system of a down         37267\n",
       "queen                    34174\n",
       "u2                       33206\n",
       "daft punk                33001\n",
       "the cure                 32624\n",
       "led zeppelin             32295\n",
       "placebo                  32072\n",
       "depeche mode             31916\n",
       "david bowie              31862\n",
       "bob dylan                31799\n",
       "death cab for cutie      31482\n",
       "arctic monkeys           30348\n",
       "foo fighters             30144\n",
       "air                      29795\n",
       "the rolling stones       29754\n",
       "nine inch nails          28946\n",
       "sigur rós                28901\n",
       "green day                28732\n",
       "massive attack           28691\n",
       "moby                     28232\n",
       "Name: user_id, dtype: int64"
      ]
     },
     "execution_count": 8,
     "metadata": {},
     "output_type": "execute_result"
    }
   ],
   "source": [
    "# 인기 많은 아티스트\n",
    "artist_count = data.groupby('artist')['user_id'].count()\n",
    "artist_count.sort_values(ascending=False).head(30)"
   ]
  },
  {
   "cell_type": "code",
   "execution_count": 9,
   "id": "108e7169-b97b-4181-9fcb-09b16a94e8db",
   "metadata": {},
   "outputs": [
    {
     "data": {
      "text/plain": [
       "count    358868.000000\n",
       "mean         48.863234\n",
       "std           8.524272\n",
       "min           1.000000\n",
       "25%          46.000000\n",
       "50%          49.000000\n",
       "75%          51.000000\n",
       "max         166.000000\n",
       "Name: artist, dtype: float64"
      ]
     },
     "execution_count": 9,
     "metadata": {},
     "output_type": "execute_result"
    }
   ],
   "source": [
    "# 유저별 몇 명의 아티스트를 듣고 있는지에 대한 통계\n",
    "user_count = data.groupby('user_id')['artist'].count()\n",
    "user_count.describe()"
   ]
  },
  {
   "cell_type": "code",
   "execution_count": 10,
   "id": "b3900c9e-dba4-46cf-a61f-6b0966704a3f",
   "metadata": {},
   "outputs": [
    {
     "data": {
      "text/plain": [
       "count    358868.000000\n",
       "mean        142.187676\n",
       "std         213.089902\n",
       "min           1.000000\n",
       "25%          32.000000\n",
       "50%          83.000000\n",
       "75%         180.000000\n",
       "max       50142.000000\n",
       "Name: play, dtype: float64"
      ]
     },
     "execution_count": 10,
     "metadata": {},
     "output_type": "execute_result"
    }
   ],
   "source": [
    "# 유저별 play횟수 중앙값에 대한 통계\n",
    "user_median = data.groupby('user_id')['play'].median()\n",
    "user_median.describe()"
   ]
  },
  {
   "cell_type": "code",
   "execution_count": 11,
   "id": "20dce929-6775-4ade-a4fe-c28db0164d35",
   "metadata": {},
   "outputs": [
    {
     "data": {
      "text/html": [
       "<div>\n",
       "<style scoped>\n",
       "    .dataframe tbody tr th:only-of-type {\n",
       "        vertical-align: middle;\n",
       "    }\n",
       "\n",
       "    .dataframe tbody tr th {\n",
       "        vertical-align: top;\n",
       "    }\n",
       "\n",
       "    .dataframe thead th {\n",
       "        text-align: right;\n",
       "    }\n",
       "</style>\n",
       "<table border=\"1\" class=\"dataframe\">\n",
       "  <thead>\n",
       "    <tr style=\"text-align: right;\">\n",
       "      <th></th>\n",
       "      <th>user_id</th>\n",
       "      <th>artist</th>\n",
       "      <th>play</th>\n",
       "    </tr>\n",
       "  </thead>\n",
       "  <tbody>\n",
       "    <tr>\n",
       "      <th>17535650</th>\n",
       "      <td>sep 20, 2008</td>\n",
       "      <td>turbostaat</td>\n",
       "      <td>12</td>\n",
       "    </tr>\n",
       "    <tr>\n",
       "      <th>17535651</th>\n",
       "      <td>sep 20, 2008</td>\n",
       "      <td>cuba missouri</td>\n",
       "      <td>11</td>\n",
       "    </tr>\n",
       "    <tr>\n",
       "      <th>17535652</th>\n",
       "      <td>sep 20, 2008</td>\n",
       "      <td>little man tate</td>\n",
       "      <td>11</td>\n",
       "    </tr>\n",
       "    <tr>\n",
       "      <th>17535653</th>\n",
       "      <td>sep 20, 2008</td>\n",
       "      <td>sigur rós</td>\n",
       "      <td>10</td>\n",
       "    </tr>\n",
       "    <tr>\n",
       "      <th>17535654</th>\n",
       "      <td>sep 20, 2008</td>\n",
       "      <td>the smiths</td>\n",
       "      <td>10</td>\n",
       "    </tr>\n",
       "    <tr>\n",
       "      <th>0</th>\n",
       "      <td>sc</td>\n",
       "      <td>black eyed peas</td>\n",
       "      <td>30</td>\n",
       "    </tr>\n",
       "    <tr>\n",
       "      <th>1</th>\n",
       "      <td>sc</td>\n",
       "      <td>maroon5</td>\n",
       "      <td>30</td>\n",
       "    </tr>\n",
       "    <tr>\n",
       "      <th>2</th>\n",
       "      <td>sc</td>\n",
       "      <td>jason mraz</td>\n",
       "      <td>30</td>\n",
       "    </tr>\n",
       "    <tr>\n",
       "      <th>3</th>\n",
       "      <td>sc</td>\n",
       "      <td>coldplay</td>\n",
       "      <td>30</td>\n",
       "    </tr>\n",
       "    <tr>\n",
       "      <th>4</th>\n",
       "      <td>sc</td>\n",
       "      <td>beyoncé</td>\n",
       "      <td>30</td>\n",
       "    </tr>\n",
       "  </tbody>\n",
       "</table>\n",
       "</div>"
      ],
      "text/plain": [
       "               user_id           artist  play\n",
       "17535650  sep 20, 2008       turbostaat    12\n",
       "17535651  sep 20, 2008    cuba missouri    11\n",
       "17535652  sep 20, 2008  little man tate    11\n",
       "17535653  sep 20, 2008        sigur rós    10\n",
       "17535654  sep 20, 2008       the smiths    10\n",
       "0                   sc  black eyed peas    30\n",
       "1                   sc          maroon5    30\n",
       "2                   sc       jason mraz    30\n",
       "3                   sc         coldplay    30\n",
       "4                   sc          beyoncé    30"
      ]
     },
     "execution_count": 11,
     "metadata": {},
     "output_type": "execute_result"
    }
   ],
   "source": [
    "# 테스트용 좋아하는 아티스트 목록\n",
    "my_favorite = ['black eyed peas' , 'maroon5' ,'jason mraz' ,'coldplay' ,'beyoncé']\n",
    "\n",
    "# 'sc'라는 user_id가 위 아티스트의 노래를 30회씩 들었다고 가정\n",
    "my_playlist = pd.DataFrame({'user_id': ['sc']*5, 'artist': my_favorite, 'play':[30]*5})\n",
    "\n",
    "if not data.isin({'user_id':['sc']})['user_id'].any():\n",
    "    data = pd.concat([data, my_playlist])                           \n",
    "\n",
    "data.tail(10)       # 잘 추가되었는지 확인"
   ]
  },
  {
   "cell_type": "code",
   "execution_count": 12,
   "id": "0af40325-b079-4bec-94c6-bb461325b682",
   "metadata": {},
   "outputs": [],
   "source": [
    "# 고유한 유저, 아티스트를 찾아내는 코드\n",
    "user_unique = data['user_id'].unique()\n",
    "artist_unique = data['artist'].unique()\n",
    "\n",
    "# 유저, 아티스트 indexing 하는 코드 idx는 index의 약자입니다.\n",
    "user_to_idx = {v:k for k,v in enumerate(user_unique)}\n",
    "artist_to_idx = {v:k for k,v in enumerate(artist_unique)}"
   ]
  },
  {
   "cell_type": "code",
   "execution_count": 13,
   "id": "ac0702e8-bb78-47d0-b639-66ecc0c2b0e0",
   "metadata": {},
   "outputs": [
    {
     "name": "stdout",
     "output_type": "stream",
     "text": [
      "358868\n",
      "376\n"
     ]
    }
   ],
   "source": [
    "# 인덱싱이 잘 되었는지 확인\n",
    "print(user_to_idx['sc'])    # 358869명의 유저 중 마지막 (358868)\n",
    "print(artist_to_idx['black eyed peas'])"
   ]
  },
  {
   "cell_type": "code",
   "execution_count": 14,
   "id": "b8b916fb-c5b7-4aa7-bcc8-8d88eef5ae22",
   "metadata": {},
   "outputs": [
    {
     "name": "stdout",
     "output_type": "stream",
     "text": [
      "user_id column indexing OK!!\n"
     ]
    }
   ],
   "source": [
    "# 혹시 정상적으로 인덱싱되지 않은 row가 있다면 인덱스가 NaN이 될 테니 dropna()로 제거.\n",
    "temp_user_data = data['user_id'].map(user_to_idx.get).dropna()\n",
    "if len(temp_user_data) == len(data):   # 모든 row가 정상적으로 인덱싱되었다면\n",
    "    print('user_id column indexing OK!!')\n",
    "    data['user_id'] = temp_user_data   # data['user_id']을 인덱싱된 Series로 교체해 줍니다. \n",
    "else:\n",
    "    print('user_id column indexing Fail!!')"
   ]
  },
  {
   "cell_type": "code",
   "execution_count": 15,
   "id": "c6a98c0b-b050-448b-aa53-13b2fd687d7d",
   "metadata": {},
   "outputs": [
    {
     "name": "stdout",
     "output_type": "stream",
     "text": [
      "artist column indexing OK!!\n"
     ]
    },
    {
     "data": {
      "text/html": [
       "<div>\n",
       "<style scoped>\n",
       "    .dataframe tbody tr th:only-of-type {\n",
       "        vertical-align: middle;\n",
       "    }\n",
       "\n",
       "    .dataframe tbody tr th {\n",
       "        vertical-align: top;\n",
       "    }\n",
       "\n",
       "    .dataframe thead th {\n",
       "        text-align: right;\n",
       "    }\n",
       "</style>\n",
       "<table border=\"1\" class=\"dataframe\">\n",
       "  <thead>\n",
       "    <tr style=\"text-align: right;\">\n",
       "      <th></th>\n",
       "      <th>user_id</th>\n",
       "      <th>artist</th>\n",
       "      <th>play</th>\n",
       "    </tr>\n",
       "  </thead>\n",
       "  <tbody>\n",
       "    <tr>\n",
       "      <th>0</th>\n",
       "      <td>0</td>\n",
       "      <td>0</td>\n",
       "      <td>2137</td>\n",
       "    </tr>\n",
       "    <tr>\n",
       "      <th>1</th>\n",
       "      <td>0</td>\n",
       "      <td>1</td>\n",
       "      <td>1099</td>\n",
       "    </tr>\n",
       "    <tr>\n",
       "      <th>2</th>\n",
       "      <td>0</td>\n",
       "      <td>2</td>\n",
       "      <td>897</td>\n",
       "    </tr>\n",
       "    <tr>\n",
       "      <th>3</th>\n",
       "      <td>0</td>\n",
       "      <td>3</td>\n",
       "      <td>717</td>\n",
       "    </tr>\n",
       "    <tr>\n",
       "      <th>4</th>\n",
       "      <td>0</td>\n",
       "      <td>4</td>\n",
       "      <td>706</td>\n",
       "    </tr>\n",
       "    <tr>\n",
       "      <th>...</th>\n",
       "      <td>...</td>\n",
       "      <td>...</td>\n",
       "      <td>...</td>\n",
       "    </tr>\n",
       "    <tr>\n",
       "      <th>0</th>\n",
       "      <td>358868</td>\n",
       "      <td>376</td>\n",
       "      <td>30</td>\n",
       "    </tr>\n",
       "    <tr>\n",
       "      <th>1</th>\n",
       "      <td>358868</td>\n",
       "      <td>270115</td>\n",
       "      <td>30</td>\n",
       "    </tr>\n",
       "    <tr>\n",
       "      <th>2</th>\n",
       "      <td>358868</td>\n",
       "      <td>3746</td>\n",
       "      <td>30</td>\n",
       "    </tr>\n",
       "    <tr>\n",
       "      <th>3</th>\n",
       "      <td>358868</td>\n",
       "      <td>62</td>\n",
       "      <td>30</td>\n",
       "    </tr>\n",
       "    <tr>\n",
       "      <th>4</th>\n",
       "      <td>358868</td>\n",
       "      <td>396</td>\n",
       "      <td>30</td>\n",
       "    </tr>\n",
       "  </tbody>\n",
       "</table>\n",
       "<p>17535660 rows × 3 columns</p>\n",
       "</div>"
      ],
      "text/plain": [
       "    user_id  artist  play\n",
       "0         0       0  2137\n",
       "1         0       1  1099\n",
       "2         0       2   897\n",
       "3         0       3   717\n",
       "4         0       4   706\n",
       "..      ...     ...   ...\n",
       "0    358868     376    30\n",
       "1    358868  270115    30\n",
       "2    358868    3746    30\n",
       "3    358868      62    30\n",
       "4    358868     396    30\n",
       "\n",
       "[17535660 rows x 3 columns]"
      ]
     },
     "execution_count": 15,
     "metadata": {},
     "output_type": "execute_result"
    }
   ],
   "source": [
    "# artist_to_idx을 통해 artist 컬럼도 동일한 방식으로 인덱싱\n",
    "temp_artist_data = data['artist'].map(artist_to_idx.get).dropna()\n",
    "if len(temp_artist_data) == len(data):\n",
    "    print('artist column indexing OK!!')\n",
    "    data['artist'] = temp_artist_data\n",
    "else:\n",
    "    print('artist column indexing Fail!!')\n",
    "\n",
    "data"
   ]
  },
  {
   "cell_type": "markdown",
   "id": "a2e60691-f60d-429a-aa91-004d2273fc10",
   "metadata": {},
   "source": [
    "## 사용자의 명시적/암묵적 평가"
   ]
  },
  {
   "cell_type": "code",
   "execution_count": 16,
   "id": "95b40086-0854-47bd-97a7-3c4580d64674",
   "metadata": {},
   "outputs": [
    {
     "name": "stdout",
     "output_type": "stream",
     "text": [
      "147739, 17535660, 0.8425060704872244\n",
      "Ratio of only_one over all data is 0.84%\n"
     ]
    }
   ],
   "source": [
    "# 1회만 play한 데이터의 비율\n",
    "only_one = data[data['play']==1]\n",
    "one, all_data = len(only_one), len(data)\n",
    "print(f'{one}, {all_data}, {one/all_data*100}')\n",
    "print(f'Ratio of only_one over all data is {one/all_data:.2%}')"
   ]
  },
  {
   "cell_type": "markdown",
   "id": "3c92b18b-fc2e-449b-b583-226cb44be70a",
   "metadata": {},
   "source": [
    "## CSR(Compressed Sparse Row) Matrix"
   ]
  },
  {
   "cell_type": "code",
   "execution_count": 17,
   "id": "372c89ca-8e0b-4bd0-b84f-62122fe5fd10",
   "metadata": {},
   "outputs": [
    {
     "data": {
      "text/plain": [
       "<Compressed Sparse Row sparse matrix of dtype 'int64'\n",
       "\twith 17535578 stored elements and shape (358869, 291347)>"
      ]
     },
     "execution_count": 17,
     "metadata": {},
     "output_type": "execute_result"
    }
   ],
   "source": [
    "# CSR(Compressed Sparse Row) Matrix 만들어보기\n",
    "from scipy.sparse import csr_matrix\n",
    "\n",
    "num_user = data['user_id'].nunique()\n",
    "num_artist = data['artist'].nunique()\n",
    "\n",
    "csr_data = csr_matrix(\n",
    "    (data.play, (data.user_id, data.artist)), # (data, (row_idx, col_idx))\n",
    "    shape=(num_user, num_artist) # shape\n",
    ")\n",
    "csr_data"
   ]
  },
  {
   "cell_type": "markdown",
   "id": "54355afa-2582-4516-8f08-6daf534ad871",
   "metadata": {},
   "source": [
    "## MF 모델 학습"
   ]
  },
  {
   "cell_type": "code",
   "execution_count": 18,
   "id": "f2ddbaca-110f-4a2c-92f2-8fc1fb4d371c",
   "metadata": {},
   "outputs": [],
   "source": [
    "from implicit.als import AlternatingLeastSquares\n",
    "import numpy as np"
   ]
  },
  {
   "cell_type": "code",
   "execution_count": 19,
   "id": "c814da02-492b-40c8-99b2-ce7345f9b116",
   "metadata": {},
   "outputs": [],
   "source": [
    "# implicit 라이브러리에서 권장하고 있는 환경변수설정\n",
    "os.environ['OPENBLAS_NUM_THREADS']='1'\n",
    "os.environ['KMP_DUPLICATE_LIB_OK']='True'\n",
    "os.environ['MKL_NUM_THREADS']='1'"
   ]
  },
  {
   "cell_type": "code",
   "execution_count": 20,
   "id": "13d0bf45-63b0-44d0-b522-db4da3ce6d19",
   "metadata": {},
   "outputs": [],
   "source": [
    "# Implicit AlternatingLeastSquares 모델의 선언\n",
    "als_model = AlternatingLeastSquares(factors=100, regularization=0.01, use_gpu=False, iterations=15, dtype=np.float32)"
   ]
  },
  {
   "cell_type": "code",
   "execution_count": 21,
   "id": "13cdcb76-b867-4db3-aa56-996aade2bc9a",
   "metadata": {},
   "outputs": [
    {
     "data": {
      "application/vnd.jupyter.widget-view+json": {
       "model_id": "99d506f42b5c4fadbb87679ab889422d",
       "version_major": 2,
       "version_minor": 0
      },
      "text/plain": [
       "  0%|          | 0/15 [00:00<?, ?it/s]"
      ]
     },
     "metadata": {},
     "output_type": "display_data"
    }
   ],
   "source": [
    "# 모델 훈련\n",
    "als_model.fit(csr_data)"
   ]
  },
  {
   "cell_type": "code",
   "execution_count": 25,
   "id": "d2ba2729-e6b0-4d02-87f4-a720c03aa20a",
   "metadata": {},
   "outputs": [],
   "source": [
    "sc, black_eyed_peas = user_to_idx['sc'], artist_to_idx['black eyed peas']\n",
    "sc_vector, black_eyed_peas_vector = als_model.user_factors[sc], als_model.item_factors[black_eyed_peas]"
   ]
  },
  {
   "cell_type": "code",
   "execution_count": 28,
   "id": "f3e4d5b5-04aa-46c2-87bb-f2e35b3bfdd6",
   "metadata": {},
   "outputs": [
    {
     "data": {
      "text/plain": [
       "array([ 0.22877179, -0.20303473,  0.03338177,  0.81861335, -1.0573502 ,\n",
       "        0.18578032,  0.7440194 ,  0.40050024, -0.41305432,  1.1429905 ,\n",
       "       -0.14661738, -0.02663615, -0.7883047 ,  0.96973383,  1.8102185 ,\n",
       "       -0.8332633 ,  0.11872415, -1.0978347 , -0.36584115,  0.2190496 ,\n",
       "       -0.588063  ,  0.63987356, -0.0998169 , -0.39215705, -1.0178028 ,\n",
       "        0.24335589, -0.73412293,  0.40103364, -0.03996487,  0.20778863,\n",
       "        0.01815015, -0.23485501,  1.2326763 ,  0.439516  ,  1.7664452 ,\n",
       "       -0.75958556,  0.17412156,  0.71230704, -0.18795915, -0.61646724,\n",
       "        0.8209467 ,  0.06973193,  0.37967268,  0.9837757 , -0.44979855,\n",
       "        0.8329533 , -0.38038942,  0.09299395,  0.04024565, -0.24275444,\n",
       "       -0.07028056,  0.57091105,  0.6539769 , -0.2154316 ,  0.5271818 ,\n",
       "       -0.59330374, -0.87650794, -0.40584984, -0.89523906,  0.7875021 ,\n",
       "       -0.42861605,  0.08665853,  0.61858636,  0.09190568,  0.5465875 ,\n",
       "       -0.10426328,  0.07752798,  0.10605694,  0.22754465,  0.849094  ,\n",
       "        1.8618565 ,  0.14630213,  0.13288812, -0.39654645,  0.3309159 ,\n",
       "       -0.99750465, -0.35443753, -0.5245221 ,  0.22884525,  0.22999662,\n",
       "        0.12274119,  0.04274714,  0.55924785, -0.11775371, -0.49396965,\n",
       "       -1.5335389 ,  0.5644669 ,  0.14999019, -1.0405552 , -0.45125782,\n",
       "       -1.3765539 ,  0.44564456, -0.27138442,  0.35695246,  0.74860704,\n",
       "        0.08352184, -0.8870338 , -0.43152332,  0.3856785 , -0.6122112 ],\n",
       "      dtype=float32)"
      ]
     },
     "execution_count": 28,
     "metadata": {},
     "output_type": "execute_result"
    }
   ],
   "source": [
    "sc_vector"
   ]
  },
  {
   "cell_type": "code",
   "execution_count": 29,
   "id": "c675b4ff-2706-456a-a4df-9484807b2324",
   "metadata": {},
   "outputs": [
    {
     "data": {
      "text/plain": [
       "array([ 6.6756690e-03, -4.0325774e-03,  1.6454007e-02,  8.8718329e-03,\n",
       "       -6.5689920e-03,  5.8151535e-03,  2.2353617e-02,  5.0004520e-03,\n",
       "        1.2782225e-02,  2.3339881e-02, -5.0714780e-03,  2.0591859e-02,\n",
       "       -4.5059761e-03,  7.5416113e-03,  3.1171365e-02, -2.2960309e-02,\n",
       "        2.5239255e-04, -2.2173034e-02,  5.6305481e-03,  1.2074351e-02,\n",
       "        8.3560189e-03,  5.6849336e-03,  7.4799298e-03,  1.2177659e-02,\n",
       "       -3.7543878e-03,  1.1574897e-02,  4.2602848e-03,  1.3727057e-02,\n",
       "        1.8429419e-03,  5.2951057e-03,  7.7034337e-03,  2.2800285e-02,\n",
       "        1.9814445e-02,  1.6927820e-03,  3.3953328e-02, -8.5230600e-03,\n",
       "        4.1770977e-03,  9.8319259e-03,  1.2878497e-02,  6.0163043e-03,\n",
       "        1.6983021e-02,  6.7961207e-03,  1.3638249e-02,  9.3473634e-03,\n",
       "        1.5637218e-03,  2.0881215e-02,  9.1851186e-03, -7.5588245e-03,\n",
       "       -3.2283575e-03,  5.5615515e-03,  9.2305476e-03, -9.1791543e-04,\n",
       "        5.9463866e-03, -8.9421915e-03,  1.1648799e-02, -2.0267228e-03,\n",
       "       -4.2556571e-03, -8.9551425e-03,  6.1526080e-03,  1.8470593e-02,\n",
       "        6.6788890e-03,  1.7394459e-02,  1.2150731e-02,  8.4134610e-03,\n",
       "        1.1421045e-02,  9.6576083e-03,  1.5263458e-02,  2.7163378e-03,\n",
       "        1.3056997e-02,  2.2997005e-02,  3.4703154e-02,  5.2645132e-03,\n",
       "        2.7690243e-02,  1.2584128e-02,  7.5301537e-03, -3.0225224e-03,\n",
       "        1.1060607e-02,  1.1932367e-02,  2.1676611e-02,  9.8622236e-03,\n",
       "        1.4424702e-02,  1.5524214e-02,  9.9936686e-03,  1.3233570e-03,\n",
       "       -6.6915904e-03, -1.6286988e-02,  1.6286692e-02,  7.2162859e-03,\n",
       "       -3.0277923e-03,  2.2150544e-03, -4.5328755e-03,  1.3836749e-02,\n",
       "       -1.3515678e-03,  8.7831467e-03,  9.6216984e-03, -6.0821447e-04,\n",
       "        1.0997235e-05, -8.2597425e-03, -1.1227513e-02, -4.5747790e-03],\n",
       "      dtype=float32)"
      ]
     },
     "execution_count": 29,
     "metadata": {},
     "output_type": "execute_result"
    }
   ],
   "source": [
    "black_eyed_peas_vector"
   ]
  },
  {
   "cell_type": "code",
   "execution_count": 37,
   "id": "fe252987-8a5f-411e-8408-aaff4362cb15",
   "metadata": {},
   "outputs": [
    {
     "data": {
      "text/plain": [
       "np.float32(0.50566137)"
      ]
     },
     "execution_count": 37,
     "metadata": {},
     "output_type": "execute_result"
    }
   ],
   "source": [
    "np.dot(sc_vector, black_eyed_peas_vector)"
   ]
  },
  {
   "cell_type": "code",
   "execution_count": 31,
   "id": "9230bf78-ee1d-4a26-9e61-9735e8a9f755",
   "metadata": {},
   "outputs": [
    {
     "data": {
      "text/plain": [
       "np.float32(0.3002196)"
      ]
     },
     "execution_count": 31,
     "metadata": {},
     "output_type": "execute_result"
    }
   ],
   "source": [
    "queen = artist_to_idx['queen']\n",
    "queen_vector = als_model.item_factors[queen]\n",
    "np.dot(zimin_vector, queen_vector)"
   ]
  },
  {
   "cell_type": "code",
   "execution_count": 41,
   "id": "f87bb3be-6f63-4f8f-8883-b962f59ad718",
   "metadata": {},
   "outputs": [
    {
     "data": {
      "application/vnd.jupyter.widget-view+json": {
       "model_id": "2ebfb8228fcd40249775259a2502da9e",
       "version_major": 2,
       "version_minor": 0
      },
      "text/plain": [
       "  0%|          | 0/30 [00:00<?, ?it/s]"
      ]
     },
     "metadata": {},
     "output_type": "display_data"
    }
   ],
   "source": [
    "#iterations 늘리기 & 훈련\n",
    "als_model = AlternatingLeastSquares(factors=100, regularization=0.01, use_gpu=False, iterations=30, dtype=np.float32)\n",
    "als_model.fit(csr_data)"
   ]
  },
  {
   "cell_type": "code",
   "execution_count": 59,
   "id": "1c529148-643e-4067-874b-314961123dac",
   "metadata": {},
   "outputs": [
    {
     "data": {
      "text/plain": [
       "np.float32(0.5538964)"
      ]
     },
     "execution_count": 59,
     "metadata": {},
     "output_type": "execute_result"
    }
   ],
   "source": [
    "sc_vector, black_eyed_peas_vector = als_model.user_factors[sc], als_model.item_factors[black_eyed_peas]\n",
    "np.dot(sc_vector, black_eyed_peas_vector)"
   ]
  },
  {
   "cell_type": "markdown",
   "id": "3456722d-3d15-435e-b365-6f6b9bdb17dd",
   "metadata": {},
   "source": [
    "## 비슷한 아티스트 찾기"
   ]
  },
  {
   "cell_type": "code",
   "execution_count": 43,
   "id": "9fdd3446-40f1-46a6-990d-85e0fc669833",
   "metadata": {},
   "outputs": [
    {
     "data": {
      "text/plain": [
       "(array([  62,  277,    5,  473,  217,   28,  247,  418,  490,  910,  268,\n",
       "         782,   75, 1018,  694], dtype=int32),\n",
       " array([1.        , 0.9899748 , 0.97755647, 0.97195065, 0.96783453,\n",
       "        0.96483654, 0.9638269 , 0.94786745, 0.94740206, 0.94391966,\n",
       "        0.9358689 , 0.92589045, 0.92497736, 0.92239434, 0.9194513 ],\n",
       "       dtype=float32))"
      ]
     },
     "execution_count": 43,
     "metadata": {},
     "output_type": "execute_result"
    }
   ],
   "source": [
    "# coldplay와 비슷한 아티스트 찾기\n",
    "favorite_artist = 'coldplay'\n",
    "artist_id = artist_to_idx[favorite_artist]\n",
    "similar_artist = als_model.similar_items(artist_id, N=15)\n",
    "similar_artist"
   ]
  },
  {
   "cell_type": "code",
   "execution_count": 56,
   "id": "bb19864b-3748-410c-8b63-8abf9c342871",
   "metadata": {},
   "outputs": [
    {
     "data": {
      "text/plain": [
       "['coldplay',\n",
       " 'muse',\n",
       " 'red hot chili peppers',\n",
       " 'placebo',\n",
       " 'radiohead',\n",
       " 'the killers',\n",
       " 'the beatles',\n",
       " 'u2',\n",
       " 'oasis',\n",
       " 'nirvana',\n",
       " 'pink floyd',\n",
       " 'the white stripes',\n",
       " 'queen',\n",
       " 'the smashing pumpkins',\n",
       " 'foo fighters']"
      ]
     },
     "execution_count": 56,
     "metadata": {},
     "output_type": "execute_result"
    }
   ],
   "source": [
    "#artist_to_idx 를 뒤집어, index로부터 artist 이름을 얻는 dict를 생성\n",
    "idx_to_artist = {v:k for k,v in artist_to_idx.items()}\n",
    "[idx_to_artist[i] for i in similar_artist[0]]"
   ]
  },
  {
   "cell_type": "code",
   "execution_count": 57,
   "id": "289584d4-f154-470b-aa67-7c48761ca7bb",
   "metadata": {},
   "outputs": [],
   "source": [
    "def get_similar_artist(artist_name: str):\n",
    "    artist_id = artist_to_idx[artist_name]\n",
    "    similar_artist = als_model.similar_items(artist_id)\n",
    "    similar_artist = [idx_to_artist[i] for i in similar_artist[0]]\n",
    "    return similar_artist"
   ]
  },
  {
   "cell_type": "code",
   "execution_count": 58,
   "id": "fffa56a7-5739-4021-991c-3c643478a61a",
   "metadata": {},
   "outputs": [
    {
     "data": {
      "text/plain": [
       "['2pac',\n",
       " 'dr. dre',\n",
       " 'snoop dogg',\n",
       " 'the game',\n",
       " '50 cent',\n",
       " 'notorious b.i.g.',\n",
       " 'nas',\n",
       " 'jay-z',\n",
       " 'ice cube',\n",
       " 'busta rhymes']"
      ]
     },
     "execution_count": 58,
     "metadata": {},
     "output_type": "execute_result"
    }
   ],
   "source": [
    "get_similar_artist('2pac')"
   ]
  },
  {
   "cell_type": "code",
   "execution_count": 60,
   "id": "0915090c-345f-4f62-b682-3516cf928011",
   "metadata": {},
   "outputs": [
    {
     "data": {
      "text/plain": [
       "['lady gaga',\n",
       " 'katy perry',\n",
       " 'britney spears',\n",
       " 'rihanna',\n",
       " 'beyoncé',\n",
       " 'the pussycat dolls',\n",
       " 'christina aguilera',\n",
       " 'leona lewis',\n",
       " 'justin timberlake',\n",
       " 'pink']"
      ]
     },
     "execution_count": 60,
     "metadata": {},
     "output_type": "execute_result"
    }
   ],
   "source": [
    "get_similar_artist('lady gaga')"
   ]
  },
  {
   "cell_type": "markdown",
   "id": "3135c776-fe3c-44ba-b1c6-e59c5f9ea116",
   "metadata": {},
   "source": [
    "## 유저에게 아티스트 추천하기"
   ]
  },
  {
   "cell_type": "code",
   "execution_count": 63,
   "id": "887999ed-c971-4812-b2c4-fc2415471718",
   "metadata": {},
   "outputs": [
    {
     "data": {
      "text/plain": [
       "(array([ 376, 3746,  350,  550, 1800,  564,  396,  369, 2249,  274,  354,\n",
       "         409,   62,  391, 5555,  901,  355,    5,  627,  277], dtype=int32),\n",
       " array([0.5538964 , 0.50244755, 0.48266408, 0.47490972, 0.46886438,\n",
       "        0.46731347, 0.46058226, 0.45981163, 0.44372168, 0.42067707,\n",
       "        0.41200268, 0.41038087, 0.40974933, 0.40713897, 0.40102652,\n",
       "        0.40080065, 0.39169136, 0.38622856, 0.38587174, 0.38487607],\n",
       "       dtype=float32))"
      ]
     },
     "execution_count": 63,
     "metadata": {},
     "output_type": "execute_result"
    }
   ],
   "source": [
    "user = user_to_idx['sc']\n",
    "# recommend에서는 user*item CSR Matrix를 받음\n",
    "artist_recommended = als_model.recommend(user, csr_data, N=20, filter_already_liked_items=False)\n",
    "artist_recommended"
   ]
  },
  {
   "cell_type": "code",
   "execution_count": 65,
   "id": "b6913af6-0191-4bd2-935d-d75bc288f627",
   "metadata": {},
   "outputs": [
    {
     "data": {
      "text/plain": [
       "['black eyed peas',\n",
       " 'jason mraz',\n",
       " 'rihanna',\n",
       " 'britney spears',\n",
       " 'lady gaga',\n",
       " 'kanye west',\n",
       " 'beyoncé',\n",
       " 'justin timberlake',\n",
       " 'katy perry',\n",
       " 'michael jackson',\n",
       " 'nelly furtado',\n",
       " 'amy winehouse',\n",
       " 'coldplay',\n",
       " 'christina aguilera',\n",
       " 'timbaland',\n",
       " 'pink',\n",
       " 'madonna',\n",
       " 'red hot chili peppers',\n",
       " 'maroon 5',\n",
       " 'muse']"
      ]
     },
     "execution_count": 65,
     "metadata": {},
     "output_type": "execute_result"
    }
   ],
   "source": [
    "[idx_to_artist[i] for i in artist_recommended[0]]"
   ]
  },
  {
   "cell_type": "code",
   "execution_count": 68,
   "id": "c73bfc83-5009-4673-b5a0-1ac695f1e79d",
   "metadata": {},
   "outputs": [],
   "source": [
    "rihanna = artist_to_idx['jason mraz']\n",
    "explain = als_model.explain(user, csr_data, itemid=rihanna)"
   ]
  },
  {
   "cell_type": "code",
   "execution_count": 69,
   "id": "d7a80f8a-5884-4c5d-b151-056c9d3bb25b",
   "metadata": {},
   "outputs": [
    {
     "data": {
      "text/plain": [
       "[('jason mraz', np.float64(0.36319771740026896)),\n",
       " ('black eyed peas', np.float64(0.0683760212826993)),\n",
       " ('coldplay', np.float64(0.0448427250223399)),\n",
       " ('beyoncé', np.float64(0.02623640756587933)),\n",
       " ('maroon5', np.float64(8.234267972287348e-05))]"
      ]
     },
     "execution_count": 69,
     "metadata": {},
     "output_type": "execute_result"
    }
   ],
   "source": [
    "[(idx_to_artist[i[0]], i[1]) for i in explain[1]]"
   ]
  },
  {
   "cell_type": "markdown",
   "id": "0a5e2905-7723-4725-b534-6b7665cef25a",
   "metadata": {},
   "source": [
    "#"
   ]
  },
  {
   "cell_type": "markdown",
   "id": "4fd5fe4c-8730-4d68-9a3c-1099a609f9a8",
   "metadata": {},
   "source": [
    "**유튜브 뮤직의 첫화면에서 처음 접속한 사용자에게 좋아하는 아티스트 5명 이상의 정보를 요구하는 이유는 무엇일까?**\n",
    "\n",
    "처음 접속한 사용자라면 이 사용자에 대한 아무런 초기 정보가 없는 상황이어서 사용자 기반 추천을 전혀 할 수 없어 콘텐츠 기반 필터링 방식의 추천만 가능한데, 이를 보완하여 처음부터 사용자 특성에 따른 맞춤형 서비스를 제공하기 위해서입니다.\n",
    "\n",
    "사용자 맞춤형 추천을 제공하지 못한다면 모든 초기 사용자에게 같은 화면을 제시할 수밖에 없는데, 이러면 모든 사용자들이 처음 추천받은 콘텐츠 위주로만 시청하게 되어 추천시스템이 빠지기 쉬운 **필터 버블**의 문제을 야기하거나, 추천의 다양성을 저해할 수 있는 위험이 생깁니다."
   ]
  },
  {
   "cell_type": "markdown",
   "id": "aab9b3ef-b915-46b3-8cd8-f0d542f0c6bb",
   "metadata": {},
   "source": [
    "참고자료\n",
    "\n",
    "https://dl.moazine.com/viewer/index.asp?libraryid=9MtJb2T3nzH3yk7c212iu821DPFsY2ECOso0&a_i=8wwot4affaz3r6syx11VOYm2&keyword=&s_i=9#page/2"
   ]
  }
 ],
 "metadata": {
  "kernelspec": {
   "display_name": "Python 3 (ipykernel)",
   "language": "python",
   "name": "python3"
  },
  "language_info": {
   "codemirror_mode": {
    "name": "ipython",
    "version": 3
   },
   "file_extension": ".py",
   "mimetype": "text/x-python",
   "name": "python",
   "nbconvert_exporter": "python",
   "pygments_lexer": "ipython3",
   "version": "3.12.7"
  }
 },
 "nbformat": 4,
 "nbformat_minor": 5
}
